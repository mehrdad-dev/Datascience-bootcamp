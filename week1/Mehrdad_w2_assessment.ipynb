{
  "cells": [
    {
      "cell_type": "markdown",
      "source": [
        "# Neshan Bootcamp\n",
        "\n",
        "Mehrdad Mohammadian"
      ],
      "metadata": {
        "id": "Y_mPubRBr06p"
      }
    },
    {
      "cell_type": "code",
      "execution_count": null,
      "metadata": {
        "id": "Z8hffF4GVqVE"
      },
      "outputs": [],
      "source": [
        "import numpy as np\n",
        "import pandas as pd\n",
        "import seaborn as sns\n",
        "import scipy.stats as stats\n",
        "%matplotlib inline\n",
        "import matplotlib.pyplot as plt\n",
        "pd.set_option('display.max_columns', 100)"
      ]
    },
    {
      "cell_type": "code",
      "source": [
        "from google.colab import drive\n",
        "drive.mount('/content/drive')"
      ],
      "metadata": {
        "id": "_1chFymyNVgA",
        "outputId": "351a6925-574b-413c-d2f4-7dfbc603ab29",
        "colab": {
          "base_uri": "https://localhost:8080/"
        }
      },
      "execution_count": null,
      "outputs": [
        {
          "output_type": "stream",
          "name": "stdout",
          "text": [
            "Mounted at /content/drive\n"
          ]
        }
      ]
    },
    {
      "cell_type": "code",
      "execution_count": null,
      "metadata": {
        "id": "4aWn8_-iVqVH"
      },
      "outputs": [],
      "source": [
        "# First, you must import the data from the path given above\n",
        "df = pd.read_csv(\"/content/drive/MyDrive/Data Scientist/Statistics/Statistical Inference/nhanes_2015_2016.csv\")"
      ]
    },
    {
      "cell_type": "code",
      "execution_count": null,
      "metadata": {
        "colab": {
          "base_uri": "https://localhost:8080/",
          "height": 270
        },
        "id": "vssAkE_cVqVK",
        "outputId": "dbfa545f-3d33-4cc3-e438-c0902873259a"
      },
      "outputs": [
        {
          "output_type": "execute_result",
          "data": {
            "text/plain": [
              "    SEQN  ALQ101  ALQ110  ALQ130  SMQ020  RIAGENDR  RIDAGEYR  RIDRETH1  \\\n",
              "0  83732     1.0     NaN     1.0       1         1        62         3   \n",
              "1  83733     1.0     NaN     6.0       1         1        53         3   \n",
              "2  83734     1.0     NaN     NaN       1         1        78         3   \n",
              "3  83735     2.0     1.0     1.0       2         2        56         3   \n",
              "4  83736     2.0     1.0     1.0       2         2        42         4   \n",
              "\n",
              "   DMDCITZN  DMDEDUC2  DMDMARTL  DMDHHSIZ   WTINT2YR  SDMVPSU  SDMVSTRA  \\\n",
              "0       1.0       5.0       1.0         2  134671.37        1       125   \n",
              "1       2.0       3.0       3.0         1   24328.56        1       125   \n",
              "2       1.0       3.0       1.0         2   12400.01        1       131   \n",
              "3       1.0       5.0       6.0         1  102718.00        1       131   \n",
              "4       1.0       4.0       3.0         5   17627.67        2       126   \n",
              "\n",
              "   INDFMPIR  BPXSY1  BPXDI1  BPXSY2  BPXDI2  BMXWT  BMXHT  BMXBMI  BMXLEG  \\\n",
              "0      4.39   128.0    70.0   124.0    64.0   94.8  184.5    27.8    43.3   \n",
              "1      1.32   146.0    88.0   140.0    88.0   90.4  171.4    30.8    38.0   \n",
              "2      1.51   138.0    46.0   132.0    44.0   83.4  170.1    28.8    35.6   \n",
              "3      5.00   132.0    72.0   134.0    68.0  109.8  160.9    42.4    38.5   \n",
              "4      1.23   100.0    70.0   114.0    54.0   55.2  164.9    20.3    37.4   \n",
              "\n",
              "   BMXARML  BMXARMC  BMXWAIST  HIQ210  \n",
              "0     43.6     35.9     101.1     2.0  \n",
              "1     40.0     33.2     107.9     NaN  \n",
              "2     37.0     31.0     116.5     2.0  \n",
              "3     37.7     38.3     110.1     2.0  \n",
              "4     36.0     27.2      80.4     2.0  "
            ],
            "text/html": [
              "\n",
              "\n",
              "  <div id=\"df-598fac87-fc65-4f39-ac1b-1b543591d62d\">\n",
              "    <div class=\"colab-df-container\">\n",
              "      <div>\n",
              "<style scoped>\n",
              "    .dataframe tbody tr th:only-of-type {\n",
              "        vertical-align: middle;\n",
              "    }\n",
              "\n",
              "    .dataframe tbody tr th {\n",
              "        vertical-align: top;\n",
              "    }\n",
              "\n",
              "    .dataframe thead th {\n",
              "        text-align: right;\n",
              "    }\n",
              "</style>\n",
              "<table border=\"1\" class=\"dataframe\">\n",
              "  <thead>\n",
              "    <tr style=\"text-align: right;\">\n",
              "      <th></th>\n",
              "      <th>SEQN</th>\n",
              "      <th>ALQ101</th>\n",
              "      <th>ALQ110</th>\n",
              "      <th>ALQ130</th>\n",
              "      <th>SMQ020</th>\n",
              "      <th>RIAGENDR</th>\n",
              "      <th>RIDAGEYR</th>\n",
              "      <th>RIDRETH1</th>\n",
              "      <th>DMDCITZN</th>\n",
              "      <th>DMDEDUC2</th>\n",
              "      <th>DMDMARTL</th>\n",
              "      <th>DMDHHSIZ</th>\n",
              "      <th>WTINT2YR</th>\n",
              "      <th>SDMVPSU</th>\n",
              "      <th>SDMVSTRA</th>\n",
              "      <th>INDFMPIR</th>\n",
              "      <th>BPXSY1</th>\n",
              "      <th>BPXDI1</th>\n",
              "      <th>BPXSY2</th>\n",
              "      <th>BPXDI2</th>\n",
              "      <th>BMXWT</th>\n",
              "      <th>BMXHT</th>\n",
              "      <th>BMXBMI</th>\n",
              "      <th>BMXLEG</th>\n",
              "      <th>BMXARML</th>\n",
              "      <th>BMXARMC</th>\n",
              "      <th>BMXWAIST</th>\n",
              "      <th>HIQ210</th>\n",
              "    </tr>\n",
              "  </thead>\n",
              "  <tbody>\n",
              "    <tr>\n",
              "      <th>0</th>\n",
              "      <td>83732</td>\n",
              "      <td>1.0</td>\n",
              "      <td>NaN</td>\n",
              "      <td>1.0</td>\n",
              "      <td>1</td>\n",
              "      <td>1</td>\n",
              "      <td>62</td>\n",
              "      <td>3</td>\n",
              "      <td>1.0</td>\n",
              "      <td>5.0</td>\n",
              "      <td>1.0</td>\n",
              "      <td>2</td>\n",
              "      <td>134671.37</td>\n",
              "      <td>1</td>\n",
              "      <td>125</td>\n",
              "      <td>4.39</td>\n",
              "      <td>128.0</td>\n",
              "      <td>70.0</td>\n",
              "      <td>124.0</td>\n",
              "      <td>64.0</td>\n",
              "      <td>94.8</td>\n",
              "      <td>184.5</td>\n",
              "      <td>27.8</td>\n",
              "      <td>43.3</td>\n",
              "      <td>43.6</td>\n",
              "      <td>35.9</td>\n",
              "      <td>101.1</td>\n",
              "      <td>2.0</td>\n",
              "    </tr>\n",
              "    <tr>\n",
              "      <th>1</th>\n",
              "      <td>83733</td>\n",
              "      <td>1.0</td>\n",
              "      <td>NaN</td>\n",
              "      <td>6.0</td>\n",
              "      <td>1</td>\n",
              "      <td>1</td>\n",
              "      <td>53</td>\n",
              "      <td>3</td>\n",
              "      <td>2.0</td>\n",
              "      <td>3.0</td>\n",
              "      <td>3.0</td>\n",
              "      <td>1</td>\n",
              "      <td>24328.56</td>\n",
              "      <td>1</td>\n",
              "      <td>125</td>\n",
              "      <td>1.32</td>\n",
              "      <td>146.0</td>\n",
              "      <td>88.0</td>\n",
              "      <td>140.0</td>\n",
              "      <td>88.0</td>\n",
              "      <td>90.4</td>\n",
              "      <td>171.4</td>\n",
              "      <td>30.8</td>\n",
              "      <td>38.0</td>\n",
              "      <td>40.0</td>\n",
              "      <td>33.2</td>\n",
              "      <td>107.9</td>\n",
              "      <td>NaN</td>\n",
              "    </tr>\n",
              "    <tr>\n",
              "      <th>2</th>\n",
              "      <td>83734</td>\n",
              "      <td>1.0</td>\n",
              "      <td>NaN</td>\n",
              "      <td>NaN</td>\n",
              "      <td>1</td>\n",
              "      <td>1</td>\n",
              "      <td>78</td>\n",
              "      <td>3</td>\n",
              "      <td>1.0</td>\n",
              "      <td>3.0</td>\n",
              "      <td>1.0</td>\n",
              "      <td>2</td>\n",
              "      <td>12400.01</td>\n",
              "      <td>1</td>\n",
              "      <td>131</td>\n",
              "      <td>1.51</td>\n",
              "      <td>138.0</td>\n",
              "      <td>46.0</td>\n",
              "      <td>132.0</td>\n",
              "      <td>44.0</td>\n",
              "      <td>83.4</td>\n",
              "      <td>170.1</td>\n",
              "      <td>28.8</td>\n",
              "      <td>35.6</td>\n",
              "      <td>37.0</td>\n",
              "      <td>31.0</td>\n",
              "      <td>116.5</td>\n",
              "      <td>2.0</td>\n",
              "    </tr>\n",
              "    <tr>\n",
              "      <th>3</th>\n",
              "      <td>83735</td>\n",
              "      <td>2.0</td>\n",
              "      <td>1.0</td>\n",
              "      <td>1.0</td>\n",
              "      <td>2</td>\n",
              "      <td>2</td>\n",
              "      <td>56</td>\n",
              "      <td>3</td>\n",
              "      <td>1.0</td>\n",
              "      <td>5.0</td>\n",
              "      <td>6.0</td>\n",
              "      <td>1</td>\n",
              "      <td>102718.00</td>\n",
              "      <td>1</td>\n",
              "      <td>131</td>\n",
              "      <td>5.00</td>\n",
              "      <td>132.0</td>\n",
              "      <td>72.0</td>\n",
              "      <td>134.0</td>\n",
              "      <td>68.0</td>\n",
              "      <td>109.8</td>\n",
              "      <td>160.9</td>\n",
              "      <td>42.4</td>\n",
              "      <td>38.5</td>\n",
              "      <td>37.7</td>\n",
              "      <td>38.3</td>\n",
              "      <td>110.1</td>\n",
              "      <td>2.0</td>\n",
              "    </tr>\n",
              "    <tr>\n",
              "      <th>4</th>\n",
              "      <td>83736</td>\n",
              "      <td>2.0</td>\n",
              "      <td>1.0</td>\n",
              "      <td>1.0</td>\n",
              "      <td>2</td>\n",
              "      <td>2</td>\n",
              "      <td>42</td>\n",
              "      <td>4</td>\n",
              "      <td>1.0</td>\n",
              "      <td>4.0</td>\n",
              "      <td>3.0</td>\n",
              "      <td>5</td>\n",
              "      <td>17627.67</td>\n",
              "      <td>2</td>\n",
              "      <td>126</td>\n",
              "      <td>1.23</td>\n",
              "      <td>100.0</td>\n",
              "      <td>70.0</td>\n",
              "      <td>114.0</td>\n",
              "      <td>54.0</td>\n",
              "      <td>55.2</td>\n",
              "      <td>164.9</td>\n",
              "      <td>20.3</td>\n",
              "      <td>37.4</td>\n",
              "      <td>36.0</td>\n",
              "      <td>27.2</td>\n",
              "      <td>80.4</td>\n",
              "      <td>2.0</td>\n",
              "    </tr>\n",
              "  </tbody>\n",
              "</table>\n",
              "</div>\n",
              "      <button class=\"colab-df-convert\" onclick=\"convertToInteractive('df-598fac87-fc65-4f39-ac1b-1b543591d62d')\"\n",
              "              title=\"Convert this dataframe to an interactive table.\"\n",
              "              style=\"display:none;\">\n",
              "\n",
              "  <svg xmlns=\"http://www.w3.org/2000/svg\" height=\"24px\"viewBox=\"0 0 24 24\"\n",
              "       width=\"24px\">\n",
              "    <path d=\"M0 0h24v24H0V0z\" fill=\"none\"/>\n",
              "    <path d=\"M18.56 5.44l.94 2.06.94-2.06 2.06-.94-2.06-.94-.94-2.06-.94 2.06-2.06.94zm-11 1L8.5 8.5l.94-2.06 2.06-.94-2.06-.94L8.5 2.5l-.94 2.06-2.06.94zm10 10l.94 2.06.94-2.06 2.06-.94-2.06-.94-.94-2.06-.94 2.06-2.06.94z\"/><path d=\"M17.41 7.96l-1.37-1.37c-.4-.4-.92-.59-1.43-.59-.52 0-1.04.2-1.43.59L10.3 9.45l-7.72 7.72c-.78.78-.78 2.05 0 2.83L4 21.41c.39.39.9.59 1.41.59.51 0 1.02-.2 1.41-.59l7.78-7.78 2.81-2.81c.8-.78.8-2.07 0-2.86zM5.41 20L4 18.59l7.72-7.72 1.47 1.35L5.41 20z\"/>\n",
              "  </svg>\n",
              "      </button>\n",
              "\n",
              "\n",
              "\n",
              "    <div id=\"df-a134120b-c3ee-4aa0-9e10-69f73a81d8bf\">\n",
              "      <button class=\"colab-df-quickchart\" onclick=\"quickchart('df-a134120b-c3ee-4aa0-9e10-69f73a81d8bf')\"\n",
              "              title=\"Suggest charts.\"\n",
              "              style=\"display:none;\">\n",
              "\n",
              "<svg xmlns=\"http://www.w3.org/2000/svg\" height=\"24px\"viewBox=\"0 0 24 24\"\n",
              "     width=\"24px\">\n",
              "    <g>\n",
              "        <path d=\"M19 3H5c-1.1 0-2 .9-2 2v14c0 1.1.9 2 2 2h14c1.1 0 2-.9 2-2V5c0-1.1-.9-2-2-2zM9 17H7v-7h2v7zm4 0h-2V7h2v10zm4 0h-2v-4h2v4z\"/>\n",
              "    </g>\n",
              "</svg>\n",
              "      </button>\n",
              "    </div>\n",
              "\n",
              "<style>\n",
              "  .colab-df-quickchart {\n",
              "    background-color: #E8F0FE;\n",
              "    border: none;\n",
              "    border-radius: 50%;\n",
              "    cursor: pointer;\n",
              "    display: none;\n",
              "    fill: #1967D2;\n",
              "    height: 32px;\n",
              "    padding: 0 0 0 0;\n",
              "    width: 32px;\n",
              "  }\n",
              "\n",
              "  .colab-df-quickchart:hover {\n",
              "    background-color: #E2EBFA;\n",
              "    box-shadow: 0px 1px 2px rgba(60, 64, 67, 0.3), 0px 1px 3px 1px rgba(60, 64, 67, 0.15);\n",
              "    fill: #174EA6;\n",
              "  }\n",
              "\n",
              "  [theme=dark] .colab-df-quickchart {\n",
              "    background-color: #3B4455;\n",
              "    fill: #D2E3FC;\n",
              "  }\n",
              "\n",
              "  [theme=dark] .colab-df-quickchart:hover {\n",
              "    background-color: #434B5C;\n",
              "    box-shadow: 0px 1px 3px 1px rgba(0, 0, 0, 0.15);\n",
              "    filter: drop-shadow(0px 1px 2px rgba(0, 0, 0, 0.3));\n",
              "    fill: #FFFFFF;\n",
              "  }\n",
              "</style>\n",
              "\n",
              "    <script>\n",
              "      async function quickchart(key) {\n",
              "        const containerElement = document.querySelector('#' + key);\n",
              "        const charts = await google.colab.kernel.invokeFunction(\n",
              "            'suggestCharts', [key], {});\n",
              "      }\n",
              "    </script>\n",
              "\n",
              "      <script>\n",
              "\n",
              "function displayQuickchartButton(domScope) {\n",
              "  let quickchartButtonEl =\n",
              "    domScope.querySelector('#df-a134120b-c3ee-4aa0-9e10-69f73a81d8bf button.colab-df-quickchart');\n",
              "  quickchartButtonEl.style.display =\n",
              "    google.colab.kernel.accessAllowed ? 'block' : 'none';\n",
              "}\n",
              "\n",
              "        displayQuickchartButton(document);\n",
              "      </script>\n",
              "      <style>\n",
              "    .colab-df-container {\n",
              "      display:flex;\n",
              "      flex-wrap:wrap;\n",
              "      gap: 12px;\n",
              "    }\n",
              "\n",
              "    .colab-df-convert {\n",
              "      background-color: #E8F0FE;\n",
              "      border: none;\n",
              "      border-radius: 50%;\n",
              "      cursor: pointer;\n",
              "      display: none;\n",
              "      fill: #1967D2;\n",
              "      height: 32px;\n",
              "      padding: 0 0 0 0;\n",
              "      width: 32px;\n",
              "    }\n",
              "\n",
              "    .colab-df-convert:hover {\n",
              "      background-color: #E2EBFA;\n",
              "      box-shadow: 0px 1px 2px rgba(60, 64, 67, 0.3), 0px 1px 3px 1px rgba(60, 64, 67, 0.15);\n",
              "      fill: #174EA6;\n",
              "    }\n",
              "\n",
              "    [theme=dark] .colab-df-convert {\n",
              "      background-color: #3B4455;\n",
              "      fill: #D2E3FC;\n",
              "    }\n",
              "\n",
              "    [theme=dark] .colab-df-convert:hover {\n",
              "      background-color: #434B5C;\n",
              "      box-shadow: 0px 1px 3px 1px rgba(0, 0, 0, 0.15);\n",
              "      filter: drop-shadow(0px 1px 2px rgba(0, 0, 0, 0.3));\n",
              "      fill: #FFFFFF;\n",
              "    }\n",
              "  </style>\n",
              "\n",
              "      <script>\n",
              "        const buttonEl =\n",
              "          document.querySelector('#df-598fac87-fc65-4f39-ac1b-1b543591d62d button.colab-df-convert');\n",
              "        buttonEl.style.display =\n",
              "          google.colab.kernel.accessAllowed ? 'block' : 'none';\n",
              "\n",
              "        async function convertToInteractive(key) {\n",
              "          const element = document.querySelector('#df-598fac87-fc65-4f39-ac1b-1b543591d62d');\n",
              "          const dataTable =\n",
              "            await google.colab.kernel.invokeFunction('convertToInteractive',\n",
              "                                                     [key], {});\n",
              "          if (!dataTable) return;\n",
              "\n",
              "          const docLinkHtml = 'Like what you see? Visit the ' +\n",
              "            '<a target=\"_blank\" href=https://colab.research.google.com/notebooks/data_table.ipynb>data table notebook</a>'\n",
              "            + ' to learn more about interactive tables.';\n",
              "          element.innerHTML = '';\n",
              "          dataTable['output_type'] = 'display_data';\n",
              "          await google.colab.output.renderOutput(dataTable, element);\n",
              "          const docLink = document.createElement('div');\n",
              "          docLink.innerHTML = docLinkHtml;\n",
              "          element.appendChild(docLink);\n",
              "        }\n",
              "      </script>\n",
              "    </div>\n",
              "  </div>\n"
            ]
          },
          "metadata": {},
          "execution_count": 35
        }
      ],
      "source": [
        "# Next, look at the 'head' of our DataFrame 'df'.\n",
        "\n",
        "df.head()\n",
        "\n",
        "# If you can't remember a function, open a previous notebook or video as a reference\n",
        "# or use your favorite search engine to look for a solution"
      ]
    },
    {
      "cell_type": "code",
      "source": [
        "# we also have .tail() to look at the end of our dataframe.\n",
        "df.tail()"
      ],
      "metadata": {
        "colab": {
          "base_uri": "https://localhost:8080/",
          "height": 270
        },
        "id": "-jndka1uxqfX",
        "outputId": "6381070e-35b2-4d0b-c6ba-1d8d402302a7"
      },
      "execution_count": null,
      "outputs": [
        {
          "output_type": "execute_result",
          "data": {
            "text/plain": [
              "       SEQN  ALQ101  ALQ110  ALQ130  SMQ020  RIAGENDR  RIDAGEYR  RIDRETH1  \\\n",
              "5730  93695     2.0     2.0     NaN       1         2        76         3   \n",
              "5731  93696     2.0     2.0     NaN       2         1        26         3   \n",
              "5732  93697     1.0     NaN     1.0       1         2        80         3   \n",
              "5733  93700     NaN     NaN     NaN       1         1        35         3   \n",
              "5734  93702     1.0     NaN     2.0       2         2        24         3   \n",
              "\n",
              "      DMDCITZN  DMDEDUC2  DMDMARTL  DMDHHSIZ   WTINT2YR  SDMVPSU  SDMVSTRA  \\\n",
              "5730       1.0       3.0       2.0         1   58614.08        2       130   \n",
              "5731       1.0       5.0       1.0         3  122920.60        1       121   \n",
              "5732       1.0       4.0       2.0         1   49050.06        2       132   \n",
              "5733       2.0       1.0       1.0         5   42314.29        1       126   \n",
              "5734       1.0       5.0       5.0         3  107361.91        2       119   \n",
              "\n",
              "      INDFMPIR  BPXSY1  BPXDI1  BPXSY2  BPXDI2  BMXWT  BMXHT  BMXBMI  BMXLEG  \\\n",
              "5730      1.43   112.0    48.0   112.0    46.0   59.1  165.8    21.5    38.2   \n",
              "5731      2.99   118.0    68.0   116.0    76.0  112.1  182.2    33.8    43.4   \n",
              "5732      2.97   154.0    56.0   146.0    58.0   71.7  152.2    31.0    31.3   \n",
              "5733      0.00   104.0    62.0   106.0    66.0   78.2  173.3    26.0    40.3   \n",
              "5734      3.54   118.0    66.0   114.0    68.0   58.3  165.0    21.4    38.2   \n",
              "\n",
              "      BMXARML  BMXARMC  BMXWAIST  HIQ210  \n",
              "5730     37.0     29.5      95.0     2.0  \n",
              "5731     41.8     42.3     110.2     2.0  \n",
              "5732     37.5     28.8       NaN     2.0  \n",
              "5733     37.5     30.6      98.9     2.0  \n",
              "5734     33.5     26.2      72.5     2.0  "
            ],
            "text/html": [
              "\n",
              "\n",
              "  <div id=\"df-3b62e02b-0f5f-47c1-8042-461b7fdf3443\">\n",
              "    <div class=\"colab-df-container\">\n",
              "      <div>\n",
              "<style scoped>\n",
              "    .dataframe tbody tr th:only-of-type {\n",
              "        vertical-align: middle;\n",
              "    }\n",
              "\n",
              "    .dataframe tbody tr th {\n",
              "        vertical-align: top;\n",
              "    }\n",
              "\n",
              "    .dataframe thead th {\n",
              "        text-align: right;\n",
              "    }\n",
              "</style>\n",
              "<table border=\"1\" class=\"dataframe\">\n",
              "  <thead>\n",
              "    <tr style=\"text-align: right;\">\n",
              "      <th></th>\n",
              "      <th>SEQN</th>\n",
              "      <th>ALQ101</th>\n",
              "      <th>ALQ110</th>\n",
              "      <th>ALQ130</th>\n",
              "      <th>SMQ020</th>\n",
              "      <th>RIAGENDR</th>\n",
              "      <th>RIDAGEYR</th>\n",
              "      <th>RIDRETH1</th>\n",
              "      <th>DMDCITZN</th>\n",
              "      <th>DMDEDUC2</th>\n",
              "      <th>DMDMARTL</th>\n",
              "      <th>DMDHHSIZ</th>\n",
              "      <th>WTINT2YR</th>\n",
              "      <th>SDMVPSU</th>\n",
              "      <th>SDMVSTRA</th>\n",
              "      <th>INDFMPIR</th>\n",
              "      <th>BPXSY1</th>\n",
              "      <th>BPXDI1</th>\n",
              "      <th>BPXSY2</th>\n",
              "      <th>BPXDI2</th>\n",
              "      <th>BMXWT</th>\n",
              "      <th>BMXHT</th>\n",
              "      <th>BMXBMI</th>\n",
              "      <th>BMXLEG</th>\n",
              "      <th>BMXARML</th>\n",
              "      <th>BMXARMC</th>\n",
              "      <th>BMXWAIST</th>\n",
              "      <th>HIQ210</th>\n",
              "    </tr>\n",
              "  </thead>\n",
              "  <tbody>\n",
              "    <tr>\n",
              "      <th>5730</th>\n",
              "      <td>93695</td>\n",
              "      <td>2.0</td>\n",
              "      <td>2.0</td>\n",
              "      <td>NaN</td>\n",
              "      <td>1</td>\n",
              "      <td>2</td>\n",
              "      <td>76</td>\n",
              "      <td>3</td>\n",
              "      <td>1.0</td>\n",
              "      <td>3.0</td>\n",
              "      <td>2.0</td>\n",
              "      <td>1</td>\n",
              "      <td>58614.08</td>\n",
              "      <td>2</td>\n",
              "      <td>130</td>\n",
              "      <td>1.43</td>\n",
              "      <td>112.0</td>\n",
              "      <td>48.0</td>\n",
              "      <td>112.0</td>\n",
              "      <td>46.0</td>\n",
              "      <td>59.1</td>\n",
              "      <td>165.8</td>\n",
              "      <td>21.5</td>\n",
              "      <td>38.2</td>\n",
              "      <td>37.0</td>\n",
              "      <td>29.5</td>\n",
              "      <td>95.0</td>\n",
              "      <td>2.0</td>\n",
              "    </tr>\n",
              "    <tr>\n",
              "      <th>5731</th>\n",
              "      <td>93696</td>\n",
              "      <td>2.0</td>\n",
              "      <td>2.0</td>\n",
              "      <td>NaN</td>\n",
              "      <td>2</td>\n",
              "      <td>1</td>\n",
              "      <td>26</td>\n",
              "      <td>3</td>\n",
              "      <td>1.0</td>\n",
              "      <td>5.0</td>\n",
              "      <td>1.0</td>\n",
              "      <td>3</td>\n",
              "      <td>122920.60</td>\n",
              "      <td>1</td>\n",
              "      <td>121</td>\n",
              "      <td>2.99</td>\n",
              "      <td>118.0</td>\n",
              "      <td>68.0</td>\n",
              "      <td>116.0</td>\n",
              "      <td>76.0</td>\n",
              "      <td>112.1</td>\n",
              "      <td>182.2</td>\n",
              "      <td>33.8</td>\n",
              "      <td>43.4</td>\n",
              "      <td>41.8</td>\n",
              "      <td>42.3</td>\n",
              "      <td>110.2</td>\n",
              "      <td>2.0</td>\n",
              "    </tr>\n",
              "    <tr>\n",
              "      <th>5732</th>\n",
              "      <td>93697</td>\n",
              "      <td>1.0</td>\n",
              "      <td>NaN</td>\n",
              "      <td>1.0</td>\n",
              "      <td>1</td>\n",
              "      <td>2</td>\n",
              "      <td>80</td>\n",
              "      <td>3</td>\n",
              "      <td>1.0</td>\n",
              "      <td>4.0</td>\n",
              "      <td>2.0</td>\n",
              "      <td>1</td>\n",
              "      <td>49050.06</td>\n",
              "      <td>2</td>\n",
              "      <td>132</td>\n",
              "      <td>2.97</td>\n",
              "      <td>154.0</td>\n",
              "      <td>56.0</td>\n",
              "      <td>146.0</td>\n",
              "      <td>58.0</td>\n",
              "      <td>71.7</td>\n",
              "      <td>152.2</td>\n",
              "      <td>31.0</td>\n",
              "      <td>31.3</td>\n",
              "      <td>37.5</td>\n",
              "      <td>28.8</td>\n",
              "      <td>NaN</td>\n",
              "      <td>2.0</td>\n",
              "    </tr>\n",
              "    <tr>\n",
              "      <th>5733</th>\n",
              "      <td>93700</td>\n",
              "      <td>NaN</td>\n",
              "      <td>NaN</td>\n",
              "      <td>NaN</td>\n",
              "      <td>1</td>\n",
              "      <td>1</td>\n",
              "      <td>35</td>\n",
              "      <td>3</td>\n",
              "      <td>2.0</td>\n",
              "      <td>1.0</td>\n",
              "      <td>1.0</td>\n",
              "      <td>5</td>\n",
              "      <td>42314.29</td>\n",
              "      <td>1</td>\n",
              "      <td>126</td>\n",
              "      <td>0.00</td>\n",
              "      <td>104.0</td>\n",
              "      <td>62.0</td>\n",
              "      <td>106.0</td>\n",
              "      <td>66.0</td>\n",
              "      <td>78.2</td>\n",
              "      <td>173.3</td>\n",
              "      <td>26.0</td>\n",
              "      <td>40.3</td>\n",
              "      <td>37.5</td>\n",
              "      <td>30.6</td>\n",
              "      <td>98.9</td>\n",
              "      <td>2.0</td>\n",
              "    </tr>\n",
              "    <tr>\n",
              "      <th>5734</th>\n",
              "      <td>93702</td>\n",
              "      <td>1.0</td>\n",
              "      <td>NaN</td>\n",
              "      <td>2.0</td>\n",
              "      <td>2</td>\n",
              "      <td>2</td>\n",
              "      <td>24</td>\n",
              "      <td>3</td>\n",
              "      <td>1.0</td>\n",
              "      <td>5.0</td>\n",
              "      <td>5.0</td>\n",
              "      <td>3</td>\n",
              "      <td>107361.91</td>\n",
              "      <td>2</td>\n",
              "      <td>119</td>\n",
              "      <td>3.54</td>\n",
              "      <td>118.0</td>\n",
              "      <td>66.0</td>\n",
              "      <td>114.0</td>\n",
              "      <td>68.0</td>\n",
              "      <td>58.3</td>\n",
              "      <td>165.0</td>\n",
              "      <td>21.4</td>\n",
              "      <td>38.2</td>\n",
              "      <td>33.5</td>\n",
              "      <td>26.2</td>\n",
              "      <td>72.5</td>\n",
              "      <td>2.0</td>\n",
              "    </tr>\n",
              "  </tbody>\n",
              "</table>\n",
              "</div>\n",
              "      <button class=\"colab-df-convert\" onclick=\"convertToInteractive('df-3b62e02b-0f5f-47c1-8042-461b7fdf3443')\"\n",
              "              title=\"Convert this dataframe to an interactive table.\"\n",
              "              style=\"display:none;\">\n",
              "\n",
              "  <svg xmlns=\"http://www.w3.org/2000/svg\" height=\"24px\"viewBox=\"0 0 24 24\"\n",
              "       width=\"24px\">\n",
              "    <path d=\"M0 0h24v24H0V0z\" fill=\"none\"/>\n",
              "    <path d=\"M18.56 5.44l.94 2.06.94-2.06 2.06-.94-2.06-.94-.94-2.06-.94 2.06-2.06.94zm-11 1L8.5 8.5l.94-2.06 2.06-.94-2.06-.94L8.5 2.5l-.94 2.06-2.06.94zm10 10l.94 2.06.94-2.06 2.06-.94-2.06-.94-.94-2.06-.94 2.06-2.06.94z\"/><path d=\"M17.41 7.96l-1.37-1.37c-.4-.4-.92-.59-1.43-.59-.52 0-1.04.2-1.43.59L10.3 9.45l-7.72 7.72c-.78.78-.78 2.05 0 2.83L4 21.41c.39.39.9.59 1.41.59.51 0 1.02-.2 1.41-.59l7.78-7.78 2.81-2.81c.8-.78.8-2.07 0-2.86zM5.41 20L4 18.59l7.72-7.72 1.47 1.35L5.41 20z\"/>\n",
              "  </svg>\n",
              "      </button>\n",
              "\n",
              "\n",
              "\n",
              "    <div id=\"df-be7904cf-9ac4-40b0-98dc-860e66075579\">\n",
              "      <button class=\"colab-df-quickchart\" onclick=\"quickchart('df-be7904cf-9ac4-40b0-98dc-860e66075579')\"\n",
              "              title=\"Suggest charts.\"\n",
              "              style=\"display:none;\">\n",
              "\n",
              "<svg xmlns=\"http://www.w3.org/2000/svg\" height=\"24px\"viewBox=\"0 0 24 24\"\n",
              "     width=\"24px\">\n",
              "    <g>\n",
              "        <path d=\"M19 3H5c-1.1 0-2 .9-2 2v14c0 1.1.9 2 2 2h14c1.1 0 2-.9 2-2V5c0-1.1-.9-2-2-2zM9 17H7v-7h2v7zm4 0h-2V7h2v10zm4 0h-2v-4h2v4z\"/>\n",
              "    </g>\n",
              "</svg>\n",
              "      </button>\n",
              "    </div>\n",
              "\n",
              "<style>\n",
              "  .colab-df-quickchart {\n",
              "    background-color: #E8F0FE;\n",
              "    border: none;\n",
              "    border-radius: 50%;\n",
              "    cursor: pointer;\n",
              "    display: none;\n",
              "    fill: #1967D2;\n",
              "    height: 32px;\n",
              "    padding: 0 0 0 0;\n",
              "    width: 32px;\n",
              "  }\n",
              "\n",
              "  .colab-df-quickchart:hover {\n",
              "    background-color: #E2EBFA;\n",
              "    box-shadow: 0px 1px 2px rgba(60, 64, 67, 0.3), 0px 1px 3px 1px rgba(60, 64, 67, 0.15);\n",
              "    fill: #174EA6;\n",
              "  }\n",
              "\n",
              "  [theme=dark] .colab-df-quickchart {\n",
              "    background-color: #3B4455;\n",
              "    fill: #D2E3FC;\n",
              "  }\n",
              "\n",
              "  [theme=dark] .colab-df-quickchart:hover {\n",
              "    background-color: #434B5C;\n",
              "    box-shadow: 0px 1px 3px 1px rgba(0, 0, 0, 0.15);\n",
              "    filter: drop-shadow(0px 1px 2px rgba(0, 0, 0, 0.3));\n",
              "    fill: #FFFFFF;\n",
              "  }\n",
              "</style>\n",
              "\n",
              "    <script>\n",
              "      async function quickchart(key) {\n",
              "        const containerElement = document.querySelector('#' + key);\n",
              "        const charts = await google.colab.kernel.invokeFunction(\n",
              "            'suggestCharts', [key], {});\n",
              "      }\n",
              "    </script>\n",
              "\n",
              "      <script>\n",
              "\n",
              "function displayQuickchartButton(domScope) {\n",
              "  let quickchartButtonEl =\n",
              "    domScope.querySelector('#df-be7904cf-9ac4-40b0-98dc-860e66075579 button.colab-df-quickchart');\n",
              "  quickchartButtonEl.style.display =\n",
              "    google.colab.kernel.accessAllowed ? 'block' : 'none';\n",
              "}\n",
              "\n",
              "        displayQuickchartButton(document);\n",
              "      </script>\n",
              "      <style>\n",
              "    .colab-df-container {\n",
              "      display:flex;\n",
              "      flex-wrap:wrap;\n",
              "      gap: 12px;\n",
              "    }\n",
              "\n",
              "    .colab-df-convert {\n",
              "      background-color: #E8F0FE;\n",
              "      border: none;\n",
              "      border-radius: 50%;\n",
              "      cursor: pointer;\n",
              "      display: none;\n",
              "      fill: #1967D2;\n",
              "      height: 32px;\n",
              "      padding: 0 0 0 0;\n",
              "      width: 32px;\n",
              "    }\n",
              "\n",
              "    .colab-df-convert:hover {\n",
              "      background-color: #E2EBFA;\n",
              "      box-shadow: 0px 1px 2px rgba(60, 64, 67, 0.3), 0px 1px 3px 1px rgba(60, 64, 67, 0.15);\n",
              "      fill: #174EA6;\n",
              "    }\n",
              "\n",
              "    [theme=dark] .colab-df-convert {\n",
              "      background-color: #3B4455;\n",
              "      fill: #D2E3FC;\n",
              "    }\n",
              "\n",
              "    [theme=dark] .colab-df-convert:hover {\n",
              "      background-color: #434B5C;\n",
              "      box-shadow: 0px 1px 3px 1px rgba(0, 0, 0, 0.15);\n",
              "      filter: drop-shadow(0px 1px 2px rgba(0, 0, 0, 0.3));\n",
              "      fill: #FFFFFF;\n",
              "    }\n",
              "  </style>\n",
              "\n",
              "      <script>\n",
              "        const buttonEl =\n",
              "          document.querySelector('#df-3b62e02b-0f5f-47c1-8042-461b7fdf3443 button.colab-df-convert');\n",
              "        buttonEl.style.display =\n",
              "          google.colab.kernel.accessAllowed ? 'block' : 'none';\n",
              "\n",
              "        async function convertToInteractive(key) {\n",
              "          const element = document.querySelector('#df-3b62e02b-0f5f-47c1-8042-461b7fdf3443');\n",
              "          const dataTable =\n",
              "            await google.colab.kernel.invokeFunction('convertToInteractive',\n",
              "                                                     [key], {});\n",
              "          if (!dataTable) return;\n",
              "\n",
              "          const docLinkHtml = 'Like what you see? Visit the ' +\n",
              "            '<a target=\"_blank\" href=https://colab.research.google.com/notebooks/data_table.ipynb>data table notebook</a>'\n",
              "            + ' to learn more about interactive tables.';\n",
              "          element.innerHTML = '';\n",
              "          dataTable['output_type'] = 'display_data';\n",
              "          await google.colab.output.renderOutput(dataTable, element);\n",
              "          const docLink = document.createElement('div');\n",
              "          docLink.innerHTML = docLinkHtml;\n",
              "          element.appendChild(docLink);\n",
              "        }\n",
              "      </script>\n",
              "    </div>\n",
              "  </div>\n"
            ]
          },
          "metadata": {},
          "execution_count": 36
        }
      ]
    },
    {
      "cell_type": "markdown",
      "metadata": {
        "id": "J7ugBriFVqVM"
      },
      "source": [
        "# How many rows can you see when you don't put an argument into the previous method?           \n",
        "**ans: 5 rows**\n",
        "\n",
        "\n",
        "\n",
        "---\n",
        "\n",
        "\n",
        "# How many rows can you see if you use an int as an argument?\n",
        "**ans: Based on the given integer you will see n rows, from 0 to n-1**\n",
        "\n",
        "**For 10, you will give 0 to 9 indexes.**\n",
        "\n",
        "---\n",
        "\n",
        "\n",
        "# Can you use a float as an argument?\n",
        "**ans: No, you can't. The reason behind this is that in python indexes are int and this function retrieves rows based on indexing. To be precise, when you say I want to get first 10.5 rows, it does not make sense at all.**"
      ]
    },
    {
      "cell_type": "code",
      "execution_count": null,
      "metadata": {
        "colab": {
          "base_uri": "https://localhost:8080/"
        },
        "id": "4XSsICRaVqVN",
        "outputId": "d2d07aaf-90fd-4f2a-e269-eee7a0ccd9a3"
      },
      "outputs": [
        {
          "output_type": "execute_result",
          "data": {
            "text/plain": [
              "0    124.0\n",
              "1    140.0\n",
              "2    132.0\n",
              "3    134.0\n",
              "4    114.0\n",
              "Name: BPXSY2, dtype: float64"
            ]
          },
          "metadata": {},
          "execution_count": 59
        }
      ],
      "source": [
        "# Lets only consider the feature (or variable) 'BPXSY2'\n",
        "bp = df['BPXSY2']\n",
        "bp.head()"
      ]
    },
    {
      "cell_type": "markdown",
      "metadata": {
        "id": "WY9JGFQqVqVP"
      },
      "source": [
        "## Numerical Summaries\n",
        "### Find the mean (note this for the quiz that follows)"
      ]
    },
    {
      "cell_type": "code",
      "execution_count": null,
      "metadata": {
        "colab": {
          "base_uri": "https://localhost:8080/"
        },
        "id": "dXuc5WUZVqVQ",
        "outputId": "ceb0ed9f-7bf3-4cb7-b867-3d2e0027afa9"
      },
      "outputs": [
        {
          "output_type": "stream",
          "name": "stdout",
          "text": [
            "Mean of BPXSY2: 124.78301716350497\n"
          ]
        }
      ],
      "source": [
        "# What is the mean of 'BPXSY2'?\n",
        "bp_mean = np.mean(bp)\n",
        "print(\"Mean of BPXSY2:\", bp_mean)"
      ]
    },
    {
      "cell_type": "markdown",
      "metadata": {
        "id": "rPkNKQpIVqVS"
      },
      "source": [
        "\n",
        "\n",
        "# In the method you used above, how are the rows of missing data treated?   \n",
        "\n",
        "**ans: this function simply ignore the NAN/NULL values in computing of the average.**\n",
        "\n",
        "\n",
        "\n",
        "---\n",
        "\n",
        "\n",
        "\n",
        "\n",
        "# Are the excluded entirely? Are they counted as zeros? Something else?\n",
        "\n",
        "**ans: as I said above, np.mean() ignores all of them.**\n"
      ]
    },
    {
      "cell_type": "markdown",
      "source": [
        "# To answer the above questions, I also ran a simple test:\n",
        "\n",
        "by comparing the results, you can clearly see that np.mean() function simply\n",
        "ignore the NAN values, to calculate the average."
      ],
      "metadata": {
        "id": "7487an4t9fGs"
      }
    },
    {
      "cell_type": "code",
      "source": [
        "# we can see that we have NAN vlaues in our variable\n",
        "bp.isna().sum()\n",
        "\n",
        "# convert to python list\n",
        "listed_bp = bp.tolist()\n",
        "print(\"Original length of bp: \", len(listed_bp))\n",
        "\n",
        "# replace NAN values with 0 and calculate mean\n",
        "mean_listed_bp = np.mean([0 if np.isnan(i) else i for i in listed_bp])\n",
        "print(\"Mean, replaced NANs with 0: \", mean_listed_bp)\n",
        "\n",
        "\n",
        "# now, let's remove NAN values from our list and again calculate the mean\n",
        "mean_listed_bp = np.mean([i for i in listed_bp if not np.isnan(i)])\n",
        "print(\"Mean, removed NANs: \", mean_listed_bp)\n",
        "\n",
        "# calculate mean of the original bp, by numpy\n",
        "print(\"\\nMean of the original bp, np.mean(): \", np.mean(bp))"
      ],
      "metadata": {
        "colab": {
          "base_uri": "https://localhost:8080/"
        },
        "id": "urxipnQd9Oxs",
        "outputId": "18ffe999-b650-44f6-9eec-1d84044f2786"
      },
      "execution_count": null,
      "outputs": [
        {
          "output_type": "stream",
          "name": "stdout",
          "text": [
            "Original length of bp:  5735\n",
            "Mean, replaced NANs with 0:  120.43138622493461\n",
            "Mean, removed NANs:  124.78301716350497\n",
            "\n",
            "Mean of the original bp, np.mean():  124.78301716350497\n"
          ]
        }
      ]
    },
    {
      "cell_type": "markdown",
      "metadata": {
        "id": "bYSrLfPrVqVT"
      },
      "source": [
        "#### .dropna()\n",
        "To make sure we know that we aren't treating missing data in ways we don't want, lets go ahead and drop all the nans from our Series 'bp'"
      ]
    },
    {
      "cell_type": "code",
      "execution_count": null,
      "metadata": {
        "id": "CVEbGOm2VqVU"
      },
      "outputs": [],
      "source": [
        "bp = bp.dropna()"
      ]
    },
    {
      "cell_type": "markdown",
      "metadata": {
        "id": "JxanzMF-VqVW"
      },
      "source": [
        "### Find the:\n",
        "* Median\n",
        "* Max\n",
        "* Min\n",
        "* Standard deviation\n",
        "* Variance\n",
        "\n",
        "\n",
        "You can implement any of these from base python (that is, without any of the imported packages), but there are simple and intuitively named functions in the numpy library for all of these. You could also use the fact that 'bp' is not just a list, but is a pandas.Series. You can find pandas.Series attributes and methods [here](https://pandas.pydata.org/pandas-docs/version/0.23.4/generated/pandas.Series.html)\n",
        "\n",
        "A large part of programming is being able to find the functions you need and to understand the documentation formatting so that you can implement the code yourself, so we highly encourage you to search the internet whenever you are unsure!"
      ]
    },
    {
      "cell_type": "markdown",
      "metadata": {
        "id": "Sl2ANftxVqVX"
      },
      "source": [
        "### Example:\n",
        "Find the difference of an element in 'bp' compared with the previous element in 'bp'."
      ]
    },
    {
      "cell_type": "code",
      "execution_count": null,
      "metadata": {
        "id": "ZafG3rYOVqVX",
        "colab": {
          "base_uri": "https://localhost:8080/"
        },
        "outputId": "8ae4d67d-99c5-45c4-b813-481997a5f003"
      },
      "outputs": [
        {
          "output_type": "execute_result",
          "data": {
            "text/plain": [
              "array([ nan,  16.,  -8., ...,  30., -40.,   8.])"
            ]
          },
          "metadata": {},
          "execution_count": 9
        }
      ],
      "source": [
        "# Using the fact that 'bp' is a pd.Series object, can use the pd.Series method diff()\n",
        "# call this method by: pd.Series.diff()\n",
        "diff_by_series_method = bp.diff()\n",
        "# note that this returns a pd.Series object, that is, it had an index associated with it\n",
        "diff_by_series_method.values # only want to see the values, not the index and values"
      ]
    },
    {
      "cell_type": "code",
      "execution_count": null,
      "metadata": {
        "id": "SZYMNqmhVqVa",
        "colab": {
          "base_uri": "https://localhost:8080/"
        },
        "outputId": "824660f6-38fc-4645-f857-e5467bfcf63f"
      },
      "outputs": [
        {
          "output_type": "execute_result",
          "data": {
            "text/plain": [
              "array([ 16.,  -8.,   2., ...,  30., -40.,   8.])"
            ]
          },
          "metadata": {},
          "execution_count": 10
        }
      ],
      "source": [
        "# Now use the numpy library instead to find the same values\n",
        "# np.diff(array)\n",
        "diff_by_np_method = np.diff(bp)\n",
        "diff_by_np_method\n",
        "# note that this returns an 'numpy.ndarray', which has no index associated with it, and therefore ignores\n",
        "# the nan we get by the Series method"
      ]
    },
    {
      "cell_type": "code",
      "execution_count": null,
      "metadata": {
        "id": "lXikUOegVqVe",
        "colab": {
          "base_uri": "https://localhost:8080/"
        },
        "outputId": "211c7ffb-9fe7-46b9-aa56-d9a25f7f51f4"
      },
      "outputs": [
        {
          "output_type": "execute_result",
          "data": {
            "text/plain": [
              "array([ 16.,  -8.,   2., ...,  30., -40.,   8.])"
            ]
          },
          "metadata": {},
          "execution_count": 11
        }
      ],
      "source": [
        "# We could also implement this ourselves with some looping\n",
        "diff_by_me = [] # create an empty list\n",
        "for i in range(len(bp.values)-1): # iterate through the index values of bp\n",
        "    diff = bp.values[i+1] - bp.values[i] # find the difference between an element and the previous element\n",
        "    diff_by_me.append(diff) # append to out list\n",
        "np.array(diff_by_me) # format as an np.array"
      ]
    },
    {
      "cell_type": "markdown",
      "metadata": {
        "id": "oXbC8AedVqVh"
      },
      "source": [
        "### Your turn (note these values for the quiz that follows)"
      ]
    },
    {
      "cell_type": "code",
      "execution_count": null,
      "metadata": {
        "id": "I7TM59VaVqVt",
        "colab": {
          "base_uri": "https://localhost:8080/"
        },
        "outputId": "9a541cdb-e5e0-4faf-c068-b08490d64fba"
      },
      "outputs": [
        {
          "output_type": "stream",
          "name": "stdout",
          "text": [
            "Nedian: 122.0\n",
            "Max: 238.0\n",
            "Min: 84.0\n",
            "Standard deviation: 18.527011720294997\n",
            "Variance: 343.2501632839482\n",
            "\n",
            "count    5535.000000\n",
            "mean      124.783017\n",
            "std        18.527012\n",
            "min        84.000000\n",
            "25%       112.000000\n",
            "50%       122.000000\n",
            "75%       134.000000\n",
            "max       238.000000\n",
            "Name: BPXSY2, dtype: float64\n"
          ]
        }
      ],
      "source": [
        "bp_max = bp.max()\n",
        "bp_min = bp.min()\n",
        "bp_std = bp.std()\n",
        "bp_var = bp.var()\n",
        "bp_med = bp.median()\n",
        "\n",
        "print(f\"\"\"Nedian: {bp_med}\\nMax: {bp_max}\\nMin: {bp_min}\n",
        "Standard deviation: {bp_std}\\nVariance: {bp_var}\\n\"\"\")\n",
        "\n",
        "# we can also use .decribe() for a general infromation about the data.\n",
        "print(bp.describe())"
      ]
    },
    {
      "cell_type": "markdown",
      "metadata": {
        "id": "MciM1juSVqVv"
      },
      "source": [
        "### How to find the interquartile range (note this value for the quiz that follows)\n",
        "This time we need to use the scipy.stats library that we imported above under the name 'stats'"
      ]
    },
    {
      "cell_type": "code",
      "execution_count": null,
      "metadata": {
        "id": "K-utEYK_VqVw",
        "colab": {
          "base_uri": "https://localhost:8080/"
        },
        "outputId": "08462d88-17d6-4269-8b31-1f185da09c44"
      },
      "outputs": [
        {
          "output_type": "execute_result",
          "data": {
            "text/plain": [
              "22.0"
            ]
          },
          "metadata": {},
          "execution_count": 13
        }
      ],
      "source": [
        "bp_iqr = stats.iqr(bp)\n",
        "bp_iqr\n",
        "\n",
        "\n",
        "# IQR means = Q3 - Q1\n",
        "# it uses to measure the spread of the data"
      ]
    },
    {
      "cell_type": "markdown",
      "metadata": {
        "id": "D8VDp9ouVqVz"
      },
      "source": [
        "## Visualizing the data\n",
        "Next we'll use what you have learned from the *Tables, Histograms, Boxplots in Python* video"
      ]
    },
    {
      "cell_type": "code",
      "execution_count": null,
      "metadata": {
        "id": "a13hP6oIVqV0",
        "colab": {
          "base_uri": "https://localhost:8080/"
        },
        "outputId": "f3b9eedf-4604-4e42-b405-0e1f9bd0b85a"
      },
      "outputs": [
        {
          "output_type": "execute_result",
          "data": {
            "text/plain": [
              "count    5535.000000\n",
              "mean      124.783017\n",
              "std        18.527012\n",
              "min        84.000000\n",
              "25%       112.000000\n",
              "50%       122.000000\n",
              "75%       134.000000\n",
              "max       238.000000\n",
              "Name: BPXSY2, dtype: float64"
            ]
          },
          "metadata": {},
          "execution_count": 14
        }
      ],
      "source": [
        "# use the Series.describe() method to see some descriptive statistics of our Series 'bp'\n",
        "bp_descriptive_stats = bp.describe()\n",
        "bp_descriptive_stats"
      ]
    },
    {
      "cell_type": "code",
      "execution_count": null,
      "metadata": {
        "id": "eBz00oU_VqV2",
        "colab": {
          "base_uri": "https://localhost:8080/",
          "height": 546
        },
        "outputId": "4e5cad39-618f-4750-a17a-ec9d56a38a02"
      },
      "outputs": [
        {
          "output_type": "execute_result",
          "data": {
            "text/plain": [
              "Text(0.5, 1.0, 'Hostogram of bp')"
            ]
          },
          "metadata": {},
          "execution_count": 99
        },
        {
          "output_type": "display_data",
          "data": {
            "text/plain": [
              "<Figure size 500x500 with 1 Axes>"
            ],
            "image/png": "[encoded data removed]"
          },
          "metadata": {}
        }
      ],
      "source": [
        "# Make a histogram of our 'bp' data using the seaborn library we imported as 'sns'\n",
        "\n",
        "\n",
        "# Note: distplot() function is deprecated! So, here I used displot()\n",
        "sns.displot(bp, kde=False)\n",
        "plt.title(\"Hostogram of bp\")"
      ]
    },
    {
      "cell_type": "markdown",
      "metadata": {
        "id": "XMj_nGxkVqV4"
      },
      "source": [
        "Is your histogram labeled and does it have a title?\n",
        "If not, try appending\n",
        "```\n",
        ".set(title='your_title', xlabel='your_x_label', ylabel='your_y_label')\n",
        "```\n",
        "or just\n",
        "```\n",
        ".set(title='your_title')\n",
        "```\n",
        "to your graphing function"
      ]
    },
    {
      "cell_type": "code",
      "execution_count": null,
      "metadata": {
        "id": "7a4D9oeaVqV5",
        "colab": {
          "base_uri": "https://localhost:8080/",
          "height": 469
        },
        "outputId": "188c8ffd-524d-434b-819f-53a2940e0a6c"
      },
      "outputs": [
        {
          "output_type": "execute_result",
          "data": {
            "text/plain": [
              "[Text(0.5, 1.0, 'Boxplot of bp'), Text(0, 0.5, 'BPXSY2 values')]"
            ]
          },
          "metadata": {},
          "execution_count": 100
        },
        {
          "output_type": "display_data",
          "data": {
            "text/plain": [
              "<Figure size 640x480 with 1 Axes>"
            ],
            "image/png": "[encoded data removed]"
          },
          "metadata": {}
        }
      ],
      "source": [
        "# Make a boxplot of our 'bp' data using the seaborn library. Make sure it has a title and labels!\n",
        "sns.boxplot(bp).set(title=\"Boxplot of bp\", ylabel=\"BPXSY2 values\")"
      ]
    }
  ],
  "metadata": {
    "colab": {
      "collapsed_sections": [
        "Sl2ANftxVqVX"
      ],
      "provenance": []
    },
    "kernelspec": {
      "display_name": "Python 3",
      "language": "python",
      "name": "python3"
    },
    "language_info": {
      "codemirror_mode": {
        "name": "ipython",
        "version": 3
      },
      "file_extension": ".py",
      "mimetype": "text/x-python",
      "name": "python",
      "nbconvert_exporter": "python",
      "pygments_lexer": "ipython3",
      "version": "3.6.3"
    }
  },
  "nbformat": 4,
  "nbformat_minor": 0
}