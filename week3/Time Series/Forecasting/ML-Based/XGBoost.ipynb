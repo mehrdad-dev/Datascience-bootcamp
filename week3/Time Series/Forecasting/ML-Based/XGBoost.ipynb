{
  "cells": [
    {
      "cell_type": "markdown",
      "source": [
        "# Download dataset from Kaggle"
      ],
      "metadata": {
        "id": "c6-oUXqttc5v"
      },
      "id": "c6-oUXqttc5v"
    },
    {
      "cell_type": "code",
      "source": [
        "!ls -lha kaggle.json\n",
        "!pip install -q kaggle\n",
        "!mkdir -p ~/.kaggle\n",
        "!cp kaggle.json ~/.kaggle/\n",
        "!pwd\n",
        "!chmod 600 ~/.kaggle/kaggle.json\n",
        "\n",
        "!kaggle competitions download m5-forecasting-accuracy\n",
        "\n",
        "! unzip /content/m5-forecasting-accuracy.zip > /dev/null"
      ],
      "metadata": {
        "id": "CP35MgWKcRCP",
        "colab": {
          "base_uri": "https://localhost:8080/"
        },
        "outputId": "6225df95-3529-40dd-9362-29f5826afa2c"
      },
      "id": "CP35MgWKcRCP",
      "execution_count": 1,
      "outputs": [
        {
          "output_type": "stream",
          "name": "stdout",
          "text": [
            "-rw-r--r-- 1 root root 74 Sep  6 13:59 kaggle.json\n",
            "/content\n",
            "Downloading m5-forecasting-accuracy.zip to /content\n",
            " 55% 25.0M/45.8M [00:00<00:00, 123MB/s]\n",
            "100% 45.8M/45.8M [00:00<00:00, 152MB/s]\n"
          ]
        }
      ]
    },
    {
      "cell_type": "markdown",
      "source": [
        "# Libraries"
      ],
      "metadata": {
        "id": "avS6fS_othYH"
      },
      "id": "avS6fS_othYH"
    },
    {
      "cell_type": "code",
      "source": [
        "!pip uninstall xgboost\n",
        "! pip install https://s3-us-west-2.amazonaws.com/xgboost-nightly-builds/release_2.0.0/xgboost-2.0.0rc1%2B06487d3896c7090cf0c849547f55f4e07d009b97-py3-none-manylinux2014_x86_64.whl > /dev/null"
      ],
      "metadata": {
        "id": "awmgbGC-WVbf",
        "colab": {
          "base_uri": "https://localhost:8080/"
        },
        "outputId": "59ff07eb-66dc-4bc6-c08a-672990d5fcce"
      },
      "id": "awmgbGC-WVbf",
      "execution_count": 2,
      "outputs": [
        {
          "output_type": "stream",
          "name": "stdout",
          "text": [
            "Found existing installation: xgboost 1.7.6\n",
            "Uninstalling xgboost-1.7.6:\n",
            "  Would remove:\n",
            "    /usr/local/lib/python3.10/dist-packages/xgboost-1.7.6.dist-info/*\n",
            "    /usr/local/lib/python3.10/dist-packages/xgboost.libs/libgomp-a34b3233.so.1.0.0\n",
            "    /usr/local/lib/python3.10/dist-packages/xgboost/*\n",
            "Proceed (Y/n)? y\n",
            "  Successfully uninstalled xgboost-1.7.6\n"
          ]
        }
      ]
    },
    {
      "cell_type": "code",
      "execution_count": 14,
      "id": "6ff9db88-dc60-4232-98db-696687ad55e6",
      "metadata": {
        "id": "6ff9db88-dc60-4232-98db-696687ad55e6"
      },
      "outputs": [],
      "source": [
        "import plotly.graph_objects as go\n",
        "import matplotlib.pyplot as plt\n",
        "import plotly.subplots as sp\n",
        "import plotly.express as px\n",
        "from tqdm import tqdm\n",
        "import xgboost as xgb\n",
        "import seaborn as sns\n",
        "import pandas as pd\n",
        "import numpy as np\n",
        "import datetime\n",
        "import warnings\n",
        "import random\n",
        "import joblib\n",
        "import os\n",
        "import gc\n",
        "\n",
        "warnings.filterwarnings(\"ignore\")\n",
        "seed = 101\n",
        "random.seed(seed)\n",
        "np.random.seed(seed)"
      ]
    },
    {
      "cell_type": "markdown",
      "source": [
        "# Preparing dataset"
      ],
      "metadata": {
        "id": "n04NpBNNtkD8"
      },
      "id": "n04NpBNNtkD8"
    },
    {
      "cell_type": "code",
      "execution_count": 2,
      "id": "5cc17542-d907-4dd2-9699-dec65e93c139",
      "metadata": {
        "id": "5cc17542-d907-4dd2-9699-dec65e93c139"
      },
      "outputs": [],
      "source": [
        "sales = pd.read_csv('sales_train_evaluation.csv')\n",
        "sales.name = 'sales'\n",
        "calendar = pd.read_csv('calendar.csv')\n",
        "calendar.name = 'calendar'\n",
        "prices = pd.read_csv('sell_prices.csv')\n",
        "prices.name = 'prices'\n",
        "calendar.replace(np.nan, 'No_event', inplace=True)"
      ]
    },
    {
      "cell_type": "code",
      "source": [
        "for d in range(1942,1970):\n",
        "    col = 'd_' + str(d)\n",
        "    sales[col] = 0\n",
        "    sales[col] = sales[col].astype(np.int16)"
      ],
      "metadata": {
        "id": "ZAupIfpv--Q3"
      },
      "id": "ZAupIfpv--Q3",
      "execution_count": 3,
      "outputs": []
    },
    {
      "cell_type": "code",
      "source": [
        "categorical_columns = sales.select_dtypes(include=['object']).columns.tolist()\n",
        "sales[categorical_columns] = sales[categorical_columns].astype('category')"
      ],
      "metadata": {
        "id": "afKBVeJItCOK"
      },
      "id": "afKBVeJItCOK",
      "execution_count": 4,
      "outputs": []
    },
    {
      "cell_type": "code",
      "source": [
        "sales.head(1)"
      ],
      "metadata": {
        "colab": {
          "base_uri": "https://localhost:8080/",
          "height": 110
        },
        "id": "M5jvOtS5f6Ti",
        "outputId": "85d5b4b8-0153-4e28-d9a5-ec9721e86c3a"
      },
      "id": "M5jvOtS5f6Ti",
      "execution_count": 7,
      "outputs": [
        {
          "output_type": "execute_result",
          "data": {
            "text/plain": [
              "                              id        item_id    dept_id   cat_id store_id  \\\n",
              "0  HOBBIES_1_001_CA_1_evaluation  HOBBIES_1_001  HOBBIES_1  HOBBIES     CA_1   \n",
              "\n",
              "  state_id  d_1  d_2  d_3  d_4  ...  d_1960  d_1961  d_1962  d_1963  d_1964  \\\n",
              "0       CA    0    0    0    0  ...       0       0       0       0       0   \n",
              "\n",
              "   d_1965  d_1966  d_1967  d_1968  d_1969  \n",
              "0       0       0       0       0       0  \n",
              "\n",
              "[1 rows x 1975 columns]"
            ],
            "text/html": [
              "\n",
              "  <div id=\"df-d6403dec-8152-4c36-b5b4-1a4bc5173c6f\" class=\"colab-df-container\">\n",
              "    <div>\n",
              "<style scoped>\n",
              "    .dataframe tbody tr th:only-of-type {\n",
              "        vertical-align: middle;\n",
              "    }\n",
              "\n",
              "    .dataframe tbody tr th {\n",
              "        vertical-align: top;\n",
              "    }\n",
              "\n",
              "    .dataframe thead th {\n",
              "        text-align: right;\n",
              "    }\n",
              "</style>\n",
              "<table border=\"1\" class=\"dataframe\">\n",
              "  <thead>\n",
              "    <tr style=\"text-align: right;\">\n",
              "      <th></th>\n",
              "      <th>id</th>\n",
              "      <th>item_id</th>\n",
              "      <th>dept_id</th>\n",
              "      <th>cat_id</th>\n",
              "      <th>store_id</th>\n",
              "      <th>state_id</th>\n",
              "      <th>d_1</th>\n",
              "      <th>d_2</th>\n",
              "      <th>d_3</th>\n",
              "      <th>d_4</th>\n",
              "      <th>...</th>\n",
              "      <th>d_1960</th>\n",
              "      <th>d_1961</th>\n",
              "      <th>d_1962</th>\n",
              "      <th>d_1963</th>\n",
              "      <th>d_1964</th>\n",
              "      <th>d_1965</th>\n",
              "      <th>d_1966</th>\n",
              "      <th>d_1967</th>\n",
              "      <th>d_1968</th>\n",
              "      <th>d_1969</th>\n",
              "    </tr>\n",
              "  </thead>\n",
              "  <tbody>\n",
              "    <tr>\n",
              "      <th>0</th>\n",
              "      <td>HOBBIES_1_001_CA_1_evaluation</td>\n",
              "      <td>HOBBIES_1_001</td>\n",
              "      <td>HOBBIES_1</td>\n",
              "      <td>HOBBIES</td>\n",
              "      <td>CA_1</td>\n",
              "      <td>CA</td>\n",
              "      <td>0</td>\n",
              "      <td>0</td>\n",
              "      <td>0</td>\n",
              "      <td>0</td>\n",
              "      <td>...</td>\n",
              "      <td>0</td>\n",
              "      <td>0</td>\n",
              "      <td>0</td>\n",
              "      <td>0</td>\n",
              "      <td>0</td>\n",
              "      <td>0</td>\n",
              "      <td>0</td>\n",
              "      <td>0</td>\n",
              "      <td>0</td>\n",
              "      <td>0</td>\n",
              "    </tr>\n",
              "  </tbody>\n",
              "</table>\n",
              "<p>1 rows × 1975 columns</p>\n",
              "</div>\n",
              "    <div class=\"colab-df-buttons\">\n",
              "\n",
              "  <div class=\"colab-df-container\">\n",
              "    <button class=\"colab-df-convert\" onclick=\"convertToInteractive('df-d6403dec-8152-4c36-b5b4-1a4bc5173c6f')\"\n",
              "            title=\"Convert this dataframe to an interactive table.\"\n",
              "            style=\"display:none;\">\n",
              "\n",
              "  <svg xmlns=\"http://www.w3.org/2000/svg\" height=\"24px\" viewBox=\"0 -960 960 960\">\n",
              "    <path d=\"M120-120v-720h720v720H120Zm60-500h600v-160H180v160Zm220 220h160v-160H400v160Zm0 220h160v-160H400v160ZM180-400h160v-160H180v160Zm440 0h160v-160H620v160ZM180-180h160v-160H180v160Zm440 0h160v-160H620v160Z\"/>\n",
              "  </svg>\n",
              "    </button>\n",
              "\n",
              "  <style>\n",
              "    .colab-df-container {\n",
              "      display:flex;\n",
              "      gap: 12px;\n",
              "    }\n",
              "\n",
              "    .colab-df-convert {\n",
              "      background-color: #E8F0FE;\n",
              "      border: none;\n",
              "      border-radius: 50%;\n",
              "      cursor: pointer;\n",
              "      display: none;\n",
              "      fill: #1967D2;\n",
              "      height: 32px;\n",
              "      padding: 0 0 0 0;\n",
              "      width: 32px;\n",
              "    }\n",
              "\n",
              "    .colab-df-convert:hover {\n",
              "      background-color: #E2EBFA;\n",
              "      box-shadow: 0px 1px 2px rgba(60, 64, 67, 0.3), 0px 1px 3px 1px rgba(60, 64, 67, 0.15);\n",
              "      fill: #174EA6;\n",
              "    }\n",
              "\n",
              "    .colab-df-buttons div {\n",
              "      margin-bottom: 4px;\n",
              "    }\n",
              "\n",
              "    [theme=dark] .colab-df-convert {\n",
              "      background-color: #3B4455;\n",
              "      fill: #D2E3FC;\n",
              "    }\n",
              "\n",
              "    [theme=dark] .colab-df-convert:hover {\n",
              "      background-color: #434B5C;\n",
              "      box-shadow: 0px 1px 3px 1px rgba(0, 0, 0, 0.15);\n",
              "      filter: drop-shadow(0px 1px 2px rgba(0, 0, 0, 0.3));\n",
              "      fill: #FFFFFF;\n",
              "    }\n",
              "  </style>\n",
              "\n",
              "    <script>\n",
              "      const buttonEl =\n",
              "        document.querySelector('#df-d6403dec-8152-4c36-b5b4-1a4bc5173c6f button.colab-df-convert');\n",
              "      buttonEl.style.display =\n",
              "        google.colab.kernel.accessAllowed ? 'block' : 'none';\n",
              "\n",
              "      async function convertToInteractive(key) {\n",
              "        const element = document.querySelector('#df-d6403dec-8152-4c36-b5b4-1a4bc5173c6f');\n",
              "        const dataTable =\n",
              "          await google.colab.kernel.invokeFunction('convertToInteractive',\n",
              "                                                    [key], {});\n",
              "        if (!dataTable) return;\n",
              "\n",
              "        const docLinkHtml = 'Like what you see? Visit the ' +\n",
              "          '<a target=\"_blank\" href=https://colab.research.google.com/notebooks/data_table.ipynb>data table notebook</a>'\n",
              "          + ' to learn more about interactive tables.';\n",
              "        element.innerHTML = '';\n",
              "        dataTable['output_type'] = 'display_data';\n",
              "        await google.colab.output.renderOutput(dataTable, element);\n",
              "        const docLink = document.createElement('div');\n",
              "        docLink.innerHTML = docLinkHtml;\n",
              "        element.appendChild(docLink);\n",
              "      }\n",
              "    </script>\n",
              "  </div>\n",
              "\n",
              "    </div>\n",
              "  </div>\n"
            ]
          },
          "metadata": {},
          "execution_count": 7
        }
      ]
    },
    {
      "cell_type": "markdown",
      "source": [
        "We decided to use a technique called downcasting. It can help us to be more efficient."
      ],
      "metadata": {
        "id": "Dt-8gxTBttss"
      },
      "id": "Dt-8gxTBttss"
    },
    {
      "cell_type": "code",
      "execution_count": 5,
      "id": "f2a8a2e2-3fba-4727-a41c-6c87733fe985",
      "metadata": {
        "id": "f2a8a2e2-3fba-4727-a41c-6c87733fe985",
        "colab": {
          "base_uri": "https://localhost:8080/"
        },
        "outputId": "b85b3d35-c469-490a-a41e-2a76c24ce553"
      },
      "outputs": [
        {
          "output_type": "stream",
          "name": "stdout",
          "text": [
            "sales before downcast:  476792416\n"
          ]
        },
        {
          "output_type": "stream",
          "name": "stderr",
          "text": [
            "1975it [03:04, 10.68it/s] \n"
          ]
        },
        {
          "output_type": "stream",
          "name": "stdout",
          "text": [
            "sales after downcast:  101826396\n",
            "prices before downcast:  218916000\n"
          ]
        },
        {
          "output_type": "stream",
          "name": "stderr",
          "text": [
            "4it [00:00,  4.03it/s]\n"
          ]
        },
        {
          "output_type": "stream",
          "name": "stdout",
          "text": [
            "prices after downcast:  47978835\n",
            "calendar before downcast:  220656\n"
          ]
        },
        {
          "output_type": "stream",
          "name": "stderr",
          "text": [
            "14it [00:00, 991.91it/s]"
          ]
        },
        {
          "output_type": "stream",
          "name": "stdout",
          "text": [
            "calendar after downcast:  131456\n"
          ]
        },
        {
          "output_type": "stream",
          "name": "stderr",
          "text": [
            "\n"
          ]
        }
      ],
      "source": [
        "def downcast(df):\n",
        "    cols = df.dtypes.index.tolist()\n",
        "    types = df.dtypes.values.tolist()\n",
        "    for i,t in tqdm(enumerate(types)):\n",
        "        if 'int' in str(t):\n",
        "            if df[cols[i]].min() > np.iinfo(np.int8).min and df[cols[i]].max() < np.iinfo(np.int8).max:\n",
        "                df[cols[i]] = df[cols[i]].astype(np.int8)\n",
        "            elif df[cols[i]].min() > np.iinfo(np.int16).min and df[cols[i]].max() < np.iinfo(np.int16).max:\n",
        "                df[cols[i]] = df[cols[i]].astype(np.int16)\n",
        "            elif df[cols[i]].min() > np.iinfo(np.int32).min and df[cols[i]].max() < np.iinfo(np.int32).max:\n",
        "                df[cols[i]] = df[cols[i]].astype(np.int32)\n",
        "            else:\n",
        "                df[cols[i]] = df[cols[i]].astype(np.int64)\n",
        "        elif 'float' in str(t):\n",
        "            if df[cols[i]].min() > np.finfo(np.float16).min and df[cols[i]].max() < np.finfo(np.float16).max:\n",
        "                df[cols[i]] = df[cols[i]].astype(np.float16)\n",
        "            elif df[cols[i]].min() > np.finfo(np.float32).min and df[cols[i]].max() < np.finfo(np.float32).max:\n",
        "                df[cols[i]] = df[cols[i]].astype(np.float32)\n",
        "            else:\n",
        "                df[cols[i]] = df[cols[i]].astype(np.float64)\n",
        "        elif t == np.object:\n",
        "            if cols[i] == 'date':\n",
        "                df[cols[i]] = pd.to_datetime(df[cols[i]], format='%Y-%m-%d')\n",
        "            else:\n",
        "                df[cols[i]] = df[cols[i]].astype('category')\n",
        "    return df\n",
        "\n",
        "print('sales before downcast: ', sales.memory_usage().sum())\n",
        "sales = downcast(sales)\n",
        "print('sales after downcast: ', sales.memory_usage().sum())\n",
        "print('prices before downcast: ', prices.memory_usage().sum())\n",
        "prices = downcast(prices)\n",
        "print('prices after downcast: ', prices.memory_usage().sum())\n",
        "print('calendar before downcast: ', calendar.memory_usage().sum())\n",
        "calendar = downcast(calendar)\n",
        "print('calendar after downcast: ', calendar.memory_usage().sum())"
      ]
    },
    {
      "cell_type": "markdown",
      "source": [
        "### merge all data files"
      ],
      "metadata": {
        "id": "Wqcso3FfuVYJ"
      },
      "id": "Wqcso3FfuVYJ"
    },
    {
      "cell_type": "code",
      "source": [
        "gc.collect()"
      ],
      "metadata": {
        "colab": {
          "base_uri": "https://localhost:8080/"
        },
        "id": "IAyO0gzVzEjI",
        "outputId": "d4682965-3d70-4b34-80e4-3a3800cbda91"
      },
      "id": "IAyO0gzVzEjI",
      "execution_count": 6,
      "outputs": [
        {
          "output_type": "execute_result",
          "data": {
            "text/plain": [
              "0"
            ]
          },
          "metadata": {},
          "execution_count": 6
        }
      ]
    },
    {
      "cell_type": "code",
      "source": [
        "df = pd.melt(sales, id_vars=['id', 'item_id', 'dept_id', 'cat_id', 'store_id', 'state_id'], var_name='d', value_name='sold').dropna()"
      ],
      "metadata": {
        "id": "a1K_Tg11GLZI"
      },
      "id": "a1K_Tg11GLZI",
      "execution_count": 7,
      "outputs": []
    },
    {
      "cell_type": "code",
      "source": [
        "df = pd.merge(df, calendar, on='d', how='left')"
      ],
      "metadata": {
        "id": "SBQRraZAHvbm"
      },
      "id": "SBQRraZAHvbm",
      "execution_count": 8,
      "outputs": []
    },
    {
      "cell_type": "code",
      "execution_count": 9,
      "id": "de99aa49-dc9b-47e7-a3a6-c3d532241eb1",
      "metadata": {
        "id": "de99aa49-dc9b-47e7-a3a6-c3d532241eb1"
      },
      "outputs": [],
      "source": [
        "df = pd.merge(df, prices, on=['store_id','item_id','wm_yr_wk'], how='left')"
      ]
    },
    {
      "cell_type": "code",
      "source": [
        "df.dropna(inplace=True)"
      ],
      "metadata": {
        "id": "HD9Lj0n1z-Np"
      },
      "id": "HD9Lj0n1z-Np",
      "execution_count": 10,
      "outputs": []
    },
    {
      "cell_type": "code",
      "source": [
        "df.info()"
      ],
      "metadata": {
        "colab": {
          "base_uri": "https://localhost:8080/"
        },
        "id": "bsYOCuYmyipb",
        "outputId": "8876fada-998d-4a65-b8b5-cb0973794b65"
      },
      "id": "bsYOCuYmyipb",
      "execution_count": 11,
      "outputs": [
        {
          "output_type": "stream",
          "name": "stdout",
          "text": [
            "<class 'pandas.core.frame.DataFrame'>\n",
            "Int64Index: 47735397 entries, 7 to 60034809\n",
            "Data columns (total 22 columns):\n",
            " #   Column        Dtype         \n",
            "---  ------        -----         \n",
            " 0   id            category      \n",
            " 1   item_id       category      \n",
            " 2   dept_id       category      \n",
            " 3   cat_id        category      \n",
            " 4   store_id      category      \n",
            " 5   state_id      category      \n",
            " 6   d             object        \n",
            " 7   sold          int16         \n",
            " 8   date          datetime64[ns]\n",
            " 9   wm_yr_wk      int16         \n",
            " 10  weekday       category      \n",
            " 11  wday          int8          \n",
            " 12  month         int8          \n",
            " 13  year          int16         \n",
            " 14  event_name_1  category      \n",
            " 15  event_type_1  category      \n",
            " 16  event_name_2  category      \n",
            " 17  event_type_2  category      \n",
            " 18  snap_CA       int8          \n",
            " 19  snap_TX       int8          \n",
            " 20  snap_WI       int8          \n",
            " 21  sell_price    float16       \n",
            "dtypes: category(11), datetime64[ns](1), float16(1), int16(3), int8(5), object(1)\n",
            "memory usage: 2.2+ GB\n"
          ]
        }
      ]
    },
    {
      "cell_type": "code",
      "source": [
        "df.head(1)"
      ],
      "metadata": {
        "colab": {
          "base_uri": "https://localhost:8080/",
          "height": 165
        },
        "id": "j1NPR-0oxPlD",
        "outputId": "266aef4a-5d61-4b1c-8a28-c6411811d014"
      },
      "id": "j1NPR-0oxPlD",
      "execution_count": 16,
      "outputs": [
        {
          "output_type": "execute_result",
          "data": {
            "text/plain": [
              "                              id        item_id    dept_id   cat_id store_id  \\\n",
              "0  HOBBIES_1_001_CA_1_evaluation  HOBBIES_1_001  HOBBIES_1  HOBBIES     CA_1   \n",
              "\n",
              "  state_id    d  sold       date  wm_yr_wk  ... month  year  event_name_1  \\\n",
              "0       CA  d_1     0 2011-01-29     11101  ...     1  2011      No_event   \n",
              "\n",
              "   event_type_1 event_name_2 event_type_2 snap_CA snap_TX  snap_WI  sell_price  \n",
              "0      No_event     No_event     No_event       0       0        0         NaN  \n",
              "\n",
              "[1 rows x 22 columns]"
            ],
            "text/html": [
              "\n",
              "  <div id=\"df-1fa552a0-6fd5-465a-8692-40678e1fecbd\" class=\"colab-df-container\">\n",
              "    <div>\n",
              "<style scoped>\n",
              "    .dataframe tbody tr th:only-of-type {\n",
              "        vertical-align: middle;\n",
              "    }\n",
              "\n",
              "    .dataframe tbody tr th {\n",
              "        vertical-align: top;\n",
              "    }\n",
              "\n",
              "    .dataframe thead th {\n",
              "        text-align: right;\n",
              "    }\n",
              "</style>\n",
              "<table border=\"1\" class=\"dataframe\">\n",
              "  <thead>\n",
              "    <tr style=\"text-align: right;\">\n",
              "      <th></th>\n",
              "      <th>id</th>\n",
              "      <th>item_id</th>\n",
              "      <th>dept_id</th>\n",
              "      <th>cat_id</th>\n",
              "      <th>store_id</th>\n",
              "      <th>state_id</th>\n",
              "      <th>d</th>\n",
              "      <th>sold</th>\n",
              "      <th>date</th>\n",
              "      <th>wm_yr_wk</th>\n",
              "      <th>...</th>\n",
              "      <th>month</th>\n",
              "      <th>year</th>\n",
              "      <th>event_name_1</th>\n",
              "      <th>event_type_1</th>\n",
              "      <th>event_name_2</th>\n",
              "      <th>event_type_2</th>\n",
              "      <th>snap_CA</th>\n",
              "      <th>snap_TX</th>\n",
              "      <th>snap_WI</th>\n",
              "      <th>sell_price</th>\n",
              "    </tr>\n",
              "  </thead>\n",
              "  <tbody>\n",
              "    <tr>\n",
              "      <th>0</th>\n",
              "      <td>HOBBIES_1_001_CA_1_evaluation</td>\n",
              "      <td>HOBBIES_1_001</td>\n",
              "      <td>HOBBIES_1</td>\n",
              "      <td>HOBBIES</td>\n",
              "      <td>CA_1</td>\n",
              "      <td>CA</td>\n",
              "      <td>d_1</td>\n",
              "      <td>0</td>\n",
              "      <td>2011-01-29</td>\n",
              "      <td>11101</td>\n",
              "      <td>...</td>\n",
              "      <td>1</td>\n",
              "      <td>2011</td>\n",
              "      <td>No_event</td>\n",
              "      <td>No_event</td>\n",
              "      <td>No_event</td>\n",
              "      <td>No_event</td>\n",
              "      <td>0</td>\n",
              "      <td>0</td>\n",
              "      <td>0</td>\n",
              "      <td>NaN</td>\n",
              "    </tr>\n",
              "  </tbody>\n",
              "</table>\n",
              "<p>1 rows × 22 columns</p>\n",
              "</div>\n",
              "    <div class=\"colab-df-buttons\">\n",
              "\n",
              "  <div class=\"colab-df-container\">\n",
              "    <button class=\"colab-df-convert\" onclick=\"convertToInteractive('df-1fa552a0-6fd5-465a-8692-40678e1fecbd')\"\n",
              "            title=\"Convert this dataframe to an interactive table.\"\n",
              "            style=\"display:none;\">\n",
              "\n",
              "  <svg xmlns=\"http://www.w3.org/2000/svg\" height=\"24px\" viewBox=\"0 -960 960 960\">\n",
              "    <path d=\"M120-120v-720h720v720H120Zm60-500h600v-160H180v160Zm220 220h160v-160H400v160Zm0 220h160v-160H400v160ZM180-400h160v-160H180v160Zm440 0h160v-160H620v160ZM180-180h160v-160H180v160Zm440 0h160v-160H620v160Z\"/>\n",
              "  </svg>\n",
              "    </button>\n",
              "\n",
              "  <style>\n",
              "    .colab-df-container {\n",
              "      display:flex;\n",
              "      gap: 12px;\n",
              "    }\n",
              "\n",
              "    .colab-df-convert {\n",
              "      background-color: #E8F0FE;\n",
              "      border: none;\n",
              "      border-radius: 50%;\n",
              "      cursor: pointer;\n",
              "      display: none;\n",
              "      fill: #1967D2;\n",
              "      height: 32px;\n",
              "      padding: 0 0 0 0;\n",
              "      width: 32px;\n",
              "    }\n",
              "\n",
              "    .colab-df-convert:hover {\n",
              "      background-color: #E2EBFA;\n",
              "      box-shadow: 0px 1px 2px rgba(60, 64, 67, 0.3), 0px 1px 3px 1px rgba(60, 64, 67, 0.15);\n",
              "      fill: #174EA6;\n",
              "    }\n",
              "\n",
              "    .colab-df-buttons div {\n",
              "      margin-bottom: 4px;\n",
              "    }\n",
              "\n",
              "    [theme=dark] .colab-df-convert {\n",
              "      background-color: #3B4455;\n",
              "      fill: #D2E3FC;\n",
              "    }\n",
              "\n",
              "    [theme=dark] .colab-df-convert:hover {\n",
              "      background-color: #434B5C;\n",
              "      box-shadow: 0px 1px 3px 1px rgba(0, 0, 0, 0.15);\n",
              "      filter: drop-shadow(0px 1px 2px rgba(0, 0, 0, 0.3));\n",
              "      fill: #FFFFFF;\n",
              "    }\n",
              "  </style>\n",
              "\n",
              "    <script>\n",
              "      const buttonEl =\n",
              "        document.querySelector('#df-1fa552a0-6fd5-465a-8692-40678e1fecbd button.colab-df-convert');\n",
              "      buttonEl.style.display =\n",
              "        google.colab.kernel.accessAllowed ? 'block' : 'none';\n",
              "\n",
              "      async function convertToInteractive(key) {\n",
              "        const element = document.querySelector('#df-1fa552a0-6fd5-465a-8692-40678e1fecbd');\n",
              "        const dataTable =\n",
              "          await google.colab.kernel.invokeFunction('convertToInteractive',\n",
              "                                                    [key], {});\n",
              "        if (!dataTable) return;\n",
              "\n",
              "        const docLinkHtml = 'Like what you see? Visit the ' +\n",
              "          '<a target=\"_blank\" href=https://colab.research.google.com/notebooks/data_table.ipynb>data table notebook</a>'\n",
              "          + ' to learn more about interactive tables.';\n",
              "        element.innerHTML = '';\n",
              "        dataTable['output_type'] = 'display_data';\n",
              "        await google.colab.output.renderOutput(dataTable, element);\n",
              "        const docLink = document.createElement('div');\n",
              "        docLink.innerHTML = docLinkHtml;\n",
              "        element.appendChild(docLink);\n",
              "      }\n",
              "    </script>\n",
              "  </div>\n",
              "\n",
              "    </div>\n",
              "  </div>\n"
            ]
          },
          "metadata": {},
          "execution_count": 16
        }
      ]
    },
    {
      "cell_type": "code",
      "execution_count": 17,
      "id": "0ae9245c-1f3e-4f29-89e5-51b32230f007",
      "metadata": {
        "id": "0ae9245c-1f3e-4f29-89e5-51b32230f007",
        "outputId": "1c7fb1f9-4926-44df-efc2-56c9b6a67651",
        "colab": {
          "base_uri": "https://localhost:8080/",
          "height": 147
        }
      },
      "outputs": [
        {
          "output_type": "execute_result",
          "data": {
            "text/plain": [
              "                                   id      item_id  dept_id cat_id store_id  \\\n",
              "60034809  FOODS_3_827_WI_3_evaluation  FOODS_3_827  FOODS_3  FOODS     WI_3   \n",
              "\n",
              "         state_id       d  sold       date  wm_yr_wk  ... month  year  \\\n",
              "60034809       WI  d_1969     0 2016-06-19     11621  ...     6  2016   \n",
              "\n",
              "          event_name_1  event_type_1  event_name_2 event_type_2 snap_CA  \\\n",
              "60034809  NBAFinalsEnd      Sporting  Father's day     Cultural       0   \n",
              "\n",
              "         snap_TX  snap_WI  sell_price  \n",
              "60034809       0        0         1.0  \n",
              "\n",
              "[1 rows x 22 columns]"
            ],
            "text/html": [
              "\n",
              "  <div id=\"df-50de6fb7-e7b4-469c-9817-d0c74462cfda\" class=\"colab-df-container\">\n",
              "    <div>\n",
              "<style scoped>\n",
              "    .dataframe tbody tr th:only-of-type {\n",
              "        vertical-align: middle;\n",
              "    }\n",
              "\n",
              "    .dataframe tbody tr th {\n",
              "        vertical-align: top;\n",
              "    }\n",
              "\n",
              "    .dataframe thead th {\n",
              "        text-align: right;\n",
              "    }\n",
              "</style>\n",
              "<table border=\"1\" class=\"dataframe\">\n",
              "  <thead>\n",
              "    <tr style=\"text-align: right;\">\n",
              "      <th></th>\n",
              "      <th>id</th>\n",
              "      <th>item_id</th>\n",
              "      <th>dept_id</th>\n",
              "      <th>cat_id</th>\n",
              "      <th>store_id</th>\n",
              "      <th>state_id</th>\n",
              "      <th>d</th>\n",
              "      <th>sold</th>\n",
              "      <th>date</th>\n",
              "      <th>wm_yr_wk</th>\n",
              "      <th>...</th>\n",
              "      <th>month</th>\n",
              "      <th>year</th>\n",
              "      <th>event_name_1</th>\n",
              "      <th>event_type_1</th>\n",
              "      <th>event_name_2</th>\n",
              "      <th>event_type_2</th>\n",
              "      <th>snap_CA</th>\n",
              "      <th>snap_TX</th>\n",
              "      <th>snap_WI</th>\n",
              "      <th>sell_price</th>\n",
              "    </tr>\n",
              "  </thead>\n",
              "  <tbody>\n",
              "    <tr>\n",
              "      <th>60034809</th>\n",
              "      <td>FOODS_3_827_WI_3_evaluation</td>\n",
              "      <td>FOODS_3_827</td>\n",
              "      <td>FOODS_3</td>\n",
              "      <td>FOODS</td>\n",
              "      <td>WI_3</td>\n",
              "      <td>WI</td>\n",
              "      <td>d_1969</td>\n",
              "      <td>0</td>\n",
              "      <td>2016-06-19</td>\n",
              "      <td>11621</td>\n",
              "      <td>...</td>\n",
              "      <td>6</td>\n",
              "      <td>2016</td>\n",
              "      <td>NBAFinalsEnd</td>\n",
              "      <td>Sporting</td>\n",
              "      <td>Father's day</td>\n",
              "      <td>Cultural</td>\n",
              "      <td>0</td>\n",
              "      <td>0</td>\n",
              "      <td>0</td>\n",
              "      <td>1.0</td>\n",
              "    </tr>\n",
              "  </tbody>\n",
              "</table>\n",
              "<p>1 rows × 22 columns</p>\n",
              "</div>\n",
              "    <div class=\"colab-df-buttons\">\n",
              "\n",
              "  <div class=\"colab-df-container\">\n",
              "    <button class=\"colab-df-convert\" onclick=\"convertToInteractive('df-50de6fb7-e7b4-469c-9817-d0c74462cfda')\"\n",
              "            title=\"Convert this dataframe to an interactive table.\"\n",
              "            style=\"display:none;\">\n",
              "\n",
              "  <svg xmlns=\"http://www.w3.org/2000/svg\" height=\"24px\" viewBox=\"0 -960 960 960\">\n",
              "    <path d=\"M120-120v-720h720v720H120Zm60-500h600v-160H180v160Zm220 220h160v-160H400v160Zm0 220h160v-160H400v160ZM180-400h160v-160H180v160Zm440 0h160v-160H620v160ZM180-180h160v-160H180v160Zm440 0h160v-160H620v160Z\"/>\n",
              "  </svg>\n",
              "    </button>\n",
              "\n",
              "  <style>\n",
              "    .colab-df-container {\n",
              "      display:flex;\n",
              "      gap: 12px;\n",
              "    }\n",
              "\n",
              "    .colab-df-convert {\n",
              "      background-color: #E8F0FE;\n",
              "      border: none;\n",
              "      border-radius: 50%;\n",
              "      cursor: pointer;\n",
              "      display: none;\n",
              "      fill: #1967D2;\n",
              "      height: 32px;\n",
              "      padding: 0 0 0 0;\n",
              "      width: 32px;\n",
              "    }\n",
              "\n",
              "    .colab-df-convert:hover {\n",
              "      background-color: #E2EBFA;\n",
              "      box-shadow: 0px 1px 2px rgba(60, 64, 67, 0.3), 0px 1px 3px 1px rgba(60, 64, 67, 0.15);\n",
              "      fill: #174EA6;\n",
              "    }\n",
              "\n",
              "    .colab-df-buttons div {\n",
              "      margin-bottom: 4px;\n",
              "    }\n",
              "\n",
              "    [theme=dark] .colab-df-convert {\n",
              "      background-color: #3B4455;\n",
              "      fill: #D2E3FC;\n",
              "    }\n",
              "\n",
              "    [theme=dark] .colab-df-convert:hover {\n",
              "      background-color: #434B5C;\n",
              "      box-shadow: 0px 1px 3px 1px rgba(0, 0, 0, 0.15);\n",
              "      filter: drop-shadow(0px 1px 2px rgba(0, 0, 0, 0.3));\n",
              "      fill: #FFFFFF;\n",
              "    }\n",
              "  </style>\n",
              "\n",
              "    <script>\n",
              "      const buttonEl =\n",
              "        document.querySelector('#df-50de6fb7-e7b4-469c-9817-d0c74462cfda button.colab-df-convert');\n",
              "      buttonEl.style.display =\n",
              "        google.colab.kernel.accessAllowed ? 'block' : 'none';\n",
              "\n",
              "      async function convertToInteractive(key) {\n",
              "        const element = document.querySelector('#df-50de6fb7-e7b4-469c-9817-d0c74462cfda');\n",
              "        const dataTable =\n",
              "          await google.colab.kernel.invokeFunction('convertToInteractive',\n",
              "                                                    [key], {});\n",
              "        if (!dataTable) return;\n",
              "\n",
              "        const docLinkHtml = 'Like what you see? Visit the ' +\n",
              "          '<a target=\"_blank\" href=https://colab.research.google.com/notebooks/data_table.ipynb>data table notebook</a>'\n",
              "          + ' to learn more about interactive tables.';\n",
              "        element.innerHTML = '';\n",
              "        dataTable['output_type'] = 'display_data';\n",
              "        await google.colab.output.renderOutput(dataTable, element);\n",
              "        const docLink = document.createElement('div');\n",
              "        docLink.innerHTML = docLinkHtml;\n",
              "        element.appendChild(docLink);\n",
              "      }\n",
              "    </script>\n",
              "  </div>\n",
              "\n",
              "    </div>\n",
              "  </div>\n"
            ]
          },
          "metadata": {},
          "execution_count": 17
        }
      ],
      "source": [
        "df.tail(1)"
      ]
    },
    {
      "cell_type": "code",
      "source": [
        "df.columns"
      ],
      "metadata": {
        "colab": {
          "base_uri": "https://localhost:8080/"
        },
        "id": "y91wUVKIxDC4",
        "outputId": "b45928f4-f34f-4b4e-ec34-090eecf076dc"
      },
      "id": "y91wUVKIxDC4",
      "execution_count": 12,
      "outputs": [
        {
          "output_type": "execute_result",
          "data": {
            "text/plain": [
              "Index(['id', 'item_id', 'dept_id', 'cat_id', 'store_id', 'state_id', 'd',\n",
              "       'sold', 'date', 'wm_yr_wk', 'weekday', 'wday', 'month', 'year',\n",
              "       'event_name_1', 'event_type_1', 'event_name_2', 'event_type_2',\n",
              "       'snap_CA', 'snap_TX', 'snap_WI', 'sell_price'],\n",
              "      dtype='object')"
            ]
          },
          "metadata": {},
          "execution_count": 12
        }
      ]
    },
    {
      "cell_type": "code",
      "execution_count": 19,
      "id": "82bda391-6981-4d62-80e9-beb402209021",
      "metadata": {
        "id": "82bda391-6981-4d62-80e9-beb402209021",
        "outputId": "e612e714-712d-4258-e543-2366db28d0b5",
        "colab": {
          "base_uri": "https://localhost:8080/"
        }
      },
      "outputs": [
        {
          "output_type": "execute_result",
          "data": {
            "text/plain": [
              "id                     0\n",
              "item_id                0\n",
              "dept_id                0\n",
              "cat_id                 0\n",
              "store_id               0\n",
              "state_id               0\n",
              "d                      0\n",
              "sold                   0\n",
              "date                   0\n",
              "wm_yr_wk               0\n",
              "weekday                0\n",
              "wday                   0\n",
              "month                  0\n",
              "year                   0\n",
              "event_name_1           0\n",
              "event_type_1           0\n",
              "event_name_2           0\n",
              "event_type_2           0\n",
              "snap_CA                0\n",
              "snap_TX                0\n",
              "snap_WI                0\n",
              "sell_price      12299413\n",
              "dtype: int64"
            ]
          },
          "metadata": {},
          "execution_count": 19
        }
      ],
      "source": [
        "df.isnull().sum()"
      ]
    },
    {
      "cell_type": "code",
      "source": [
        "d_id = dict(zip(df.id.cat.codes, df.id))\n",
        "d_dept_id = dict(zip(df.dept_id.cat.codes, df.dept_id))\n",
        "\n",
        "df.d = df['d'].apply(lambda x: x.split('_')[1]).astype(np.int16)\n",
        "cols = df.dtypes.index.tolist()\n",
        "types = df.dtypes.values.tolist()\n",
        "for i,type in enumerate(types):\n",
        "    if type.name == 'category':\n",
        "        df[cols[i]] = df[cols[i]].cat.codes\n",
        "\n",
        "df.drop('date',axis=1,inplace=True)"
      ],
      "metadata": {
        "id": "syoDSWw-P6Ea"
      },
      "id": "syoDSWw-P6Ea",
      "execution_count": 13,
      "outputs": []
    },
    {
      "cell_type": "markdown",
      "source": [
        "# Feature engineering"
      ],
      "metadata": {
        "id": "AdosPZYKyPFI"
      },
      "id": "AdosPZYKyPFI"
    },
    {
      "cell_type": "code",
      "source": [
        "df['cat_sold_avg'] = df.groupby('cat_id')['sold'].transform('mean').astype(np.float16)\n",
        "df['store_item_sold_avg'] = df.groupby(['store_id','item_id'])['sold'].transform('mean').astype(np.float16)\n",
        "df['cat_item_sold_avg'] = df.groupby(['cat_id','item_id'])['sold'].transform('mean').astype(np.float16)\n",
        "df['store_cat_dept_sold_avg'] = df.groupby(['store_id','cat_id','dept_id'])['sold'].transform('mean').astype(np.float16)"
      ],
      "metadata": {
        "id": "_5NudSoUfmy4"
      },
      "id": "_5NudSoUfmy4",
      "execution_count": 15,
      "outputs": []
    },
    {
      "cell_type": "markdown",
      "source": [
        "# Train"
      ],
      "metadata": {
        "id": "nrfmEvScyLoH"
      },
      "id": "nrfmEvScyLoH"
    },
    {
      "cell_type": "code",
      "source": [
        "valid = df[(df['d']>=1914) & (df['d']<1942)][['id','d','sold']]\n",
        "test = df[df['d']>=1942][['id','d','sold']]\n",
        "eval_preds = test['sold']\n",
        "valid_preds = valid['sold']"
      ],
      "metadata": {
        "id": "1io9u4nn4KAv"
      },
      "id": "1io9u4nn4KAv",
      "execution_count": 57,
      "outputs": []
    },
    {
      "cell_type": "code",
      "source": [
        "xgb_params = {\n",
        "    'objective': 'reg:squarederror',\n",
        "    'n_estimators': 1000,\n",
        "    'learning_rate': 0.3,\n",
        "    'subsample': 0.8,\n",
        "    'colsample_bytree': 0.8,\n",
        "    'max_depth': 8,\n",
        "    'min_child_weight': 300,\n",
        "    'eval_metric': 'rmse',\n",
        "}\n",
        "\n",
        "\n",
        "depts = sales.dept_id.cat.codes.unique().tolist()\n",
        "\n",
        "for dept in depts:\n",
        "    df_temp = df[df['dept_id'] == dept]\n",
        "    model_filename = 'xgboost_model' + str(d_dept_id[dept]) + '.pkl'\n",
        "\n",
        "    X_train, y_train = df_temp[df_temp['d']<1914].drop('sold',axis=1), df_temp[df_temp['d']<1914]['sold']\n",
        "    X_valid, y_valid = df_temp[(df_temp['d']>=1914) & (df_temp['d']<1942)].drop('sold',axis=1), df_temp[(df_temp['d']>=1914) & (df_temp['d']<1942)]['sold']\n",
        "    X_test = df_temp[df_temp['d']>=1942].drop('sold',axis=1)\n",
        "\n",
        "    print('*****Prediction for dept of: {}*****'.format(d_dept_id[dept]))\n",
        "    model = xgb.XGBRegressor(**xgb_params, tree_method='gpu_hist', gpu_id=0)\n",
        "    model.fit(X_train, y_train, eval_set=[(X_train, y_train), (X_valid, y_valid)],\n",
        "              early_stopping_rounds=20, verbose=20)\n",
        "\n",
        "    valid_preds[X_valid.index] = model.predict(X_valid)\n",
        "    eval_preds[X_test.index] = model.predict(X_test)\n",
        "\n",
        "    joblib.dump(model, model_filename)\n",
        "\n",
        "    del model, X_train, y_train, X_valid, y_valid, X_test, df_temp\n",
        "    gc.collect()"
      ],
      "metadata": {
        "id": "KLbElAxYXvfC",
        "colab": {
          "base_uri": "https://localhost:8080/"
        },
        "outputId": "0e71ccb5-cfc1-4abb-fb2f-097d99aa7b88"
      },
      "id": "KLbElAxYXvfC",
      "execution_count": 58,
      "outputs": [
        {
          "output_type": "stream",
          "name": "stdout",
          "text": [
            "*****Prediction for dept of: HOBBIES_1*****\n",
            "[0]\tvalidation_0-rmse:2.36157\tvalidation_1-rmse:2.11226\n",
            "[20]\tvalidation_0-rmse:2.06412\tvalidation_1-rmse:1.85999\n",
            "[40]\tvalidation_0-rmse:2.04475\tvalidation_1-rmse:1.85147\n",
            "[60]\tvalidation_0-rmse:2.03289\tvalidation_1-rmse:1.84610\n",
            "[80]\tvalidation_0-rmse:2.02458\tvalidation_1-rmse:1.84119\n",
            "[100]\tvalidation_0-rmse:2.01797\tvalidation_1-rmse:1.83875\n",
            "[120]\tvalidation_0-rmse:2.01155\tvalidation_1-rmse:1.83724\n",
            "[136]\tvalidation_0-rmse:2.00755\tvalidation_1-rmse:1.83968\n",
            "*****Prediction for dept of: HOBBIES_2*****\n",
            "[0]\tvalidation_0-rmse:0.83012\tvalidation_1-rmse:0.85895\n",
            "[20]\tvalidation_0-rmse:0.78951\tvalidation_1-rmse:0.82470\n",
            "[40]\tvalidation_0-rmse:0.78401\tvalidation_1-rmse:0.82150\n",
            "[59]\tvalidation_0-rmse:0.78078\tvalidation_1-rmse:0.82201\n",
            "*****Prediction for dept of: HOUSEHOLD_1*****\n",
            "[0]\tvalidation_0-rmse:2.69590\tvalidation_1-rmse:2.39316\n",
            "[20]\tvalidation_0-rmse:2.10730\tvalidation_1-rmse:1.93187\n",
            "[40]\tvalidation_0-rmse:2.05867\tvalidation_1-rmse:1.89975\n",
            "[60]\tvalidation_0-rmse:2.02948\tvalidation_1-rmse:1.85894\n",
            "[80]\tvalidation_0-rmse:2.00660\tvalidation_1-rmse:1.84473\n",
            "[100]\tvalidation_0-rmse:1.99282\tvalidation_1-rmse:1.83689\n",
            "[120]\tvalidation_0-rmse:1.97901\tvalidation_1-rmse:1.83637\n",
            "[140]\tvalidation_0-rmse:1.96843\tvalidation_1-rmse:1.83183\n",
            "[160]\tvalidation_0-rmse:1.96007\tvalidation_1-rmse:1.83030\n",
            "[180]\tvalidation_0-rmse:1.95193\tvalidation_1-rmse:1.82852\n",
            "[195]\tvalidation_0-rmse:1.94597\tvalidation_1-rmse:1.82933\n",
            "*****Prediction for dept of: HOUSEHOLD_2*****\n",
            "[0]\tvalidation_0-rmse:0.85543\tvalidation_1-rmse:0.94944\n",
            "[20]\tvalidation_0-rmse:0.78636\tvalidation_1-rmse:0.84838\n",
            "[40]\tvalidation_0-rmse:0.77985\tvalidation_1-rmse:0.83911\n",
            "[60]\tvalidation_0-rmse:0.77477\tvalidation_1-rmse:0.83614\n",
            "[80]\tvalidation_0-rmse:0.77115\tvalidation_1-rmse:0.83317\n",
            "[100]\tvalidation_0-rmse:0.76864\tvalidation_1-rmse:0.82981\n",
            "[120]\tvalidation_0-rmse:0.76667\tvalidation_1-rmse:0.83049\n",
            "[128]\tvalidation_0-rmse:0.76596\tvalidation_1-rmse:0.83052\n",
            "*****Prediction for dept of: FOODS_1*****\n",
            "[0]\tvalidation_0-rmse:2.91586\tvalidation_1-rmse:3.16825\n",
            "[20]\tvalidation_0-rmse:2.30564\tvalidation_1-rmse:2.60501\n",
            "[29]\tvalidation_0-rmse:2.27065\tvalidation_1-rmse:2.60149\n",
            "*****Prediction for dept of: FOODS_2*****\n",
            "[0]\tvalidation_0-rmse:2.74894\tvalidation_1-rmse:2.66177\n",
            "[20]\tvalidation_0-rmse:2.08867\tvalidation_1-rmse:1.98751\n",
            "[40]\tvalidation_0-rmse:2.02643\tvalidation_1-rmse:1.94472\n",
            "[60]\tvalidation_0-rmse:1.99553\tvalidation_1-rmse:1.92874\n",
            "[80]\tvalidation_0-rmse:1.97273\tvalidation_1-rmse:1.91697\n",
            "[100]\tvalidation_0-rmse:1.95912\tvalidation_1-rmse:1.90976\n",
            "[120]\tvalidation_0-rmse:1.94667\tvalidation_1-rmse:1.90659\n",
            "[140]\tvalidation_0-rmse:1.93475\tvalidation_1-rmse:1.90174\n",
            "[160]\tvalidation_0-rmse:1.92507\tvalidation_1-rmse:1.89615\n",
            "[180]\tvalidation_0-rmse:1.91650\tvalidation_1-rmse:1.89440\n",
            "[200]\tvalidation_0-rmse:1.90848\tvalidation_1-rmse:1.88876\n",
            "[220]\tvalidation_0-rmse:1.90202\tvalidation_1-rmse:1.88913\n",
            "[224]\tvalidation_0-rmse:1.90039\tvalidation_1-rmse:1.88847\n",
            "*****Prediction for dept of: FOODS_3*****\n",
            "[0]\tvalidation_0-rmse:5.98679\tvalidation_1-rmse:4.73216\n",
            "[20]\tvalidation_0-rmse:4.11124\tvalidation_1-rmse:3.23343\n",
            "[40]\tvalidation_0-rmse:3.94897\tvalidation_1-rmse:3.16801\n",
            "[60]\tvalidation_0-rmse:3.86462\tvalidation_1-rmse:3.15078\n",
            "[80]\tvalidation_0-rmse:3.81112\tvalidation_1-rmse:3.13368\n",
            "[100]\tvalidation_0-rmse:3.76198\tvalidation_1-rmse:3.12243\n",
            "[120]\tvalidation_0-rmse:3.72721\tvalidation_1-rmse:3.11286\n",
            "[140]\tvalidation_0-rmse:3.69467\tvalidation_1-rmse:3.11164\n",
            "[147]\tvalidation_0-rmse:3.68539\tvalidation_1-rmse:3.11306\n"
          ]
        }
      ]
    },
    {
      "cell_type": "code",
      "source": [
        "feature_importance = pd.DataFrame()\n",
        "features = [f for f in df.columns if f != '10sold']\n",
        "for filename in os.listdir('/content'):\n",
        "    if 'model' in filename:\n",
        "        model = joblib.load(filename)\n",
        "        dept_importance = pd.DataFrame()\n",
        "        dept_importance[\"feature\"] = features\n",
        "        dept_importance[\"importance\"] = model.feature_importances_\n",
        "        dept_importance[\"dept\"] = filename[5:9]\n",
        "        feature_importance = pd.concat([feature_importance, dept_importance], axis=0)\n",
        "\n",
        "def display_importances(feature_importance):\n",
        "    cols = feature_importance[[\"feature\", \"importance\"]].groupby(\"feature\").mean().sort_values(by=\"importance\", ascending=False)[:20].index\n",
        "    best_features = feature_importance.loc[feature_importance.feature.isin(cols)]\n",
        "    plt.figure(figsize=(8, 10))\n",
        "    sns.barplot(x=\"importance\", y=\"feature\", data=best_features.sort_values(by=\"importance\", ascending=False))\n",
        "    plt.tight_layout()\n",
        "\n",
        "display_importances(feature_importance)"
      ],
      "metadata": {
        "id": "rwq8NdZazekf"
      },
      "id": "rwq8NdZazekf",
      "execution_count": null,
      "outputs": []
    },
    {
      "cell_type": "markdown",
      "source": [
        "# Submission"
      ],
      "metadata": {
        "id": "McNuMw8kcJe7"
      },
      "id": "McNuMw8kcJe7"
    },
    {
      "cell_type": "code",
      "execution_count": 60,
      "id": "059a4bf4-67ba-4a6d-8da3-90aa2e053e31",
      "metadata": {
        "id": "059a4bf4-67ba-4a6d-8da3-90aa2e053e31",
        "colab": {
          "base_uri": "https://localhost:8080/",
          "height": 110
        },
        "outputId": "74dae1e4-8750-4eb8-f486-2047cd75e253"
      },
      "outputs": [
        {
          "output_type": "execute_result",
          "data": {
            "text/plain": [
              "d  id      1942      1943      1944      1945      1946     1947     1948  \\\n",
              "0   0  0.790389  0.790389  0.790389  0.790389  0.861177  1.00621  0.91378   \n",
              "\n",
              "d      1949      1950  ...      1960      1961      1962      1963      1964  \\\n",
              "0  0.790389  0.790389  ...  0.861177  1.022752  0.930323  0.803734  0.816261   \n",
              "\n",
              "d      1965      1966      1967     1968     1969  \n",
              "0  0.829605  0.790389  0.861177  1.00621  0.91378  \n",
              "\n",
              "[1 rows x 29 columns]"
            ],
            "text/html": [
              "\n",
              "  <div id=\"df-d3ef6130-6c86-4561-b051-ee80695445bb\" class=\"colab-df-container\">\n",
              "    <div>\n",
              "<style scoped>\n",
              "    .dataframe tbody tr th:only-of-type {\n",
              "        vertical-align: middle;\n",
              "    }\n",
              "\n",
              "    .dataframe tbody tr th {\n",
              "        vertical-align: top;\n",
              "    }\n",
              "\n",
              "    .dataframe thead th {\n",
              "        text-align: right;\n",
              "    }\n",
              "</style>\n",
              "<table border=\"1\" class=\"dataframe\">\n",
              "  <thead>\n",
              "    <tr style=\"text-align: right;\">\n",
              "      <th>d</th>\n",
              "      <th>id</th>\n",
              "      <th>1942</th>\n",
              "      <th>1943</th>\n",
              "      <th>1944</th>\n",
              "      <th>1945</th>\n",
              "      <th>1946</th>\n",
              "      <th>1947</th>\n",
              "      <th>1948</th>\n",
              "      <th>1949</th>\n",
              "      <th>1950</th>\n",
              "      <th>...</th>\n",
              "      <th>1960</th>\n",
              "      <th>1961</th>\n",
              "      <th>1962</th>\n",
              "      <th>1963</th>\n",
              "      <th>1964</th>\n",
              "      <th>1965</th>\n",
              "      <th>1966</th>\n",
              "      <th>1967</th>\n",
              "      <th>1968</th>\n",
              "      <th>1969</th>\n",
              "    </tr>\n",
              "  </thead>\n",
              "  <tbody>\n",
              "    <tr>\n",
              "      <th>0</th>\n",
              "      <td>0</td>\n",
              "      <td>0.790389</td>\n",
              "      <td>0.790389</td>\n",
              "      <td>0.790389</td>\n",
              "      <td>0.790389</td>\n",
              "      <td>0.861177</td>\n",
              "      <td>1.00621</td>\n",
              "      <td>0.91378</td>\n",
              "      <td>0.790389</td>\n",
              "      <td>0.790389</td>\n",
              "      <td>...</td>\n",
              "      <td>0.861177</td>\n",
              "      <td>1.022752</td>\n",
              "      <td>0.930323</td>\n",
              "      <td>0.803734</td>\n",
              "      <td>0.816261</td>\n",
              "      <td>0.829605</td>\n",
              "      <td>0.790389</td>\n",
              "      <td>0.861177</td>\n",
              "      <td>1.00621</td>\n",
              "      <td>0.91378</td>\n",
              "    </tr>\n",
              "  </tbody>\n",
              "</table>\n",
              "<p>1 rows × 29 columns</p>\n",
              "</div>\n",
              "    <div class=\"colab-df-buttons\">\n",
              "\n",
              "  <div class=\"colab-df-container\">\n",
              "    <button class=\"colab-df-convert\" onclick=\"convertToInteractive('df-d3ef6130-6c86-4561-b051-ee80695445bb')\"\n",
              "            title=\"Convert this dataframe to an interactive table.\"\n",
              "            style=\"display:none;\">\n",
              "\n",
              "  <svg xmlns=\"http://www.w3.org/2000/svg\" height=\"24px\" viewBox=\"0 -960 960 960\">\n",
              "    <path d=\"M120-120v-720h720v720H120Zm60-500h600v-160H180v160Zm220 220h160v-160H400v160Zm0 220h160v-160H400v160ZM180-400h160v-160H180v160Zm440 0h160v-160H620v160ZM180-180h160v-160H180v160Zm440 0h160v-160H620v160Z\"/>\n",
              "  </svg>\n",
              "    </button>\n",
              "\n",
              "  <style>\n",
              "    .colab-df-container {\n",
              "      display:flex;\n",
              "      gap: 12px;\n",
              "    }\n",
              "\n",
              "    .colab-df-convert {\n",
              "      background-color: #E8F0FE;\n",
              "      border: none;\n",
              "      border-radius: 50%;\n",
              "      cursor: pointer;\n",
              "      display: none;\n",
              "      fill: #1967D2;\n",
              "      height: 32px;\n",
              "      padding: 0 0 0 0;\n",
              "      width: 32px;\n",
              "    }\n",
              "\n",
              "    .colab-df-convert:hover {\n",
              "      background-color: #E2EBFA;\n",
              "      box-shadow: 0px 1px 2px rgba(60, 64, 67, 0.3), 0px 1px 3px 1px rgba(60, 64, 67, 0.15);\n",
              "      fill: #174EA6;\n",
              "    }\n",
              "\n",
              "    .colab-df-buttons div {\n",
              "      margin-bottom: 4px;\n",
              "    }\n",
              "\n",
              "    [theme=dark] .colab-df-convert {\n",
              "      background-color: #3B4455;\n",
              "      fill: #D2E3FC;\n",
              "    }\n",
              "\n",
              "    [theme=dark] .colab-df-convert:hover {\n",
              "      background-color: #434B5C;\n",
              "      box-shadow: 0px 1px 3px 1px rgba(0, 0, 0, 0.15);\n",
              "      filter: drop-shadow(0px 1px 2px rgba(0, 0, 0, 0.3));\n",
              "      fill: #FFFFFF;\n",
              "    }\n",
              "  </style>\n",
              "\n",
              "    <script>\n",
              "      const buttonEl =\n",
              "        document.querySelector('#df-d3ef6130-6c86-4561-b051-ee80695445bb button.colab-df-convert');\n",
              "      buttonEl.style.display =\n",
              "        google.colab.kernel.accessAllowed ? 'block' : 'none';\n",
              "\n",
              "      async function convertToInteractive(key) {\n",
              "        const element = document.querySelector('#df-d3ef6130-6c86-4561-b051-ee80695445bb');\n",
              "        const dataTable =\n",
              "          await google.colab.kernel.invokeFunction('convertToInteractive',\n",
              "                                                    [key], {});\n",
              "        if (!dataTable) return;\n",
              "\n",
              "        const docLinkHtml = 'Like what you see? Visit the ' +\n",
              "          '<a target=\"_blank\" href=https://colab.research.google.com/notebooks/data_table.ipynb>data table notebook</a>'\n",
              "          + ' to learn more about interactive tables.';\n",
              "        element.innerHTML = '';\n",
              "        dataTable['output_type'] = 'display_data';\n",
              "        await google.colab.output.renderOutput(dataTable, element);\n",
              "        const docLink = document.createElement('div');\n",
              "        docLink.innerHTML = docLinkHtml;\n",
              "        element.appendChild(docLink);\n",
              "      }\n",
              "    </script>\n",
              "  </div>\n",
              "\n",
              "    </div>\n",
              "  </div>\n"
            ]
          },
          "metadata": {},
          "execution_count": 60
        }
      ],
      "source": [
        "validation = sales[['id']+['d_' + str(i) for i in range(1914,1942)]]\n",
        "validation.columns=['id'] + ['F' + str(i + 1) for i in range(28)]\n",
        "validation['id'] = validation['id'].astype('string')\n",
        "validation[\"id\"] = validation[\"id\"].apply(lambda x: x.replace(\"evaluation\", \"validation\"))\n",
        "\n",
        "test['sold'] = eval_preds\n",
        "evaluation = test[['id','d','sold']]\n",
        "evaluation = pd.pivot(evaluation, index='id', columns='d', values='sold').reset_index()\n",
        "evaluation.head(1)"
      ]
    },
    {
      "cell_type": "code",
      "source": [
        "evaluation.columns=['id'] + ['F' + str(i + 1) for i in range(28)]\n",
        "evaluation.id = evaluation.id.map(d_id)\n",
        "\n",
        "submit = pd.concat([validation,evaluation]).reset_index(drop=True)\n",
        "submit.to_csv('submission.csv',index=False)"
      ],
      "metadata": {
        "id": "F5VQyNrV9evL"
      },
      "id": "F5VQyNrV9evL",
      "execution_count": 61,
      "outputs": []
    },
    {
      "cell_type": "code",
      "source": [
        "submit.head(1)"
      ],
      "metadata": {
        "colab": {
          "base_uri": "https://localhost:8080/",
          "height": 110
        },
        "id": "qIq8Sdb9hgjO",
        "outputId": "ab85660b-21eb-43ad-dc1f-ab76e6f0e94e"
      },
      "id": "qIq8Sdb9hgjO",
      "execution_count": 62,
      "outputs": [
        {
          "output_type": "execute_result",
          "data": {
            "text/plain": [
              "                              id   F1   F2   F3   F4   F5   F6   F7   F8   F9  \\\n",
              "0  HOBBIES_1_001_CA_1_validation  0.0  0.0  0.0  2.0  0.0  3.0  5.0  0.0  0.0   \n",
              "\n",
              "   ...  F19  F20  F21  F22  F23  F24  F25  F26  F27  F28  \n",
              "0  ...  2.0  4.0  0.0  0.0  0.0  0.0  3.0  3.0  0.0  1.0  \n",
              "\n",
              "[1 rows x 29 columns]"
            ],
            "text/html": [
              "\n",
              "  <div id=\"df-8c0330ad-226e-4a68-86f0-17b6649214d1\" class=\"colab-df-container\">\n",
              "    <div>\n",
              "<style scoped>\n",
              "    .dataframe tbody tr th:only-of-type {\n",
              "        vertical-align: middle;\n",
              "    }\n",
              "\n",
              "    .dataframe tbody tr th {\n",
              "        vertical-align: top;\n",
              "    }\n",
              "\n",
              "    .dataframe thead th {\n",
              "        text-align: right;\n",
              "    }\n",
              "</style>\n",
              "<table border=\"1\" class=\"dataframe\">\n",
              "  <thead>\n",
              "    <tr style=\"text-align: right;\">\n",
              "      <th></th>\n",
              "      <th>id</th>\n",
              "      <th>F1</th>\n",
              "      <th>F2</th>\n",
              "      <th>F3</th>\n",
              "      <th>F4</th>\n",
              "      <th>F5</th>\n",
              "      <th>F6</th>\n",
              "      <th>F7</th>\n",
              "      <th>F8</th>\n",
              "      <th>F9</th>\n",
              "      <th>...</th>\n",
              "      <th>F19</th>\n",
              "      <th>F20</th>\n",
              "      <th>F21</th>\n",
              "      <th>F22</th>\n",
              "      <th>F23</th>\n",
              "      <th>F24</th>\n",
              "      <th>F25</th>\n",
              "      <th>F26</th>\n",
              "      <th>F27</th>\n",
              "      <th>F28</th>\n",
              "    </tr>\n",
              "  </thead>\n",
              "  <tbody>\n",
              "    <tr>\n",
              "      <th>0</th>\n",
              "      <td>HOBBIES_1_001_CA_1_validation</td>\n",
              "      <td>0.0</td>\n",
              "      <td>0.0</td>\n",
              "      <td>0.0</td>\n",
              "      <td>2.0</td>\n",
              "      <td>0.0</td>\n",
              "      <td>3.0</td>\n",
              "      <td>5.0</td>\n",
              "      <td>0.0</td>\n",
              "      <td>0.0</td>\n",
              "      <td>...</td>\n",
              "      <td>2.0</td>\n",
              "      <td>4.0</td>\n",
              "      <td>0.0</td>\n",
              "      <td>0.0</td>\n",
              "      <td>0.0</td>\n",
              "      <td>0.0</td>\n",
              "      <td>3.0</td>\n",
              "      <td>3.0</td>\n",
              "      <td>0.0</td>\n",
              "      <td>1.0</td>\n",
              "    </tr>\n",
              "  </tbody>\n",
              "</table>\n",
              "<p>1 rows × 29 columns</p>\n",
              "</div>\n",
              "    <div class=\"colab-df-buttons\">\n",
              "\n",
              "  <div class=\"colab-df-container\">\n",
              "    <button class=\"colab-df-convert\" onclick=\"convertToInteractive('df-8c0330ad-226e-4a68-86f0-17b6649214d1')\"\n",
              "            title=\"Convert this dataframe to an interactive table.\"\n",
              "            style=\"display:none;\">\n",
              "\n",
              "  <svg xmlns=\"http://www.w3.org/2000/svg\" height=\"24px\" viewBox=\"0 -960 960 960\">\n",
              "    <path d=\"M120-120v-720h720v720H120Zm60-500h600v-160H180v160Zm220 220h160v-160H400v160Zm0 220h160v-160H400v160ZM180-400h160v-160H180v160Zm440 0h160v-160H620v160ZM180-180h160v-160H180v160Zm440 0h160v-160H620v160Z\"/>\n",
              "  </svg>\n",
              "    </button>\n",
              "\n",
              "  <style>\n",
              "    .colab-df-container {\n",
              "      display:flex;\n",
              "      gap: 12px;\n",
              "    }\n",
              "\n",
              "    .colab-df-convert {\n",
              "      background-color: #E8F0FE;\n",
              "      border: none;\n",
              "      border-radius: 50%;\n",
              "      cursor: pointer;\n",
              "      display: none;\n",
              "      fill: #1967D2;\n",
              "      height: 32px;\n",
              "      padding: 0 0 0 0;\n",
              "      width: 32px;\n",
              "    }\n",
              "\n",
              "    .colab-df-convert:hover {\n",
              "      background-color: #E2EBFA;\n",
              "      box-shadow: 0px 1px 2px rgba(60, 64, 67, 0.3), 0px 1px 3px 1px rgba(60, 64, 67, 0.15);\n",
              "      fill: #174EA6;\n",
              "    }\n",
              "\n",
              "    .colab-df-buttons div {\n",
              "      margin-bottom: 4px;\n",
              "    }\n",
              "\n",
              "    [theme=dark] .colab-df-convert {\n",
              "      background-color: #3B4455;\n",
              "      fill: #D2E3FC;\n",
              "    }\n",
              "\n",
              "    [theme=dark] .colab-df-convert:hover {\n",
              "      background-color: #434B5C;\n",
              "      box-shadow: 0px 1px 3px 1px rgba(0, 0, 0, 0.15);\n",
              "      filter: drop-shadow(0px 1px 2px rgba(0, 0, 0, 0.3));\n",
              "      fill: #FFFFFF;\n",
              "    }\n",
              "  </style>\n",
              "\n",
              "    <script>\n",
              "      const buttonEl =\n",
              "        document.querySelector('#df-8c0330ad-226e-4a68-86f0-17b6649214d1 button.colab-df-convert');\n",
              "      buttonEl.style.display =\n",
              "        google.colab.kernel.accessAllowed ? 'block' : 'none';\n",
              "\n",
              "      async function convertToInteractive(key) {\n",
              "        const element = document.querySelector('#df-8c0330ad-226e-4a68-86f0-17b6649214d1');\n",
              "        const dataTable =\n",
              "          await google.colab.kernel.invokeFunction('convertToInteractive',\n",
              "                                                    [key], {});\n",
              "        if (!dataTable) return;\n",
              "\n",
              "        const docLinkHtml = 'Like what you see? Visit the ' +\n",
              "          '<a target=\"_blank\" href=https://colab.research.google.com/notebooks/data_table.ipynb>data table notebook</a>'\n",
              "          + ' to learn more about interactive tables.';\n",
              "        element.innerHTML = '';\n",
              "        dataTable['output_type'] = 'display_data';\n",
              "        await google.colab.output.renderOutput(dataTable, element);\n",
              "        const docLink = document.createElement('div');\n",
              "        docLink.innerHTML = docLinkHtml;\n",
              "        element.appendChild(docLink);\n",
              "      }\n",
              "    </script>\n",
              "  </div>\n",
              "\n",
              "    </div>\n",
              "  </div>\n"
            ]
          },
          "metadata": {},
          "execution_count": 62
        }
      ]
    },
    {
      "cell_type": "code",
      "source": [
        "submit.tail(1)"
      ],
      "metadata": {
        "colab": {
          "base_uri": "https://localhost:8080/",
          "height": 110
        },
        "id": "zcEDV2TmfZGb",
        "outputId": "0e14c76d-012b-40e4-c545-f0706e265eff"
      },
      "id": "zcEDV2TmfZGb",
      "execution_count": 63,
      "outputs": [
        {
          "output_type": "execute_result",
          "data": {
            "text/plain": [
              "                                    id        F1        F2        F3  \\\n",
              "60979  HOUSEHOLD_2_516_WI_3_evaluation  0.138294  0.115373  0.130745   \n",
              "\n",
              "             F4        F5        F6        F7        F8        F9  ...  \\\n",
              "60979  0.149506  0.171394  0.173609  0.167303  0.138559  0.115373  ...   \n",
              "\n",
              "            F19       F20       F21      F22       F23       F24       F25  \\\n",
              "60979  0.172154  0.177907  0.171601  0.14418  0.117424  0.136039  0.151557   \n",
              "\n",
              "            F26       F27       F28  \n",
              "60979  0.173444  0.175659  0.154053  \n",
              "\n",
              "[1 rows x 29 columns]"
            ],
            "text/html": [
              "\n",
              "  <div id=\"df-79a1ec94-bb3c-4efd-b509-5348694da88e\" class=\"colab-df-container\">\n",
              "    <div>\n",
              "<style scoped>\n",
              "    .dataframe tbody tr th:only-of-type {\n",
              "        vertical-align: middle;\n",
              "    }\n",
              "\n",
              "    .dataframe tbody tr th {\n",
              "        vertical-align: top;\n",
              "    }\n",
              "\n",
              "    .dataframe thead th {\n",
              "        text-align: right;\n",
              "    }\n",
              "</style>\n",
              "<table border=\"1\" class=\"dataframe\">\n",
              "  <thead>\n",
              "    <tr style=\"text-align: right;\">\n",
              "      <th></th>\n",
              "      <th>id</th>\n",
              "      <th>F1</th>\n",
              "      <th>F2</th>\n",
              "      <th>F3</th>\n",
              "      <th>F4</th>\n",
              "      <th>F5</th>\n",
              "      <th>F6</th>\n",
              "      <th>F7</th>\n",
              "      <th>F8</th>\n",
              "      <th>F9</th>\n",
              "      <th>...</th>\n",
              "      <th>F19</th>\n",
              "      <th>F20</th>\n",
              "      <th>F21</th>\n",
              "      <th>F22</th>\n",
              "      <th>F23</th>\n",
              "      <th>F24</th>\n",
              "      <th>F25</th>\n",
              "      <th>F26</th>\n",
              "      <th>F27</th>\n",
              "      <th>F28</th>\n",
              "    </tr>\n",
              "  </thead>\n",
              "  <tbody>\n",
              "    <tr>\n",
              "      <th>60979</th>\n",
              "      <td>HOUSEHOLD_2_516_WI_3_evaluation</td>\n",
              "      <td>0.138294</td>\n",
              "      <td>0.115373</td>\n",
              "      <td>0.130745</td>\n",
              "      <td>0.149506</td>\n",
              "      <td>0.171394</td>\n",
              "      <td>0.173609</td>\n",
              "      <td>0.167303</td>\n",
              "      <td>0.138559</td>\n",
              "      <td>0.115373</td>\n",
              "      <td>...</td>\n",
              "      <td>0.172154</td>\n",
              "      <td>0.177907</td>\n",
              "      <td>0.171601</td>\n",
              "      <td>0.14418</td>\n",
              "      <td>0.117424</td>\n",
              "      <td>0.136039</td>\n",
              "      <td>0.151557</td>\n",
              "      <td>0.173444</td>\n",
              "      <td>0.175659</td>\n",
              "      <td>0.154053</td>\n",
              "    </tr>\n",
              "  </tbody>\n",
              "</table>\n",
              "<p>1 rows × 29 columns</p>\n",
              "</div>\n",
              "    <div class=\"colab-df-buttons\">\n",
              "\n",
              "  <div class=\"colab-df-container\">\n",
              "    <button class=\"colab-df-convert\" onclick=\"convertToInteractive('df-79a1ec94-bb3c-4efd-b509-5348694da88e')\"\n",
              "            title=\"Convert this dataframe to an interactive table.\"\n",
              "            style=\"display:none;\">\n",
              "\n",
              "  <svg xmlns=\"http://www.w3.org/2000/svg\" height=\"24px\" viewBox=\"0 -960 960 960\">\n",
              "    <path d=\"M120-120v-720h720v720H120Zm60-500h600v-160H180v160Zm220 220h160v-160H400v160Zm0 220h160v-160H400v160ZM180-400h160v-160H180v160Zm440 0h160v-160H620v160ZM180-180h160v-160H180v160Zm440 0h160v-160H620v160Z\"/>\n",
              "  </svg>\n",
              "    </button>\n",
              "\n",
              "  <style>\n",
              "    .colab-df-container {\n",
              "      display:flex;\n",
              "      gap: 12px;\n",
              "    }\n",
              "\n",
              "    .colab-df-convert {\n",
              "      background-color: #E8F0FE;\n",
              "      border: none;\n",
              "      border-radius: 50%;\n",
              "      cursor: pointer;\n",
              "      display: none;\n",
              "      fill: #1967D2;\n",
              "      height: 32px;\n",
              "      padding: 0 0 0 0;\n",
              "      width: 32px;\n",
              "    }\n",
              "\n",
              "    .colab-df-convert:hover {\n",
              "      background-color: #E2EBFA;\n",
              "      box-shadow: 0px 1px 2px rgba(60, 64, 67, 0.3), 0px 1px 3px 1px rgba(60, 64, 67, 0.15);\n",
              "      fill: #174EA6;\n",
              "    }\n",
              "\n",
              "    .colab-df-buttons div {\n",
              "      margin-bottom: 4px;\n",
              "    }\n",
              "\n",
              "    [theme=dark] .colab-df-convert {\n",
              "      background-color: #3B4455;\n",
              "      fill: #D2E3FC;\n",
              "    }\n",
              "\n",
              "    [theme=dark] .colab-df-convert:hover {\n",
              "      background-color: #434B5C;\n",
              "      box-shadow: 0px 1px 3px 1px rgba(0, 0, 0, 0.15);\n",
              "      filter: drop-shadow(0px 1px 2px rgba(0, 0, 0, 0.3));\n",
              "      fill: #FFFFFF;\n",
              "    }\n",
              "  </style>\n",
              "\n",
              "    <script>\n",
              "      const buttonEl =\n",
              "        document.querySelector('#df-79a1ec94-bb3c-4efd-b509-5348694da88e button.colab-df-convert');\n",
              "      buttonEl.style.display =\n",
              "        google.colab.kernel.accessAllowed ? 'block' : 'none';\n",
              "\n",
              "      async function convertToInteractive(key) {\n",
              "        const element = document.querySelector('#df-79a1ec94-bb3c-4efd-b509-5348694da88e');\n",
              "        const dataTable =\n",
              "          await google.colab.kernel.invokeFunction('convertToInteractive',\n",
              "                                                    [key], {});\n",
              "        if (!dataTable) return;\n",
              "\n",
              "        const docLinkHtml = 'Like what you see? Visit the ' +\n",
              "          '<a target=\"_blank\" href=https://colab.research.google.com/notebooks/data_table.ipynb>data table notebook</a>'\n",
              "          + ' to learn more about interactive tables.';\n",
              "        element.innerHTML = '';\n",
              "        dataTable['output_type'] = 'display_data';\n",
              "        await google.colab.output.renderOutput(dataTable, element);\n",
              "        const docLink = document.createElement('div');\n",
              "        docLink.innerHTML = docLinkHtml;\n",
              "        element.appendChild(docLink);\n",
              "      }\n",
              "    </script>\n",
              "  </div>\n",
              "\n",
              "    </div>\n",
              "  </div>\n"
            ]
          },
          "metadata": {},
          "execution_count": 63
        }
      ]
    },
    {
      "cell_type": "code",
      "source": [
        "! kaggle competitions submit -c m5-forecasting-accuracy -f submission.csv -m \"dept loop, native, FEs, early stop 20, lr: 0.3\""
      ],
      "metadata": {
        "id": "HLJwiilybQq9",
        "colab": {
          "base_uri": "https://localhost:8080/"
        },
        "outputId": "fe135445-cd0f-4d34-8cf1-d5bc2d42a01a"
      },
      "id": "HLJwiilybQq9",
      "execution_count": 64,
      "outputs": [
        {
          "output_type": "stream",
          "name": "stdout",
          "text": [
            "100% 13.4M/13.4M [00:02<00:00, 5.48MB/s]\n",
            "Successfully submitted to M5 Forecasting - Accuracy"
          ]
        }
      ]
    }
  ],
  "metadata": {
    "kernelspec": {
      "display_name": "Python 3",
      "name": "python3"
    },
    "language_info": {
      "codemirror_mode": {
        "name": "ipython",
        "version": 3
      },
      "file_extension": ".py",
      "mimetype": "text/x-python",
      "name": "python",
      "nbconvert_exporter": "python",
      "pygments_lexer": "ipython3",
      "version": "3.8.0"
    },
    "colab": {
      "provenance": [],
      "gpuType": "T4"
    },
    "accelerator": "GPU"
  },
  "nbformat": 4,
  "nbformat_minor": 5
}