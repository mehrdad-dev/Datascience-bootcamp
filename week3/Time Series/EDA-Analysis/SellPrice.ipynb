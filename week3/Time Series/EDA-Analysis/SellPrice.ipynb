{
 "cells": [
  {
   "cell_type": "code",
   "execution_count": 1,
   "id": "342275c4-c8a0-4298-a705-458457858fa2",
   "metadata": {},
   "outputs": [],
   "source": [
    "import numpy as np\n",
    "import pandas as pd\n",
    "import matplotlib.pyplot as plt\n",
    "import seaborn as sns\n",
    "import statsmodels.api as sm\n",
    "import scipy.stats as stats\n",
    "import datetime\n",
    "from statsmodels.tsa.stattools import adfuller\n",
    "from statsmodels.graphics.tsaplots import plot_acf, plot_pacf\n",
    "from statsmodels.tsa.seasonal import seasonal_decompose\n",
    "from sklearn.preprocessing import StandardScaler\n",
    "from sklearn.model_selection import train_test_split\n",
    "from sklearn.metrics import mean_squared_error\n",
    "import warnings\n",
    "import plotly.express as px\n",
    "import plotly.graph_objects as go\n",
    "import plotly.subplots as sp\n",
    "\n",
    "\n",
    "\n",
    "warnings.filterwarnings(\"ignore\")\n",
    "plt.style.use('seaborn-darkgrid')\n",
    "%matplotlib inline"
   ]
  },
  {
   "cell_type": "code",
   "execution_count": 2,
   "id": "236c5c00-4330-47d0-a851-d871751b70d8",
   "metadata": {},
   "outputs": [],
   "source": [
    "sells_df = pd.read_csv('sell_prices.csv')"
   ]
  },
  {
   "cell_type": "code",
   "execution_count": 3,
   "id": "26e7999f-8622-4f55-a04b-52408e8b8f57",
   "metadata": {},
   "outputs": [
    {
     "data": {
      "text/html": [
       "<div>\n",
       "<style scoped>\n",
       "    .dataframe tbody tr th:only-of-type {\n",
       "        vertical-align: middle;\n",
       "    }\n",
       "\n",
       "    .dataframe tbody tr th {\n",
       "        vertical-align: top;\n",
       "    }\n",
       "\n",
       "    .dataframe thead th {\n",
       "        text-align: right;\n",
       "    }\n",
       "</style>\n",
       "<table border=\"1\" class=\"dataframe\">\n",
       "  <thead>\n",
       "    <tr style=\"text-align: right;\">\n",
       "      <th></th>\n",
       "      <th>store_id</th>\n",
       "      <th>item_id</th>\n",
       "      <th>wm_yr_wk</th>\n",
       "      <th>sell_price</th>\n",
       "    </tr>\n",
       "  </thead>\n",
       "  <tbody>\n",
       "    <tr>\n",
       "      <th>0</th>\n",
       "      <td>CA_1</td>\n",
       "      <td>HOBBIES_1_001</td>\n",
       "      <td>11325</td>\n",
       "      <td>9.58</td>\n",
       "    </tr>\n",
       "    <tr>\n",
       "      <th>1</th>\n",
       "      <td>CA_1</td>\n",
       "      <td>HOBBIES_1_001</td>\n",
       "      <td>11326</td>\n",
       "      <td>9.58</td>\n",
       "    </tr>\n",
       "    <tr>\n",
       "      <th>2</th>\n",
       "      <td>CA_1</td>\n",
       "      <td>HOBBIES_1_001</td>\n",
       "      <td>11327</td>\n",
       "      <td>8.26</td>\n",
       "    </tr>\n",
       "    <tr>\n",
       "      <th>3</th>\n",
       "      <td>CA_1</td>\n",
       "      <td>HOBBIES_1_001</td>\n",
       "      <td>11328</td>\n",
       "      <td>8.26</td>\n",
       "    </tr>\n",
       "    <tr>\n",
       "      <th>4</th>\n",
       "      <td>CA_1</td>\n",
       "      <td>HOBBIES_1_001</td>\n",
       "      <td>11329</td>\n",
       "      <td>8.26</td>\n",
       "    </tr>\n",
       "  </tbody>\n",
       "</table>\n",
       "</div>"
      ],
      "text/plain": [
       "  store_id        item_id  wm_yr_wk  sell_price\n",
       "0     CA_1  HOBBIES_1_001     11325        9.58\n",
       "1     CA_1  HOBBIES_1_001     11326        9.58\n",
       "2     CA_1  HOBBIES_1_001     11327        8.26\n",
       "3     CA_1  HOBBIES_1_001     11328        8.26\n",
       "4     CA_1  HOBBIES_1_001     11329        8.26"
      ]
     },
     "execution_count": 3,
     "metadata": {},
     "output_type": "execute_result"
    }
   ],
   "source": [
    "sells_df.head()"
   ]
  },
  {
   "cell_type": "code",
   "execution_count": 3,
   "id": "240e3c7c-2f22-4aad-8c8b-fd56c3024f19",
   "metadata": {},
   "outputs": [],
   "source": [
    "def downcast(df):\n",
    "    cols = df.dtypes.index.tolist()\n",
    "    types = df.dtypes.values.tolist()\n",
    "    for i,t in enumerate(types):\n",
    "        if 'int' in str(t):\n",
    "            if df[cols[i]].min() > np.iinfo(np.int8).min and df[cols[i]].max() < np.iinfo(np.int8).max:\n",
    "                df[cols[i]] = df[cols[i]].astype(np.int8)\n",
    "            elif df[cols[i]].min() > np.iinfo(np.int16).min and df[cols[i]].max() < np.iinfo(np.int16).max:\n",
    "                df[cols[i]] = df[cols[i]].astype(np.int16)\n",
    "            elif df[cols[i]].min() > np.iinfo(np.int32).min and df[cols[i]].max() < np.iinfo(np.int32).max:\n",
    "                df[cols[i]] = df[cols[i]].astype(np.int32)\n",
    "            else:\n",
    "                df[cols[i]] = df[cols[i]].astype(np.int64)\n",
    "        elif 'float' in str(t):\n",
    "            if df[cols[i]].min() > np.finfo(np.float16).min and df[cols[i]].max() < np.finfo(np.float16).max:\n",
    "                df[cols[i]] = df[cols[i]].astype(np.float16)\n",
    "            elif df[cols[i]].min() > np.finfo(np.float32).min and df[cols[i]].max() < np.finfo(np.float32).max:\n",
    "                df[cols[i]] = df[cols[i]].astype(np.float32)\n",
    "            else:\n",
    "                df[cols[i]] = df[cols[i]].astype(np.float64)\n",
    "        elif t == np.object:\n",
    "            if cols[i] == 'date':\n",
    "                df[cols[i]] = pd.to_datetime(df[cols[i]], format='%Y-%m-%d')\n",
    "            else:\n",
    "                df[cols[i]] = df[cols[i]].astype('category')\n",
    "    return df  \n",
    "\n",
    "sells_df = downcast(sells_df)"
   ]
  },
  {
   "cell_type": "code",
   "execution_count": 4,
   "id": "77b5d91a-58fd-478b-b2f4-aa08ae67546f",
   "metadata": {},
   "outputs": [
    {
     "data": {
      "text/plain": [
       "(6841121, 4)"
      ]
     },
     "execution_count": 4,
     "metadata": {},
     "output_type": "execute_result"
    }
   ],
   "source": [
    "sells_df.shape"
   ]
  },
  {
   "cell_type": "code",
   "execution_count": 6,
   "id": "4379aff2-5071-4471-89be-d135cf33e187",
   "metadata": {},
   "outputs": [
    {
     "data": {
      "text/html": [
       "<div>\n",
       "<style scoped>\n",
       "    .dataframe tbody tr th:only-of-type {\n",
       "        vertical-align: middle;\n",
       "    }\n",
       "\n",
       "    .dataframe tbody tr th {\n",
       "        vertical-align: top;\n",
       "    }\n",
       "\n",
       "    .dataframe thead th {\n",
       "        text-align: right;\n",
       "    }\n",
       "</style>\n",
       "<table border=\"1\" class=\"dataframe\">\n",
       "  <thead>\n",
       "    <tr style=\"text-align: right;\">\n",
       "      <th></th>\n",
       "      <th>wm_yr_wk</th>\n",
       "      <th>sell_price</th>\n",
       "    </tr>\n",
       "  </thead>\n",
       "  <tbody>\n",
       "    <tr>\n",
       "      <th>count</th>\n",
       "      <td>6.841121e+06</td>\n",
       "      <td>6.841121e+06</td>\n",
       "    </tr>\n",
       "    <tr>\n",
       "      <th>mean</th>\n",
       "      <td>1.138294e+04</td>\n",
       "      <td>NaN</td>\n",
       "    </tr>\n",
       "    <tr>\n",
       "      <th>std</th>\n",
       "      <td>1.486100e+02</td>\n",
       "      <td>0.000000e+00</td>\n",
       "    </tr>\n",
       "    <tr>\n",
       "      <th>min</th>\n",
       "      <td>1.110100e+04</td>\n",
       "      <td>1.000214e-02</td>\n",
       "    </tr>\n",
       "    <tr>\n",
       "      <th>25%</th>\n",
       "      <td>1.124700e+04</td>\n",
       "      <td>2.179688e+00</td>\n",
       "    </tr>\n",
       "    <tr>\n",
       "      <th>50%</th>\n",
       "      <td>1.141100e+04</td>\n",
       "      <td>3.470703e+00</td>\n",
       "    </tr>\n",
       "    <tr>\n",
       "      <th>75%</th>\n",
       "      <td>1.151700e+04</td>\n",
       "      <td>5.839844e+00</td>\n",
       "    </tr>\n",
       "    <tr>\n",
       "      <th>max</th>\n",
       "      <td>1.162100e+04</td>\n",
       "      <td>1.073125e+02</td>\n",
       "    </tr>\n",
       "  </tbody>\n",
       "</table>\n",
       "</div>"
      ],
      "text/plain": [
       "           wm_yr_wk    sell_price\n",
       "count  6.841121e+06  6.841121e+06\n",
       "mean   1.138294e+04           NaN\n",
       "std    1.486100e+02  0.000000e+00\n",
       "min    1.110100e+04  1.000214e-02\n",
       "25%    1.124700e+04  2.179688e+00\n",
       "50%    1.141100e+04  3.470703e+00\n",
       "75%    1.151700e+04  5.839844e+00\n",
       "max    1.162100e+04  1.073125e+02"
      ]
     },
     "execution_count": 6,
     "metadata": {},
     "output_type": "execute_result"
    }
   ],
   "source": [
    "sells_df.describe()"
   ]
  },
  {
   "cell_type": "code",
   "execution_count": 14,
   "id": "3c01b210-c430-4dc7-8095-e71efe07cf77",
   "metadata": {},
   "outputs": [
    {
     "data": {
      "text/plain": [
       "Index(['store_id', 'item_id', 'wm_yr_wk', 'sell_price'], dtype='object')"
      ]
     },
     "execution_count": 14,
     "metadata": {},
     "output_type": "execute_result"
    }
   ],
   "source": [
    "sells_df.columns"
   ]
  },
  {
   "cell_type": "code",
   "execution_count": 19,
   "id": "152efefc-3238-4692-a36e-e38a4f67cd36",
   "metadata": {},
   "outputs": [
    {
     "name": "stdout",
     "output_type": "stream",
     "text": [
      "['CA_1', 'CA_2', 'CA_3', 'CA_4', 'TX_1', 'TX_2', 'TX_3', 'WI_1', 'WI_2', 'WI_3']\n",
      "Categories (10, object): ['CA_1', 'CA_2', 'CA_3', 'CA_4', ..., 'TX_3', 'WI_1', 'WI_2', 'WI_3']\n"
     ]
    }
   ],
   "source": [
    "store_counts = sells_df['store_id'].unique()\n",
    "print(store_counts)"
   ]
  },
  {
   "cell_type": "code",
   "execution_count": 13,
   "id": "8bf8b8a3-4e96-4b1f-9805-004aeb83df1e",
   "metadata": {},
   "outputs": [
    {
     "name": "stdout",
     "output_type": "stream",
     "text": [
      "HOUSEHOLD_1_087    2820\n",
      "HOBBIES_1_164      2820\n",
      "HOBBIES_1_233      2820\n",
      "HOUSEHOLD_2_030    2820\n",
      "HOUSEHOLD_2_033    2820\n",
      "                   ... \n",
      "HOUSEHOLD_1_308     642\n",
      "HOUSEHOLD_1_159     623\n",
      "HOUSEHOLD_1_242     600\n",
      "FOODS_3_296         592\n",
      "FOODS_2_379         530\n",
      "Name: item_id, Length: 3049, dtype: int64\n"
     ]
    }
   ],
   "source": [
    "item_counts = sells_df['item_id'].value_counts()\n",
    "print(item_counts)"
   ]
  },
  {
   "cell_type": "markdown",
   "id": "c1870b8a-9043-4a42-bdc3-c5aab203c7b3",
   "metadata": {},
   "source": [
    "***Distribution of Sell Prices***"
   ]
  },
  {
   "cell_type": "code",
   "execution_count": 28,
   "id": "1b28a0d7-5c30-4570-be5a-ab87148c82df",
   "metadata": {},
   "outputs": [],
   "source": [
    "import plotly.express as px\n",
    "\n",
    "fig = px.histogram(sells_df, x='sell_price', nbins=30, title='Distribution of Sell Prices', labels={'sell_price': 'Sell Price', 'count': 'Frequency'})\n",
    "fig.update_traces(marker_color='royalblue', selector=dict(type='histogram'))\n",
    "fig.update_layout(xaxis_title='Sell Price', yaxis_title='Frequency')\n",
    "***fig.show()\n"
   ]
  },
  {
   "cell_type": "markdown",
   "id": "ba6b4ace-5633-4a26-8b0d-0f49e8526be5",
   "metadata": {},
   "source": [
    "***there are a few items with very high sell prices, but most items have much lower sell prices.***\n",
    "\n"
   ]
  },
  {
   "cell_type": "code",
   "execution_count": 27,
   "id": "8ad145a4-1bb1-4518-99d5-2d4e7bc2a374",
   "metadata": {},
   "outputs": [],
   "source": [
    "fig = px.box(sells_df, x='store_id', y='sell_price', title='Sell Price Variation by Store', labels={'store_id': 'Store ID', 'sell_price': 'Sell Price'})\n",
    "fig.updateb\n",
    "_layout(xaxis_tickangle=-45)\n",
    "fig.show()"
   ]
  },
  {
   "cell_type": "markdown",
   "id": "2192e455-7619-4de4-8136-16aa10c930ed",
   "metadata": {},
   "source": [
    "***There are some outliers for some stores. These are the data points that fall outside the boxplots. Outliers can be caused by a variety of factors, such as data entry errors or unusual events.***\n"
   ]
  },
  {
   "cell_type": "markdown",
   "id": "11d1fbe4-5c5b-497b-9cc0-8405c2fa0855",
   "metadata": {},
   "source": [
    "***Sell Price Correlation Heatmap***"
   ]
  },
  {
   "cell_type": "code",
   "execution_count": 26,
   "id": "9917698d-871c-40eb-87ac-f85fefb986d6",
   "metadata": {},
   "outputs": [],
   "source": [
    "import plotly.graph_objs as go\n",
    "\n",
    "correlation_heatmap = sell_prices_pivot.corr()\n",
    "\n",
    "fig = go.Figure(data=go.Heatmap(\n",
    "                   z=correlation_heatmap.values,\n",
    "                   x=correlation_heatmap.columns,\n",
    "                   y=correlation_heatmap.columns,\n",
    "                   colorscale='Viridis'))\n",
    "\n",
    "fig.update_layout(\n",
    "    title='Sell Price Correlation Heatmap',\n",
    "    xaxis=dict(title='Store ID'),\n",
    "    yaxis=dict(title='Store ID')\n",
    ")\n",
    "fig.update_layout(showlegend=True, height=750)\n",
    "fig.show()\n"
   ]
  },
  {
   "cell_type": "markdown",
   "id": "4df13731-bf84-43e1-89b8-24c86e078747",
   "metadata": {},
   "source": [
    "***Average Price by Store Over Time***"
   ]
  },
  {
   "cell_type": "code",
   "execution_count": 29,
   "id": "10a681b4-c4ba-4c79-9795-48fa1696c2a4",
   "metadata": {},
   "outputs": [],
   "source": [
    "import plotly.express as px\n",
    "\n",
    "average_prices = sells_df.groupby(['store_id', 'wm_yr_wk'])['sell_price'].mean().reset_index()\n",
    "\n",
    "fig = px.line(\n",
    "    average_prices,\n",
    "    x='wm_yr_wk',\n",
    "    y='sell_price',\n",
    "    color='store_id',\n",
    "    title='Average Price by Store Over Time',\n",
    "    labels={'wm_yr_wk': 'Week (wm_yr_wk)', 'sell_price': 'Average Sell Price', 'store_id': 'Store ID'},\n",
    ")\n",
    "\n",
    "fig.update_xaxes(tickangle=45)\n",
    "fig.update_layout(showlegend=True, height=600)  # Increase the height to 600 pixels\n",
    "fig.update_layout(showlegend=True)\n",
    "fig.show()\n"
   ]
  },
  {
   "cell_type": "markdown",
   "id": "accd790f-4a11-480a-8f1d-23eaeaf85fce",
   "metadata": {},
   "source": [
    "***The average sell price for all stores tends to increase over time.***"
   ]
  },
  {
   "cell_type": "markdown",
   "id": "f1b6f113-d305-40ab-8e84-932ec5a210f3",
   "metadata": {},
   "source": [
    "***Let's first look at the distribution of prices across Categories***"
   ]
  },
  {
   "cell_type": "code",
   "execution_count": 4,
   "id": "0e49e63a-2d13-4894-9207-ea3720350cca",
   "metadata": {},
   "outputs": [],
   "source": [
    "sells_df[\"Category\"] = sells_df[\"item_id\"].str.split(\"_\",expand = True)[0]"
   ]
  },
  {
   "cell_type": "code",
   "execution_count": 5,
   "id": "5dee315d-dbbf-470c-a053-49bab126e6cb",
   "metadata": {},
   "outputs": [
    {
     "data": {
      "text/plain": [
       "Text(0.5, 1.0, 'Density plot of log of prices accross Categories')"
      ]
     },
     "execution_count": 5,
     "metadata": {},
     "output_type": "execute_result"
    },
    {
     "data": {
      "image/png": "[encoded data removed]",
      "text/plain": [
       "<Figure size 864x432 with 1 Axes>"
      ]
     },
     "metadata": {
      "needs_background": "light"
     },
     "output_type": "display_data"
    }
   ],
   "source": [
    "plt.figure(figsize=(12,6))\n",
    "p1=sns.kdeplot(sells_df[sells_df['Category']=='HOBBIES']['sell_price'], shade=True, color=\"b\")\n",
    "p2=sns.kdeplot(sells_df[sells_df['Category']=='FOODS']['sell_price'], shade=True, color=\"r\")\n",
    "p3=sns.kdeplot(sells_df[sells_df['Category']=='HOUSEHOLD']['sell_price'], shade=True, color=\"g\")\n",
    "plt.legend(labels=['HOBBIES','FOODS',\"HOUSEHOLD\"])\n",
    "plt.xscale(\"log\")\n",
    "plt.xlabel(\"Log of Prices\")\n",
    "plt.ylabel(\"Density\")\n",
    "plt.title(\"Density plot of log of prices accross Categories\")"
   ]
  },
  {
   "cell_type": "markdown",
   "id": "4561a676-6443-4f1c-b185-0a0cdcb458eb",
   "metadata": {},
   "source": [
    "***What we see:***\n",
    "\n",
    "-   ***Most of the prices for food products lie between 1 dollars and 10 dollars. As we can see the high peak between 10^0 and 10^1***\n",
    "-   ***Hobbies show a pretty wide range of prices***\n",
    "-   ***Households are costlier than Food***\n",
    "\n"
   ]
  },
  {
   "cell_type": "code",
   "execution_count": 19,
   "id": "59bf8e20-bbfa-4c62-b747-3d927166d01b",
   "metadata": {},
   "outputs": [],
   "source": [
    "#Let's look at items with the maximum price change and minimum price change over the years\n",
    "item_store_prices = sells_df.groupby([\"item_id\",\"store_id\"]).agg({\"sell_price\":[\"max\",\"min\"]})\n",
    "item_store_prices.columns = [f'{i}_{j}' if j != '' else f'{i}' for i,j in item_store_prices.columns]                                               \n",
    "item_store_prices[\"price_change\"] = item_store_prices[\"sell_price_max\"] - item_store_prices[\"sell_price_min\"]\n",
    "item_store_prices_sorted = item_store_prices.sort_values([\"price_change\",\"item_id\"],ascending=False).reset_index()\n",
    "item_store_prices_sorted[\"category\"] = item_store_prices_sorted[\"item_id\"].str.split(\"_\",expand = True)[0]"
   ]
  },
  {
   "cell_type": "code",
   "execution_count": 20,
   "id": "89341b87-923c-4684-a11d-02b517c04912",
   "metadata": {},
   "outputs": [
    {
     "name": "stdout",
     "output_type": "stream",
     "text": [
      "Items sorted by maximum price change over the years (top 10)\n"
     ]
    },
    {
     "data": {
      "text/html": [
       "<div>\n",
       "<style scoped>\n",
       "    .dataframe tbody tr th:only-of-type {\n",
       "        vertical-align: middle;\n",
       "    }\n",
       "\n",
       "    .dataframe tbody tr th {\n",
       "        vertical-align: top;\n",
       "    }\n",
       "\n",
       "    .dataframe thead th {\n",
       "        text-align: right;\n",
       "    }\n",
       "</style>\n",
       "<table border=\"1\" class=\"dataframe\">\n",
       "  <thead>\n",
       "    <tr style=\"text-align: right;\">\n",
       "      <th></th>\n",
       "      <th>item_id</th>\n",
       "      <th>store_id</th>\n",
       "      <th>sell_price_max</th>\n",
       "      <th>sell_price_min</th>\n",
       "      <th>price_change</th>\n",
       "      <th>category</th>\n",
       "    </tr>\n",
       "  </thead>\n",
       "  <tbody>\n",
       "    <tr>\n",
       "      <th>0</th>\n",
       "      <td>HOUSEHOLD_2_406</td>\n",
       "      <td>WI_3</td>\n",
       "      <td>107.312500</td>\n",
       "      <td>3.259766</td>\n",
       "      <td>104.062500</td>\n",
       "      <td>HOUSEHOLD</td>\n",
       "    </tr>\n",
       "    <tr>\n",
       "      <th>1</th>\n",
       "      <td>HOUSEHOLD_2_406</td>\n",
       "      <td>WI_2</td>\n",
       "      <td>61.468750</td>\n",
       "      <td>12.460938</td>\n",
       "      <td>49.000000</td>\n",
       "      <td>HOUSEHOLD</td>\n",
       "    </tr>\n",
       "    <tr>\n",
       "      <th>2</th>\n",
       "      <td>HOUSEHOLD_2_466</td>\n",
       "      <td>TX_1</td>\n",
       "      <td>52.625000</td>\n",
       "      <td>6.460938</td>\n",
       "      <td>46.156250</td>\n",
       "      <td>HOUSEHOLD</td>\n",
       "    </tr>\n",
       "    <tr>\n",
       "      <th>3</th>\n",
       "      <td>HOUSEHOLD_2_178</td>\n",
       "      <td>TX_1</td>\n",
       "      <td>44.375000</td>\n",
       "      <td>3.000000</td>\n",
       "      <td>41.375000</td>\n",
       "      <td>HOUSEHOLD</td>\n",
       "    </tr>\n",
       "    <tr>\n",
       "      <th>4</th>\n",
       "      <td>HOUSEHOLD_2_250</td>\n",
       "      <td>WI_2</td>\n",
       "      <td>34.187500</td>\n",
       "      <td>3.359375</td>\n",
       "      <td>30.828125</td>\n",
       "      <td>HOUSEHOLD</td>\n",
       "    </tr>\n",
       "    <tr>\n",
       "      <th>5</th>\n",
       "      <td>HOUSEHOLD_2_406</td>\n",
       "      <td>WI_1</td>\n",
       "      <td>35.875000</td>\n",
       "      <td>9.968750</td>\n",
       "      <td>25.906250</td>\n",
       "      <td>HOUSEHOLD</td>\n",
       "    </tr>\n",
       "    <tr>\n",
       "      <th>6</th>\n",
       "      <td>HOUSEHOLD_2_250</td>\n",
       "      <td>WI_1</td>\n",
       "      <td>30.312500</td>\n",
       "      <td>4.968750</td>\n",
       "      <td>25.343750</td>\n",
       "      <td>HOUSEHOLD</td>\n",
       "    </tr>\n",
       "    <tr>\n",
       "      <th>7</th>\n",
       "      <td>HOUSEHOLD_1_469</td>\n",
       "      <td>WI_3</td>\n",
       "      <td>19.968750</td>\n",
       "      <td>1.000000</td>\n",
       "      <td>18.968750</td>\n",
       "      <td>HOUSEHOLD</td>\n",
       "    </tr>\n",
       "    <tr>\n",
       "      <th>8</th>\n",
       "      <td>HOUSEHOLD_2_514</td>\n",
       "      <td>TX_2</td>\n",
       "      <td>19.546875</td>\n",
       "      <td>1.000000</td>\n",
       "      <td>18.546875</td>\n",
       "      <td>HOUSEHOLD</td>\n",
       "    </tr>\n",
       "    <tr>\n",
       "      <th>9</th>\n",
       "      <td>HOUSEHOLD_1_342</td>\n",
       "      <td>WI_3</td>\n",
       "      <td>17.968750</td>\n",
       "      <td>1.000000</td>\n",
       "      <td>16.968750</td>\n",
       "      <td>HOUSEHOLD</td>\n",
       "    </tr>\n",
       "  </tbody>\n",
       "</table>\n",
       "</div>"
      ],
      "text/plain": [
       "           item_id store_id  sell_price_max  sell_price_min  price_change  \\\n",
       "0  HOUSEHOLD_2_406     WI_3      107.312500        3.259766    104.062500   \n",
       "1  HOUSEHOLD_2_406     WI_2       61.468750       12.460938     49.000000   \n",
       "2  HOUSEHOLD_2_466     TX_1       52.625000        6.460938     46.156250   \n",
       "3  HOUSEHOLD_2_178     TX_1       44.375000        3.000000     41.375000   \n",
       "4  HOUSEHOLD_2_250     WI_2       34.187500        3.359375     30.828125   \n",
       "5  HOUSEHOLD_2_406     WI_1       35.875000        9.968750     25.906250   \n",
       "6  HOUSEHOLD_2_250     WI_1       30.312500        4.968750     25.343750   \n",
       "7  HOUSEHOLD_1_469     WI_3       19.968750        1.000000     18.968750   \n",
       "8  HOUSEHOLD_2_514     TX_2       19.546875        1.000000     18.546875   \n",
       "9  HOUSEHOLD_1_342     WI_3       17.968750        1.000000     16.968750   \n",
       "\n",
       "    category  \n",
       "0  HOUSEHOLD  \n",
       "1  HOUSEHOLD  \n",
       "2  HOUSEHOLD  \n",
       "3  HOUSEHOLD  \n",
       "4  HOUSEHOLD  \n",
       "5  HOUSEHOLD  \n",
       "6  HOUSEHOLD  \n",
       "7  HOUSEHOLD  \n",
       "8  HOUSEHOLD  \n",
       "9  HOUSEHOLD  "
      ]
     },
     "execution_count": 20,
     "metadata": {},
     "output_type": "execute_result"
    }
   ],
   "source": [
    "print(\"Items sorted by maximum price change over the years (top 10)\")\n",
    "item_store_prices_sorted.head(10)"
   ]
  },
  {
   "cell_type": "markdown",
   "id": "4fd9cd30-f0a8-45be-adc9-25aa9d8286d1",
   "metadata": {},
   "source": [
    "***Notes:***\n",
    "- ***We see that household items specially HOUSEHOLD_2 department has shown the maximum price changes specially in Wisconsin.***\n",
    "- ***The price changed the most for HOUSEHOLD_2_406 item in WI_3 store where the min price was just 3.26 dollors and had rised 32 times to 107 dollors***\n",
    "- ***FOODS_1_014 item hasnt changed prices over the years. Also, the price is fixed in all stores***"
   ]
  },
  {
   "cell_type": "code",
   "execution_count": 30,
   "id": "23db8cd6-bf9f-44fa-98ba-f9be4fac0c81",
   "metadata": {},
   "outputs": [],
   "source": [
    "fig = px.box(\n",
    "    item_store_prices_sorted,\n",
    "    x=\"price_change\",\n",
    "    y=\"category\",\n",
    "    title=\"Boxplot for Maximum Price Change for Each Item Over the Years Across All Categories\",\n",
    "    labels={\"price_change\": \"Price Change\", \"category\": \"Category\"}\n",
    ")\n",
    "\n",
    "fig.show()"
   ]
  },
  {
   "cell_type": "markdown",
   "id": "6a006a46-af78-478b-b27c-ef4c5bc4792d",
   "metadata": {},
   "source": [
    "\n",
    "\n",
    "***Notes:***\n",
    "\n",
    "-   ***Most products dont change prices at all and most changes are restricted to 10-15$***\n",
    "-    ***Household items have the highest price changes over the years***\n",
    "\n"
   ]
  }
 ],
 "metadata": {
  "kernelspec": {
   "display_name": "Python 3 (ipykernel)",
   "language": "python",
   "name": "python3"
  },
  "language_info": {
   "codemirror_mode": {
    "name": "ipython",
    "version": 3
   },
   "file_extension": ".py",
   "mimetype": "text/x-python",
   "name": "python",
   "nbconvert_exporter": "python",
   "pygments_lexer": "ipython3",
   "version": "3.8.0"
  }
 },
 "nbformat": 4,
 "nbformat_minor": 5
}
