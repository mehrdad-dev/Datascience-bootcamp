{
  "nbformat": 4,
  "nbformat_minor": 0,
  "metadata": {
    "colab": {
      "provenance": [],
      "gpuType": "T4"
    },
    "kernelspec": {
      "name": "python3",
      "display_name": "Python 3"
    },
    "language_info": {
      "name": "python"
    },
    "accelerator": "GPU",
    "widgets": {
      "application/vnd.jupyter.widget-state+json": {
        "51a4fa52e8ac4ac2a2020e6451fad460": {
          "model_module": "@jupyter-widgets/controls",
          "model_name": "HBoxModel",
          "model_module_version": "1.5.0",
          "state": {
            "_dom_classes": [],
            "_model_module": "@jupyter-widgets/controls",
            "_model_module_version": "1.5.0",
            "_model_name": "HBoxModel",
            "_view_count": null,
            "_view_module": "@jupyter-widgets/controls",
            "_view_module_version": "1.5.0",
            "_view_name": "HBoxView",
            "box_style": "",
            "children": [
              "IPY_MODEL_f93be77e567c4106930f3bbdaf6ee0d2",
              "IPY_MODEL_f9b9fa11364d41b188ea32cbf357d879",
              "IPY_MODEL_bb6c9dcc254a4cf79575b94b19ff0985"
            ],
            "layout": "IPY_MODEL_71e0dbe805224930a5050de55adcc3cd"
          }
        },
        "f93be77e567c4106930f3bbdaf6ee0d2": {
          "model_module": "@jupyter-widgets/controls",
          "model_name": "HTMLModel",
          "model_module_version": "1.5.0",
          "state": {
            "_dom_classes": [],
            "_model_module": "@jupyter-widgets/controls",
            "_model_module_version": "1.5.0",
            "_model_name": "HTMLModel",
            "_view_count": null,
            "_view_module": "@jupyter-widgets/controls",
            "_view_module_version": "1.5.0",
            "_view_name": "HTMLView",
            "description": "",
            "description_tooltip": null,
            "layout": "IPY_MODEL_4fac81cbd9ad4391b3691775aa91ea89",
            "placeholder": "​",
            "style": "IPY_MODEL_3f14d90d11e24ab4956f3def9353ba66",
            "value": "Batches: 100%"
          }
        },
        "f9b9fa11364d41b188ea32cbf357d879": {
          "model_module": "@jupyter-widgets/controls",
          "model_name": "FloatProgressModel",
          "model_module_version": "1.5.0",
          "state": {
            "_dom_classes": [],
            "_model_module": "@jupyter-widgets/controls",
            "_model_module_version": "1.5.0",
            "_model_name": "FloatProgressModel",
            "_view_count": null,
            "_view_module": "@jupyter-widgets/controls",
            "_view_module_version": "1.5.0",
            "_view_name": "ProgressView",
            "bar_style": "success",
            "description": "",
            "description_tooltip": null,
            "layout": "IPY_MODEL_0f326412f6b04466b020048815403ef2",
            "max": 2005,
            "min": 0,
            "orientation": "horizontal",
            "style": "IPY_MODEL_97f9252dafb94ff3ab030b69b1f5d248",
            "value": 2005
          }
        },
        "bb6c9dcc254a4cf79575b94b19ff0985": {
          "model_module": "@jupyter-widgets/controls",
          "model_name": "HTMLModel",
          "model_module_version": "1.5.0",
          "state": {
            "_dom_classes": [],
            "_model_module": "@jupyter-widgets/controls",
            "_model_module_version": "1.5.0",
            "_model_name": "HTMLModel",
            "_view_count": null,
            "_view_module": "@jupyter-widgets/controls",
            "_view_module_version": "1.5.0",
            "_view_name": "HTMLView",
            "description": "",
            "description_tooltip": null,
            "layout": "IPY_MODEL_c78cb4f1f1f847b3ba2859b87f4bdd2b",
            "placeholder": "​",
            "style": "IPY_MODEL_c7ac17a533944697908aff2e2c1453c2",
            "value": " 2005/2005 [27:51&lt;00:00, 17.10it/s]"
          }
        },
        "71e0dbe805224930a5050de55adcc3cd": {
          "model_module": "@jupyter-widgets/base",
          "model_name": "LayoutModel",
          "model_module_version": "1.2.0",
          "state": {
            "_model_module": "@jupyter-widgets/base",
            "_model_module_version": "1.2.0",
            "_model_name": "LayoutModel",
            "_view_count": null,
            "_view_module": "@jupyter-widgets/base",
            "_view_module_version": "1.2.0",
            "_view_name": "LayoutView",
            "align_content": null,
            "align_items": null,
            "align_self": null,
            "border": null,
            "bottom": null,
            "display": null,
            "flex": null,
            "flex_flow": null,
            "grid_area": null,
            "grid_auto_columns": null,
            "grid_auto_flow": null,
            "grid_auto_rows": null,
            "grid_column": null,
            "grid_gap": null,
            "grid_row": null,
            "grid_template_areas": null,
            "grid_template_columns": null,
            "grid_template_rows": null,
            "height": null,
            "justify_content": null,
            "justify_items": null,
            "left": null,
            "margin": null,
            "max_height": null,
            "max_width": null,
            "min_height": null,
            "min_width": null,
            "object_fit": null,
            "object_position": null,
            "order": null,
            "overflow": null,
            "overflow_x": null,
            "overflow_y": null,
            "padding": null,
            "right": null,
            "top": null,
            "visibility": null,
            "width": null
          }
        },
        "4fac81cbd9ad4391b3691775aa91ea89": {
          "model_module": "@jupyter-widgets/base",
          "model_name": "LayoutModel",
          "model_module_version": "1.2.0",
          "state": {
            "_model_module": "@jupyter-widgets/base",
            "_model_module_version": "1.2.0",
            "_model_name": "LayoutModel",
            "_view_count": null,
            "_view_module": "@jupyter-widgets/base",
            "_view_module_version": "1.2.0",
            "_view_name": "LayoutView",
            "align_content": null,
            "align_items": null,
            "align_self": null,
            "border": null,
            "bottom": null,
            "display": null,
            "flex": null,
            "flex_flow": null,
            "grid_area": null,
            "grid_auto_columns": null,
            "grid_auto_flow": null,
            "grid_auto_rows": null,
            "grid_column": null,
            "grid_gap": null,
            "grid_row": null,
            "grid_template_areas": null,
            "grid_template_columns": null,
            "grid_template_rows": null,
            "height": null,
            "justify_content": null,
            "justify_items": null,
            "left": null,
            "margin": null,
            "max_height": null,
            "max_width": null,
            "min_height": null,
            "min_width": null,
            "object_fit": null,
            "object_position": null,
            "order": null,
            "overflow": null,
            "overflow_x": null,
            "overflow_y": null,
            "padding": null,
            "right": null,
            "top": null,
            "visibility": null,
            "width": null
          }
        },
        "3f14d90d11e24ab4956f3def9353ba66": {
          "model_module": "@jupyter-widgets/controls",
          "model_name": "DescriptionStyleModel",
          "model_module_version": "1.5.0",
          "state": {
            "_model_module": "@jupyter-widgets/controls",
            "_model_module_version": "1.5.0",
            "_model_name": "DescriptionStyleModel",
            "_view_count": null,
            "_view_module": "@jupyter-widgets/base",
            "_view_module_version": "1.2.0",
            "_view_name": "StyleView",
            "description_width": ""
          }
        },
        "0f326412f6b04466b020048815403ef2": {
          "model_module": "@jupyter-widgets/base",
          "model_name": "LayoutModel",
          "model_module_version": "1.2.0",
          "state": {
            "_model_module": "@jupyter-widgets/base",
            "_model_module_version": "1.2.0",
            "_model_name": "LayoutModel",
            "_view_count": null,
            "_view_module": "@jupyter-widgets/base",
            "_view_module_version": "1.2.0",
            "_view_name": "LayoutView",
            "align_content": null,
            "align_items": null,
            "align_self": null,
            "border": null,
            "bottom": null,
            "display": null,
            "flex": null,
            "flex_flow": null,
            "grid_area": null,
            "grid_auto_columns": null,
            "grid_auto_flow": null,
            "grid_auto_rows": null,
            "grid_column": null,
            "grid_gap": null,
            "grid_row": null,
            "grid_template_areas": null,
            "grid_template_columns": null,
            "grid_template_rows": null,
            "height": null,
            "justify_content": null,
            "justify_items": null,
            "left": null,
            "margin": null,
            "max_height": null,
            "max_width": null,
            "min_height": null,
            "min_width": null,
            "object_fit": null,
            "object_position": null,
            "order": null,
            "overflow": null,
            "overflow_x": null,
            "overflow_y": null,
            "padding": null,
            "right": null,
            "top": null,
            "visibility": null,
            "width": null
          }
        },
        "97f9252dafb94ff3ab030b69b1f5d248": {
          "model_module": "@jupyter-widgets/controls",
          "model_name": "ProgressStyleModel",
          "model_module_version": "1.5.0",
          "state": {
            "_model_module": "@jupyter-widgets/controls",
            "_model_module_version": "1.5.0",
            "_model_name": "ProgressStyleModel",
            "_view_count": null,
            "_view_module": "@jupyter-widgets/base",
            "_view_module_version": "1.2.0",
            "_view_name": "StyleView",
            "bar_color": null,
            "description_width": ""
          }
        },
        "c78cb4f1f1f847b3ba2859b87f4bdd2b": {
          "model_module": "@jupyter-widgets/base",
          "model_name": "LayoutModel",
          "model_module_version": "1.2.0",
          "state": {
            "_model_module": "@jupyter-widgets/base",
            "_model_module_version": "1.2.0",
            "_model_name": "LayoutModel",
            "_view_count": null,
            "_view_module": "@jupyter-widgets/base",
            "_view_module_version": "1.2.0",
            "_view_name": "LayoutView",
            "align_content": null,
            "align_items": null,
            "align_self": null,
            "border": null,
            "bottom": null,
            "display": null,
            "flex": null,
            "flex_flow": null,
            "grid_area": null,
            "grid_auto_columns": null,
            "grid_auto_flow": null,
            "grid_auto_rows": null,
            "grid_column": null,
            "grid_gap": null,
            "grid_row": null,
            "grid_template_areas": null,
            "grid_template_columns": null,
            "grid_template_rows": null,
            "height": null,
            "justify_content": null,
            "justify_items": null,
            "left": null,
            "margin": null,
            "max_height": null,
            "max_width": null,
            "min_height": null,
            "min_width": null,
            "object_fit": null,
            "object_position": null,
            "order": null,
            "overflow": null,
            "overflow_x": null,
            "overflow_y": null,
            "padding": null,
            "right": null,
            "top": null,
            "visibility": null,
            "width": null
          }
        },
        "c7ac17a533944697908aff2e2c1453c2": {
          "model_module": "@jupyter-widgets/controls",
          "model_name": "DescriptionStyleModel",
          "model_module_version": "1.5.0",
          "state": {
            "_model_module": "@jupyter-widgets/controls",
            "_model_module_version": "1.5.0",
            "_model_name": "DescriptionStyleModel",
            "_view_count": null,
            "_view_module": "@jupyter-widgets/base",
            "_view_module_version": "1.2.0",
            "_view_name": "StyleView",
            "description_width": ""
          }
        },
        "34549d28e144468a872a7fafe9666f5f": {
          "model_module": "@jupyter-widgets/controls",
          "model_name": "HBoxModel",
          "model_module_version": "1.5.0",
          "state": {
            "_dom_classes": [],
            "_model_module": "@jupyter-widgets/controls",
            "_model_module_version": "1.5.0",
            "_model_name": "HBoxModel",
            "_view_count": null,
            "_view_module": "@jupyter-widgets/controls",
            "_view_module_version": "1.5.0",
            "_view_name": "HBoxView",
            "box_style": "",
            "children": [
              "IPY_MODEL_3d68f6b475334a21a010bdefffac965c",
              "IPY_MODEL_150acf744b3d49b78a075fbc39ab4844",
              "IPY_MODEL_255175eaff354c40aa7e3fc4a12e49a3"
            ],
            "layout": "IPY_MODEL_a99ffababc5544438f4508fc775f874f"
          }
        },
        "3d68f6b475334a21a010bdefffac965c": {
          "model_module": "@jupyter-widgets/controls",
          "model_name": "HTMLModel",
          "model_module_version": "1.5.0",
          "state": {
            "_dom_classes": [],
            "_model_module": "@jupyter-widgets/controls",
            "_model_module_version": "1.5.0",
            "_model_name": "HTMLModel",
            "_view_count": null,
            "_view_module": "@jupyter-widgets/controls",
            "_view_module_version": "1.5.0",
            "_view_name": "HTMLView",
            "description": "",
            "description_tooltip": null,
            "layout": "IPY_MODEL_66e0c5a72d5845d3b77704d0478de5c5",
            "placeholder": "​",
            "style": "IPY_MODEL_4b710e1c961940999e87f343cf99d227",
            "value": "Batches: 100%"
          }
        },
        "150acf744b3d49b78a075fbc39ab4844": {
          "model_module": "@jupyter-widgets/controls",
          "model_name": "FloatProgressModel",
          "model_module_version": "1.5.0",
          "state": {
            "_dom_classes": [],
            "_model_module": "@jupyter-widgets/controls",
            "_model_module_version": "1.5.0",
            "_model_name": "FloatProgressModel",
            "_view_count": null,
            "_view_module": "@jupyter-widgets/controls",
            "_view_module_version": "1.5.0",
            "_view_name": "ProgressView",
            "bar_style": "success",
            "description": "",
            "description_tooltip": null,
            "layout": "IPY_MODEL_378fa9e63b544179a65a8634d43a5860",
            "max": 502,
            "min": 0,
            "orientation": "horizontal",
            "style": "IPY_MODEL_bb2cf9b905cf42a8806a4d480934472b",
            "value": 502
          }
        },
        "255175eaff354c40aa7e3fc4a12e49a3": {
          "model_module": "@jupyter-widgets/controls",
          "model_name": "HTMLModel",
          "model_module_version": "1.5.0",
          "state": {
            "_dom_classes": [],
            "_model_module": "@jupyter-widgets/controls",
            "_model_module_version": "1.5.0",
            "_model_name": "HTMLModel",
            "_view_count": null,
            "_view_module": "@jupyter-widgets/controls",
            "_view_module_version": "1.5.0",
            "_view_name": "HTMLView",
            "description": "",
            "description_tooltip": null,
            "layout": "IPY_MODEL_4c2919929b3b4903a0afd6e40f7cfadf",
            "placeholder": "​",
            "style": "IPY_MODEL_19521a5afdde4a8c9111c9c4cb3d6ed4",
            "value": " 502/502 [06:55&lt;00:00,  8.53it/s]"
          }
        },
        "a99ffababc5544438f4508fc775f874f": {
          "model_module": "@jupyter-widgets/base",
          "model_name": "LayoutModel",
          "model_module_version": "1.2.0",
          "state": {
            "_model_module": "@jupyter-widgets/base",
            "_model_module_version": "1.2.0",
            "_model_name": "LayoutModel",
            "_view_count": null,
            "_view_module": "@jupyter-widgets/base",
            "_view_module_version": "1.2.0",
            "_view_name": "LayoutView",
            "align_content": null,
            "align_items": null,
            "align_self": null,
            "border": null,
            "bottom": null,
            "display": null,
            "flex": null,
            "flex_flow": null,
            "grid_area": null,
            "grid_auto_columns": null,
            "grid_auto_flow": null,
            "grid_auto_rows": null,
            "grid_column": null,
            "grid_gap": null,
            "grid_row": null,
            "grid_template_areas": null,
            "grid_template_columns": null,
            "grid_template_rows": null,
            "height": null,
            "justify_content": null,
            "justify_items": null,
            "left": null,
            "margin": null,
            "max_height": null,
            "max_width": null,
            "min_height": null,
            "min_width": null,
            "object_fit": null,
            "object_position": null,
            "order": null,
            "overflow": null,
            "overflow_x": null,
            "overflow_y": null,
            "padding": null,
            "right": null,
            "top": null,
            "visibility": null,
            "width": null
          }
        },
        "66e0c5a72d5845d3b77704d0478de5c5": {
          "model_module": "@jupyter-widgets/base",
          "model_name": "LayoutModel",
          "model_module_version": "1.2.0",
          "state": {
            "_model_module": "@jupyter-widgets/base",
            "_model_module_version": "1.2.0",
            "_model_name": "LayoutModel",
            "_view_count": null,
            "_view_module": "@jupyter-widgets/base",
            "_view_module_version": "1.2.0",
            "_view_name": "LayoutView",
            "align_content": null,
            "align_items": null,
            "align_self": null,
            "border": null,
            "bottom": null,
            "display": null,
            "flex": null,
            "flex_flow": null,
            "grid_area": null,
            "grid_auto_columns": null,
            "grid_auto_flow": null,
            "grid_auto_rows": null,
            "grid_column": null,
            "grid_gap": null,
            "grid_row": null,
            "grid_template_areas": null,
            "grid_template_columns": null,
            "grid_template_rows": null,
            "height": null,
            "justify_content": null,
            "justify_items": null,
            "left": null,
            "margin": null,
            "max_height": null,
            "max_width": null,
            "min_height": null,
            "min_width": null,
            "object_fit": null,
            "object_position": null,
            "order": null,
            "overflow": null,
            "overflow_x": null,
            "overflow_y": null,
            "padding": null,
            "right": null,
            "top": null,
            "visibility": null,
            "width": null
          }
        },
        "4b710e1c961940999e87f343cf99d227": {
          "model_module": "@jupyter-widgets/controls",
          "model_name": "DescriptionStyleModel",
          "model_module_version": "1.5.0",
          "state": {
            "_model_module": "@jupyter-widgets/controls",
            "_model_module_version": "1.5.0",
            "_model_name": "DescriptionStyleModel",
            "_view_count": null,
            "_view_module": "@jupyter-widgets/base",
            "_view_module_version": "1.2.0",
            "_view_name": "StyleView",
            "description_width": ""
          }
        },
        "378fa9e63b544179a65a8634d43a5860": {
          "model_module": "@jupyter-widgets/base",
          "model_name": "LayoutModel",
          "model_module_version": "1.2.0",
          "state": {
            "_model_module": "@jupyter-widgets/base",
            "_model_module_version": "1.2.0",
            "_model_name": "LayoutModel",
            "_view_count": null,
            "_view_module": "@jupyter-widgets/base",
            "_view_module_version": "1.2.0",
            "_view_name": "LayoutView",
            "align_content": null,
            "align_items": null,
            "align_self": null,
            "border": null,
            "bottom": null,
            "display": null,
            "flex": null,
            "flex_flow": null,
            "grid_area": null,
            "grid_auto_columns": null,
            "grid_auto_flow": null,
            "grid_auto_rows": null,
            "grid_column": null,
            "grid_gap": null,
            "grid_row": null,
            "grid_template_areas": null,
            "grid_template_columns": null,
            "grid_template_rows": null,
            "height": null,
            "justify_content": null,
            "justify_items": null,
            "left": null,
            "margin": null,
            "max_height": null,
            "max_width": null,
            "min_height": null,
            "min_width": null,
            "object_fit": null,
            "object_position": null,
            "order": null,
            "overflow": null,
            "overflow_x": null,
            "overflow_y": null,
            "padding": null,
            "right": null,
            "top": null,
            "visibility": null,
            "width": null
          }
        },
        "bb2cf9b905cf42a8806a4d480934472b": {
          "model_module": "@jupyter-widgets/controls",
          "model_name": "ProgressStyleModel",
          "model_module_version": "1.5.0",
          "state": {
            "_model_module": "@jupyter-widgets/controls",
            "_model_module_version": "1.5.0",
            "_model_name": "ProgressStyleModel",
            "_view_count": null,
            "_view_module": "@jupyter-widgets/base",
            "_view_module_version": "1.2.0",
            "_view_name": "StyleView",
            "bar_color": null,
            "description_width": ""
          }
        },
        "4c2919929b3b4903a0afd6e40f7cfadf": {
          "model_module": "@jupyter-widgets/base",
          "model_name": "LayoutModel",
          "model_module_version": "1.2.0",
          "state": {
            "_model_module": "@jupyter-widgets/base",
            "_model_module_version": "1.2.0",
            "_model_name": "LayoutModel",
            "_view_count": null,
            "_view_module": "@jupyter-widgets/base",
            "_view_module_version": "1.2.0",
            "_view_name": "LayoutView",
            "align_content": null,
            "align_items": null,
            "align_self": null,
            "border": null,
            "bottom": null,
            "display": null,
            "flex": null,
            "flex_flow": null,
            "grid_area": null,
            "grid_auto_columns": null,
            "grid_auto_flow": null,
            "grid_auto_rows": null,
            "grid_column": null,
            "grid_gap": null,
            "grid_row": null,
            "grid_template_areas": null,
            "grid_template_columns": null,
            "grid_template_rows": null,
            "height": null,
            "justify_content": null,
            "justify_items": null,
            "left": null,
            "margin": null,
            "max_height": null,
            "max_width": null,
            "min_height": null,
            "min_width": null,
            "object_fit": null,
            "object_position": null,
            "order": null,
            "overflow": null,
            "overflow_x": null,
            "overflow_y": null,
            "padding": null,
            "right": null,
            "top": null,
            "visibility": null,
            "width": null
          }
        },
        "19521a5afdde4a8c9111c9c4cb3d6ed4": {
          "model_module": "@jupyter-widgets/controls",
          "model_name": "DescriptionStyleModel",
          "model_module_version": "1.5.0",
          "state": {
            "_model_module": "@jupyter-widgets/controls",
            "_model_module_version": "1.5.0",
            "_model_name": "DescriptionStyleModel",
            "_view_count": null,
            "_view_module": "@jupyter-widgets/base",
            "_view_module_version": "1.2.0",
            "_view_name": "StyleView",
            "description_width": ""
          }
        }
      }
    }
  },
  "cells": [
    {
      "cell_type": "markdown",
      "source": [
        "# Set Environment"
      ],
      "metadata": {
        "id": "ProdpJjhBjmM"
      }
    },
    {
      "cell_type": "code",
      "source": [
        "%mkdir neshan\n",
        "! pip install virtualenv > /dev/null\n",
        "! virtualenv neshan  > /dev/null\n",
        "! neshan/bin/pip install hazm > /dev/null"
      ],
      "metadata": {
        "id": "ZON54uMQBaUS"
      },
      "execution_count": 1,
      "outputs": []
    },
    {
      "cell_type": "code",
      "source": [
        "! neshan/bin/pip install transformers > /dev/null"
      ],
      "metadata": {
        "id": "sjl8QpBqA6QX"
      },
      "execution_count": 2,
      "outputs": []
    },
    {
      "cell_type": "code",
      "source": [
        "! pip install accelerate==0.20.3  > /dev/null"
      ],
      "metadata": {
        "id": "N5rqYCbiQJ9P"
      },
      "execution_count": 3,
      "outputs": []
    },
    {
      "cell_type": "code",
      "source": [
        "! neshan/bin/pip install transformers[torch] > /dev/null"
      ],
      "metadata": {
        "id": "45BD7HguN7NW"
      },
      "execution_count": 4,
      "outputs": []
    },
    {
      "cell_type": "code",
      "source": [
        "! neshan/bin/pip install accelerate -U > /dev/null"
      ],
      "metadata": {
        "id": "atojeisuOEHV"
      },
      "execution_count": 5,
      "outputs": []
    },
    {
      "cell_type": "code",
      "source": [
        "! pip install sentence-transformers  > /dev/null"
      ],
      "metadata": {
        "id": "q5acPGBvPP_e"
      },
      "execution_count": 8,
      "outputs": []
    },
    {
      "cell_type": "code",
      "source": [
        "import sys\n",
        "sys.path.append(\"neshan/lib/python3.10/site-packages\")\n",
        "\n",
        "\n",
        "import hazm\n",
        "import torch\n",
        "import warnings\n",
        "import pandas as pd\n",
        "from sklearn.model_selection import train_test_split\n",
        "from transformers import TrainingArguments, Trainer\n",
        "from hazm import Normalizer, Stemmer, word_tokenize, stopwords_list\n",
        "from sentence_transformers import SentenceTransformer\n",
        "from sklearn.linear_model import LogisticRegression\n",
        "from sklearn.metrics import classification_report\n",
        "from torch.utils.data import DataLoader, TensorDataset\n",
        "from transformers import BertTokenizer, BertForSequenceClassification, AdamW, get_linear_schedule_with_warmup\n",
        "\n",
        "warnings.filterwarnings(\"ignore\")"
      ],
      "metadata": {
        "id": "3-ruayIfBcjW"
      },
      "execution_count": 21,
      "outputs": []
    },
    {
      "cell_type": "code",
      "source": [
        "! neshan/bin/pip list"
      ],
      "metadata": {
        "colab": {
          "base_uri": "https://localhost:8080/"
        },
        "id": "GBoNPwFDRN6G",
        "outputId": "fc36e0a5-2aea-44a4-dec1-0eecbd8bdf1c"
      },
      "execution_count": null,
      "outputs": [
        {
          "output_type": "stream",
          "name": "stdout",
          "text": [
            "Package                  Version\n",
            "------------------------ ----------\n",
            "accelerate               0.23.0\n",
            "certifi                  2023.7.22\n",
            "charset-normalizer       3.2.0\n",
            "click                    8.1.7\n",
            "cmake                    3.27.4.1\n",
            "fasttext-wheel           0.9.2\n",
            "filelock                 3.12.4\n",
            "fsspec                   2023.9.1\n",
            "gensim                   4.3.2\n",
            "hazm                     0.9.3\n",
            "huggingface-hub          0.17.1\n",
            "idna                     3.4\n",
            "Jinja2                   3.1.2\n",
            "joblib                   1.3.2\n",
            "lit                      16.0.6\n",
            "MarkupSafe               2.1.3\n",
            "mpmath                   1.3.0\n",
            "networkx                 3.1\n",
            "nltk                     3.8.1\n",
            "numpy                    1.26.0\n",
            "nvidia-cublas-cu11       11.10.3.66\n",
            "nvidia-cuda-cupti-cu11   11.7.101\n",
            "nvidia-cuda-nvrtc-cu11   11.7.99\n",
            "nvidia-cuda-runtime-cu11 11.7.99\n",
            "nvidia-cudnn-cu11        8.5.0.96\n",
            "nvidia-cufft-cu11        10.9.0.58\n",
            "nvidia-curand-cu11       10.2.10.91\n",
            "nvidia-cusolver-cu11     11.4.0.1\n",
            "nvidia-cusparse-cu11     11.7.4.91\n",
            "nvidia-nccl-cu11         2.14.3\n",
            "nvidia-nvtx-cu11         11.7.91\n",
            "packaging                23.1\n",
            "pip                      23.2.1\n",
            "psutil                   5.9.5\n",
            "pybind11                 2.11.1\n",
            "python-crfsuite          0.9.9\n",
            "PyYAML                   6.0.1\n",
            "regex                    2023.8.8\n",
            "requests                 2.31.0\n",
            "safetensors              0.3.3\n",
            "scikit-learn             1.3.0\n",
            "scipy                    1.11.2\n",
            "setuptools               68.2.0\n",
            "smart-open               6.4.0\n",
            "sympy                    1.12\n",
            "threadpoolctl            3.2.0\n",
            "tokenizers               0.13.3\n",
            "torch                    2.0.1\n",
            "tqdm                     4.66.1\n",
            "transformers             4.33.2\n",
            "triton                   2.0.0\n",
            "typing_extensions        4.7.1\n",
            "urllib3                  2.0.4\n",
            "wheel                    0.41.2\n"
          ]
        }
      ]
    },
    {
      "cell_type": "markdown",
      "source": [
        "# Read/Prepare Dataset"
      ],
      "metadata": {
        "id": "0wRRCEK0BgxB"
      }
    },
    {
      "cell_type": "code",
      "source": [
        "! unzip /content/drive/MyDrive/Data\\ \\Scientist/nlp/project_1_data/hamshahri_dataset.zip > /dev/null"
      ],
      "metadata": {
        "id": "H49kS0imBjB6"
      },
      "execution_count": 7,
      "outputs": []
    },
    {
      "cell_type": "markdown",
      "source": [
        "## Using BERT as Feature Extractor"
      ],
      "metadata": {
        "id": "I84Z1k3sswv2"
      }
    },
    {
      "cell_type": "code",
      "source": [
        "normalizer = Normalizer()\n",
        "stemmer = Stemmer()\n",
        "stopwords = stopwords_list()\n",
        "\n",
        "def preprocess_text(text):\n",
        "    text = normalizer.normalize(text)\n",
        "    tokens = word_tokenize(text)\n",
        "    tokens = [stemmer.stem(token) for token in tokens if token not in stopwords]\n",
        "    return ' '.join(tokens)"
      ],
      "metadata": {
        "id": "BsV37N8vM4Jg"
      },
      "execution_count": null,
      "outputs": []
    },
    {
      "cell_type": "code",
      "source": [
        "df = pd.read_csv('/content/hamshahri_dataset/train.csv')\n",
        "df.rename(columns={'CAT[2]/text()': 'category',\n",
        "                   'TEXT[1]/text()': 'text', 'Unnamed: 0': 'id'}, inplace=True)\n",
        "df.drop(columns=['id'], inplace=True)\n",
        "\n",
        "df['processed_text'] = df['text'].apply(preprocess_text)"
      ],
      "metadata": {
        "id": "ReqxfHPTNEvq"
      },
      "execution_count": null,
      "outputs": []
    },
    {
      "cell_type": "code",
      "source": [
        "model_name = \"bert-base-multilingual-cased\"\n",
        "model = SentenceTransformer(model_name)\n",
        "\n",
        "embeddings = model.encode(df['processed_text'].tolist(), show_progress_bar=True)\n",
        "\n",
        "X_train, X_test, y_train, y_test = train_test_split(embeddings, df['category'],\n",
        "                                                    test_size=0.2,\n",
        "                                                    random_state=42)\n",
        "\n",
        "classifier = LogisticRegression()\n",
        "classifier.fit(X_train, y_train)\n",
        "\n",
        "y_pred = classifier.predict(X_test)\n",
        "\n",
        "print(classification_report(y_test, y_pred))"
      ],
      "metadata": {
        "colab": {
          "base_uri": "https://localhost:8080/",
          "height": 471,
          "referenced_widgets": [
            "51a4fa52e8ac4ac2a2020e6451fad460",
            "f93be77e567c4106930f3bbdaf6ee0d2",
            "f9b9fa11364d41b188ea32cbf357d879",
            "bb6c9dcc254a4cf79575b94b19ff0985",
            "71e0dbe805224930a5050de55adcc3cd",
            "4fac81cbd9ad4391b3691775aa91ea89",
            "3f14d90d11e24ab4956f3def9353ba66",
            "0f326412f6b04466b020048815403ef2",
            "97f9252dafb94ff3ab030b69b1f5d248",
            "c78cb4f1f1f847b3ba2859b87f4bdd2b",
            "c7ac17a533944697908aff2e2c1453c2"
          ]
        },
        "id": "5RJjY3gVJvNZ",
        "outputId": "9ec7e85a-a8a9-4320-dea0-6d48bb0cda67"
      },
      "execution_count": null,
      "outputs": [
        {
          "output_type": "stream",
          "name": "stderr",
          "text": [
            "WARNING:sentence_transformers.SentenceTransformer:No sentence-transformers model found with name /root/.cache/torch/sentence_transformers/bert-base-multilingual-cased. Creating a new one with MEAN pooling.\n"
          ]
        },
        {
          "output_type": "display_data",
          "data": {
            "text/plain": [
              "Batches:   0%|          | 0/2005 [00:00<?, ?it/s]"
            ],
            "application/vnd.jupyter.widget-view+json": {
              "version_major": 2,
              "version_minor": 0,
              "model_id": "51a4fa52e8ac4ac2a2020e6451fad460"
            }
          },
          "metadata": {}
        },
        {
          "output_type": "stream",
          "name": "stderr",
          "text": [
            "/usr/local/lib/python3.10/dist-packages/sklearn/linear_model/_logistic.py:458: ConvergenceWarning: lbfgs failed to converge (status=1):\n",
            "STOP: TOTAL NO. of ITERATIONS REACHED LIMIT.\n",
            "\n",
            "Increase the number of iterations (max_iter) or scale the data as shown in:\n",
            "    https://scikit-learn.org/stable/modules/preprocessing.html\n",
            "Please also refer to the documentation for alternative solver options:\n",
            "    https://scikit-learn.org/stable/modules/linear_model.html#logistic-regression\n",
            "  n_iter_i = _check_optimize_result(\n"
          ]
        },
        {
          "output_type": "stream",
          "name": "stdout",
          "text": [
            "                     precision    recall  f1-score   support\n",
            "\n",
            "            Economy       0.92      0.92      0.92      3221\n",
            " Literature and Art       0.84      0.81      0.82       833\n",
            "           Politics       0.85      0.89      0.87      3031\n",
            "Science and Culture       0.80      0.81      0.81      1811\n",
            "             Social       0.77      0.69      0.73      1453\n",
            "              Sport       0.99      0.98      0.98      2479\n",
            "\n",
            "           accuracy                           0.88     12828\n",
            "          macro avg       0.86      0.85      0.85     12828\n",
            "       weighted avg       0.88      0.88      0.88     12828\n",
            "\n"
          ]
        }
      ]
    },
    {
      "cell_type": "markdown",
      "source": [
        "## Test on real test set!"
      ],
      "metadata": {
        "id": "XDmImUJJs92Y"
      }
    },
    {
      "cell_type": "code",
      "source": [
        "test_df = pd.read_csv('/content/hamshahri_dataset/test.csv')\n",
        "test_df.rename(columns={'CAT[2]/text()': 'category',\n",
        "                   'TEXT[1]/text()': 'text', 'Unnamed: 0': 'id'}, inplace=True)\n",
        "test_df.drop(columns=['id'], inplace=True)\n",
        "\n",
        "test_df['processed_text'] = test_df['text'].apply(preprocess_text)\n",
        "\n",
        "test_embeddings = model.encode(test_df['processed_text'].tolist(), s\n",
        "                               how_progress_bar=True)\n",
        "\n",
        "test_predictions = classifier.predict(test_embeddings)\n",
        "print(classification_report(test_df['category'], test_predictions))"
      ],
      "metadata": {
        "colab": {
          "base_uri": "https://localhost:8080/",
          "height": 286,
          "referenced_widgets": [
            "34549d28e144468a872a7fafe9666f5f",
            "3d68f6b475334a21a010bdefffac965c",
            "150acf744b3d49b78a075fbc39ab4844",
            "255175eaff354c40aa7e3fc4a12e49a3",
            "a99ffababc5544438f4508fc775f874f",
            "66e0c5a72d5845d3b77704d0478de5c5",
            "4b710e1c961940999e87f343cf99d227",
            "378fa9e63b544179a65a8634d43a5860",
            "bb2cf9b905cf42a8806a4d480934472b",
            "4c2919929b3b4903a0afd6e40f7cfadf",
            "19521a5afdde4a8c9111c9c4cb3d6ed4"
          ]
        },
        "id": "Im6OpsoPL0kD",
        "outputId": "f680bc14-61ed-43a4-a5fb-f197c5e40b9f"
      },
      "execution_count": null,
      "outputs": [
        {
          "output_type": "display_data",
          "data": {
            "text/plain": [
              "Batches:   0%|          | 0/502 [00:00<?, ?it/s]"
            ],
            "application/vnd.jupyter.widget-view+json": {
              "version_major": 2,
              "version_minor": 0,
              "model_id": "34549d28e144468a872a7fafe9666f5f"
            }
          },
          "metadata": {}
        },
        {
          "output_type": "stream",
          "name": "stdout",
          "text": [
            "                     precision    recall  f1-score   support\n",
            "\n",
            "            Economy       0.92      0.92      0.92      3967\n",
            " Literature and Art       0.82      0.81      0.81      1037\n",
            "           Politics       0.86      0.88      0.87      3788\n",
            "Science and Culture       0.79      0.82      0.80      2336\n",
            "             Social       0.75      0.67      0.71      1776\n",
            "              Sport       0.99      0.98      0.98      3132\n",
            "\n",
            "           accuracy                           0.87     16036\n",
            "          macro avg       0.85      0.85      0.85     16036\n",
            "       weighted avg       0.87      0.87      0.87     16036\n",
            "\n"
          ]
        }
      ]
    },
    {
      "cell_type": "markdown",
      "source": [
        "# Fine-tune"
      ],
      "metadata": {
        "id": "HgZBxXzCMdaK"
      }
    },
    {
      "cell_type": "code",
      "source": [
        "df['category'].unique()"
      ],
      "metadata": {
        "colab": {
          "base_uri": "https://localhost:8080/"
        },
        "id": "omJ8eZ-LR0Rk",
        "outputId": "3acf47f9-509d-4253-9d1c-1f81d0651a1b"
      },
      "execution_count": 15,
      "outputs": [
        {
          "output_type": "execute_result",
          "data": {
            "text/plain": [
              "array(['Literature and Art', 'Sport', 'Social', 'Economy', 'Politics',\n",
              "       'Science and Culture'], dtype=object)"
            ]
          },
          "metadata": {},
          "execution_count": 15
        }
      ]
    },
    {
      "cell_type": "code",
      "source": [
        "df = pd.read_csv('/content/hamshahri_dataset/train.csv')\n",
        "df.rename(columns={'CAT[2]/text()': 'category', 'TEXT[1]/text()': 'text',\n",
        "                   'Unnamed: 0': 'id'}, inplace=True)\n",
        "\n",
        "df.drop(columns=['id'], inplace=True)\n",
        "df = df.sample(frac=0.2, random_state=1)     # Sampling? :)\n",
        "df['category'] = df['category'].replace(['Literature and Art', 'Sport',\n",
        "                                         'Social', 'Economy', 'Politics',\n",
        "                                         'Science and Culture'],\n",
        "                                          [0, 1, 2, 3, 4, 5])\n",
        "\n",
        "X_train = df['text']\n",
        "y_train = df['category']\n",
        "tokenizer = BertTokenizer.from_pretrained(\"bert-base-multilingual-cased\",\n",
        "                                          do_lower_case=False)\n",
        "\n",
        "X_train_encoded = tokenizer(list(X_train), truncation=True, padding=True,\n",
        "                            return_tensors=\"pt\", max_length=128)\n",
        "y_train = torch.tensor(y_train.tolist())\n",
        "\n",
        "train_dataset = TensorDataset(X_train_encoded[\"input_ids\"],\n",
        "                              X_train_encoded[\"attention_mask\"], y_train)\n",
        "train_loader = DataLoader(train_dataset, batch_size=16, shuffle=True)"
      ],
      "metadata": {
        "id": "EwW-dKp7NqQO"
      },
      "execution_count": 35,
      "outputs": []
    },
    {
      "cell_type": "code",
      "source": [
        "model = BertForSequenceClassification.from_pretrained(\"bert-base-multilingual-cased\",\n",
        "                                                      num_labels=len(df['category'].unique()))\n",
        "\n",
        "optimizer = AdamW(model.parameters(), lr=2e-5)\n",
        "scheduler = get_linear_schedule_with_warmup(optimizer,\n",
        "                                            num_warmup_steps=0,\n",
        "                                            num_training_steps=len(train_loader) * 3)\n",
        "\n",
        "device = torch.device(\"cuda\" if torch.cuda.is_available() else \"cpu\")\n",
        "model.to(device)\n",
        "\n",
        "epochs = 5\n",
        "for epoch in range(epochs):\n",
        "    model.train()\n",
        "    total_loss = 0\n",
        "\n",
        "    for batch in tqdm(train_loader, desc=f\"Epoch {epoch + 1}\"):\n",
        "        input_ids, attention_mask, labels = batch\n",
        "        input_ids = input_ids.to(device)\n",
        "        attention_mask = attention_mask.to(device)\n",
        "        labels = labels.to(device)\n",
        "\n",
        "        outputs = model(input_ids, attention_mask=attention_mask, labels=labels)\n",
        "        loss = outputs.loss\n",
        "\n",
        "        loss.backward()\n",
        "        total_loss += loss.item()\n",
        "        torch.nn.utils.clip_grad_norm_(model.parameters(), 1.0)\n",
        "        optimizer.step()\n",
        "        scheduler.step()\n",
        "        optimizer.zero_grad()\n",
        "\n",
        "    print(f\"\\nEpoch {epoch + 1}, Loss: {total_loss}\")"
      ],
      "metadata": {
        "colab": {
          "base_uri": "https://localhost:8080/"
        },
        "id": "E0C3kQZYMeit",
        "outputId": "9bf6c02a-390c-43e6-fa9d-44d32ea36478"
      },
      "execution_count": 37,
      "outputs": [
        {
          "output_type": "stream",
          "name": "stderr",
          "text": [
            "Some weights of BertForSequenceClassification were not initialized from the model checkpoint at bert-base-multilingual-cased and are newly initialized: ['classifier.weight', 'classifier.bias']\n",
            "You should probably TRAIN this model on a down-stream task to be able to use it for predictions and inference.\n",
            "Epoch 1: 100%|██████████| 802/802 [05:14<00:00,  2.55it/s]\n"
          ]
        },
        {
          "output_type": "stream",
          "name": "stdout",
          "text": [
            "Epoch 1, Loss: 403.0851493421942\n"
          ]
        },
        {
          "output_type": "stream",
          "name": "stderr",
          "text": [
            "Epoch 2: 100%|██████████| 802/802 [05:23<00:00,  2.48it/s]\n"
          ]
        },
        {
          "output_type": "stream",
          "name": "stdout",
          "text": [
            "Epoch 2, Loss: 210.9157286696136\n"
          ]
        },
        {
          "output_type": "stream",
          "name": "stderr",
          "text": [
            "Epoch 3: 100%|██████████| 802/802 [05:21<00:00,  2.50it/s]\n"
          ]
        },
        {
          "output_type": "stream",
          "name": "stdout",
          "text": [
            "Epoch 3, Loss: 143.4076062082313\n"
          ]
        },
        {
          "output_type": "stream",
          "name": "stderr",
          "text": [
            "Epoch 4: 100%|██████████| 802/802 [05:21<00:00,  2.50it/s]\n"
          ]
        },
        {
          "output_type": "stream",
          "name": "stdout",
          "text": [
            "Epoch 4, Loss: 109.94394757272676\n"
          ]
        },
        {
          "output_type": "stream",
          "name": "stderr",
          "text": [
            "Epoch 5: 100%|██████████| 802/802 [05:21<00:00,  2.50it/s]"
          ]
        },
        {
          "output_type": "stream",
          "name": "stdout",
          "text": [
            "Epoch 5, Loss: 111.75838274881244\n"
          ]
        },
        {
          "output_type": "stream",
          "name": "stderr",
          "text": [
            "\n"
          ]
        }
      ]
    },
    {
      "cell_type": "code",
      "source": [
        "! nvidia-smi"
      ],
      "metadata": {
        "colab": {
          "base_uri": "https://localhost:8080/"
        },
        "id": "FTLZvuoFkyfi",
        "outputId": "6a61808b-1b23-402b-962d-e57842afa648"
      },
      "execution_count": 27,
      "outputs": [
        {
          "output_type": "stream",
          "name": "stdout",
          "text": [
            "Sun Sep 17 14:39:33 2023       \n",
            "+-----------------------------------------------------------------------------+\n",
            "| NVIDIA-SMI 525.105.17   Driver Version: 525.105.17   CUDA Version: 12.0     |\n",
            "|-------------------------------+----------------------+----------------------+\n",
            "| GPU  Name        Persistence-M| Bus-Id        Disp.A | Volatile Uncorr. ECC |\n",
            "| Fan  Temp  Perf  Pwr:Usage/Cap|         Memory-Usage | GPU-Util  Compute M. |\n",
            "|                               |                      |               MIG M. |\n",
            "|===============================+======================+======================|\n",
            "|   0  Tesla T4            Off  | 00000000:00:04.0 Off |                    0 |\n",
            "| N/A   75C    P0    33W /  70W |  13639MiB / 15360MiB |      0%      Default |\n",
            "|                               |                      |                  N/A |\n",
            "+-------------------------------+----------------------+----------------------+\n",
            "                                                                               \n",
            "+-----------------------------------------------------------------------------+\n",
            "| Processes:                                                                  |\n",
            "|  GPU   GI   CI        PID   Type   Process name                  GPU Memory |\n",
            "|        ID   ID                                                   Usage      |\n",
            "|=============================================================================|\n",
            "+-----------------------------------------------------------------------------+\n"
          ]
        }
      ]
    },
    {
      "cell_type": "code",
      "source": [
        "torch.cuda.empty_cache()"
      ],
      "metadata": {
        "id": "GxKIU27_kf65"
      },
      "execution_count": 24,
      "outputs": []
    },
    {
      "cell_type": "markdown",
      "source": [
        "# Now, let's test our model!"
      ],
      "metadata": {
        "id": "suV0luh-nqU-"
      }
    },
    {
      "cell_type": "code",
      "source": [
        "test_df = pd.read_csv('/content/hamshahri_dataset/test.csv')\n",
        "test_df.rename(columns={'CAT[2]/text()': 'category',\n",
        "                   'TEXT[1]/text()': 'text', 'Unnamed: 0': 'id'}, inplace=True)\n",
        "test_df.drop(columns=['id'], inplace=True)\n",
        "test_df['category'] = test_df['category'].replace(['Literature and Art', 'Sport', 'Social', 'Economy', 'Politics', 'Science and Culture'],[0, 1, 2, 3, 4, 5])\n",
        "test_texts = test_df['text'].tolist()\n",
        "y_test = test_df['category']\n",
        "y_test = torch.tensor(y_test.tolist())\n",
        "\n",
        "tokenizer = BertTokenizer.from_pretrained(\"bert-base-multilingual-cased\", do_lower_case=False)\n",
        "test_encoded = tokenizer(test_texts, truncation=True, padding=True, return_tensors=\"pt\", max_length=128)\n",
        "test_dataset = TensorDataset(test_encoded[\"input_ids\"], test_encoded[\"attention_mask\"], y_test)"
      ],
      "metadata": {
        "id": "k8lVpCappd69"
      },
      "execution_count": 44,
      "outputs": []
    },
    {
      "cell_type": "code",
      "source": [
        "test_batch_size = 4\n",
        "test_loader = DataLoader(test_dataset, batch_size=test_batch_size)\n",
        "\n",
        "model.eval()\n",
        "predictions = []\n",
        "true_labels = []\n",
        "\n",
        "with torch.no_grad():\n",
        "    for batch in tqdm(test_loader, desc=\"Inference\"):\n",
        "        input_ids, attention_mask, labels = batch\n",
        "        input_ids = input_ids.to(device)\n",
        "        attention_mask = attention_mask.to(device)\n",
        "\n",
        "        outputs = model(input_ids, attention_mask=attention_mask)\n",
        "        logits = outputs.logits\n",
        "        batch_predictions = torch.argmax(logits, dim=1).cpu().numpy()\n",
        "\n",
        "        predictions.extend(batch_predictions)\n",
        "        true_labels.extend(labels.cpu().numpy())\n",
        "\n",
        "        torch.cuda.empty_cache()\n",
        "\n",
        "print(classification_report(true_labels, predictions))"
      ],
      "metadata": {
        "colab": {
          "base_uri": "https://localhost:8080/"
        },
        "id": "fY0FjZOYorDv",
        "outputId": "650fc4b7-6556-408b-bfa8-ad00c8861c69"
      },
      "execution_count": 45,
      "outputs": [
        {
          "output_type": "stream",
          "name": "stderr",
          "text": [
            "Inference: 100%|██████████| 4009/4009 [02:15<00:00, 29.68it/s]\n"
          ]
        },
        {
          "output_type": "stream",
          "name": "stdout",
          "text": [
            "              precision    recall  f1-score   support\n",
            "\n",
            "           0       0.80      0.90      0.85      1037\n",
            "           1       0.99      0.98      0.98      3132\n",
            "           2       0.82      0.82      0.82      1776\n",
            "           3       0.94      0.96      0.95      3967\n",
            "           4       0.95      0.91      0.93      3788\n",
            "           5       0.87      0.85      0.86      2336\n",
            "\n",
            "    accuracy                           0.92     16036\n",
            "   macro avg       0.90      0.90      0.90     16036\n",
            "weighted avg       0.92      0.92      0.92     16036\n",
            "\n"
          ]
        }
      ]
    },
    {
      "cell_type": "code",
      "source": [],
      "metadata": {
        "id": "UfyujNwV1aoi"
      },
      "execution_count": null,
      "outputs": []
    }
  ]
}